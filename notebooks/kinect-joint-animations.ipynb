{
 "cells": [
  {
   "cell_type": "code",
   "execution_count": 1,
   "id": "185c4585-674f-4c83-8f71-fbb734c729e6",
   "metadata": {},
   "outputs": [],
   "source": [
    "import pandas as pd\n",
    "import numpy as np\n",
    "import matplotlib.pyplot as plt\n",
    "from mpl_toolkits.mplot3d import Axes3D\n",
    "import glob"
   ]
  },
  {
   "cell_type": "code",
   "execution_count": 2,
   "id": "51cbf785-e69f-417f-82f0-1fbcf821c8a5",
   "metadata": {},
   "outputs": [],
   "source": [
    "%matplotlib widget"
   ]
  },
  {
   "cell_type": "markdown",
   "id": "e7e700db-6834-4cf3-b293-e36bdfb0bb76",
   "metadata": {},
   "source": [
    "# Preliminary\n",
    "\n",
    "Lets extract start and stop time stamps from a subject, then extract their kinect data, and try and plot it as a 3D plot."
   ]
  },
  {
   "cell_type": "code",
   "execution_count": 3,
   "id": "29baa34c-8988-44ca-8ea8-753b95ef9391",
   "metadata": {},
   "outputs": [],
   "source": [
    "data_file = '../data/response-joint-displacements.csv'\n",
    "subject_df = pd.read_csv(data_file)"
   ]
  },
  {
   "cell_type": "code",
   "execution_count": 4,
   "id": "e8d6ca4c-d0d3-494e-9d2e-f743025bfc57",
   "metadata": {},
   "outputs": [
    {
     "data": {
      "text/html": [
       "<div>\n",
       "<style scoped>\n",
       "    .dataframe tbody tr th:only-of-type {\n",
       "        vertical-align: middle;\n",
       "    }\n",
       "\n",
       "    .dataframe tbody tr th {\n",
       "        vertical-align: top;\n",
       "    }\n",
       "\n",
       "    .dataframe thead th {\n",
       "        text-align: right;\n",
       "    }\n",
       "</style>\n",
       "<table border=\"1\" class=\"dataframe\">\n",
       "  <thead>\n",
       "    <tr style=\"text-align: right;\">\n",
       "      <th></th>\n",
       "      <th>participant</th>\n",
       "      <th>session</th>\n",
       "      <th>condition</th>\n",
       "      <th>blockNum</th>\n",
       "      <th>trialNum</th>\n",
       "      <th>reactionTime</th>\n",
       "      <th>utcTime</th>\n",
       "      <th>jointHeadDisplacement</th>\n",
       "      <th>jointTorsoDisplacement</th>\n",
       "      <th>jointNeckDisplacement</th>\n",
       "      <th>...</th>\n",
       "      <th>jointLeftElbowDisplacement</th>\n",
       "      <th>jointRightElbowDisplacement</th>\n",
       "      <th>jointLeftHandDisplacement</th>\n",
       "      <th>jointRightHandDisplacement</th>\n",
       "      <th>jointLeftHipDisplacement</th>\n",
       "      <th>jointRightHipDisplacement</th>\n",
       "      <th>jointLeftKneeDisplacement</th>\n",
       "      <th>jointRightKneeDisplacement</th>\n",
       "      <th>jointLeftFootDisplacement</th>\n",
       "      <th>jointRightFootDisplacement</th>\n",
       "    </tr>\n",
       "  </thead>\n",
       "  <tbody>\n",
       "    <tr>\n",
       "      <th>count</th>\n",
       "      <td>6514.000000</td>\n",
       "      <td>6514.0</td>\n",
       "      <td>6514.000000</td>\n",
       "      <td>6514.000000</td>\n",
       "      <td>6514.000000</td>\n",
       "      <td>6514.000000</td>\n",
       "      <td>6.514000e+03</td>\n",
       "      <td>6514.000000</td>\n",
       "      <td>6514.000000</td>\n",
       "      <td>6514.000000</td>\n",
       "      <td>...</td>\n",
       "      <td>6514.000000</td>\n",
       "      <td>6514.000000</td>\n",
       "      <td>6514.000000</td>\n",
       "      <td>6514.000000</td>\n",
       "      <td>6514.000000</td>\n",
       "      <td>6514.000000</td>\n",
       "      <td>6514.000000</td>\n",
       "      <td>6514.000000</td>\n",
       "      <td>6514.000000</td>\n",
       "      <td>6514.000000</td>\n",
       "    </tr>\n",
       "    <tr>\n",
       "      <th>mean</th>\n",
       "      <td>9.221676</td>\n",
       "      <td>1.0</td>\n",
       "      <td>7.313172</td>\n",
       "      <td>2.503684</td>\n",
       "      <td>25.021646</td>\n",
       "      <td>0.583009</td>\n",
       "      <td>1.636760e+09</td>\n",
       "      <td>61.336856</td>\n",
       "      <td>102.888615</td>\n",
       "      <td>67.543049</td>\n",
       "      <td>...</td>\n",
       "      <td>112.453882</td>\n",
       "      <td>102.106101</td>\n",
       "      <td>118.376932</td>\n",
       "      <td>110.109845</td>\n",
       "      <td>165.276196</td>\n",
       "      <td>158.573616</td>\n",
       "      <td>560.472618</td>\n",
       "      <td>428.986583</td>\n",
       "      <td>799.526003</td>\n",
       "      <td>471.205606</td>\n",
       "    </tr>\n",
       "    <tr>\n",
       "      <th>std</th>\n",
       "      <td>5.161121</td>\n",
       "      <td>0.0</td>\n",
       "      <td>4.683916</td>\n",
       "      <td>1.118251</td>\n",
       "      <td>14.153758</td>\n",
       "      <td>0.239569</td>\n",
       "      <td>1.905036e+05</td>\n",
       "      <td>53.527581</td>\n",
       "      <td>76.309727</td>\n",
       "      <td>52.322078</td>\n",
       "      <td>...</td>\n",
       "      <td>92.398315</td>\n",
       "      <td>94.658223</td>\n",
       "      <td>104.415651</td>\n",
       "      <td>133.051250</td>\n",
       "      <td>115.693887</td>\n",
       "      <td>114.681618</td>\n",
       "      <td>909.747133</td>\n",
       "      <td>477.839313</td>\n",
       "      <td>1527.453981</td>\n",
       "      <td>651.254788</td>\n",
       "    </tr>\n",
       "    <tr>\n",
       "      <th>min</th>\n",
       "      <td>1.000000</td>\n",
       "      <td>1.0</td>\n",
       "      <td>1.000000</td>\n",
       "      <td>1.000000</td>\n",
       "      <td>1.000000</td>\n",
       "      <td>0.106912</td>\n",
       "      <td>1.636562e+09</td>\n",
       "      <td>19.310446</td>\n",
       "      <td>24.667556</td>\n",
       "      <td>21.497591</td>\n",
       "      <td>...</td>\n",
       "      <td>19.760854</td>\n",
       "      <td>0.410222</td>\n",
       "      <td>29.807625</td>\n",
       "      <td>6.320364</td>\n",
       "      <td>34.304028</td>\n",
       "      <td>34.657759</td>\n",
       "      <td>44.212334</td>\n",
       "      <td>40.213189</td>\n",
       "      <td>44.213822</td>\n",
       "      <td>0.000000</td>\n",
       "    </tr>\n",
       "    <tr>\n",
       "      <th>25%</th>\n",
       "      <td>5.000000</td>\n",
       "      <td>1.0</td>\n",
       "      <td>3.000000</td>\n",
       "      <td>2.000000</td>\n",
       "      <td>13.000000</td>\n",
       "      <td>0.403815</td>\n",
       "      <td>1.636576e+09</td>\n",
       "      <td>38.898241</td>\n",
       "      <td>63.007610</td>\n",
       "      <td>41.935032</td>\n",
       "      <td>...</td>\n",
       "      <td>67.433614</td>\n",
       "      <td>47.452514</td>\n",
       "      <td>69.559235</td>\n",
       "      <td>47.124143</td>\n",
       "      <td>106.860163</td>\n",
       "      <td>93.653876</td>\n",
       "      <td>122.988145</td>\n",
       "      <td>143.266146</td>\n",
       "      <td>122.554225</td>\n",
       "      <td>115.954818</td>\n",
       "    </tr>\n",
       "    <tr>\n",
       "      <th>50%</th>\n",
       "      <td>9.000000</td>\n",
       "      <td>1.0</td>\n",
       "      <td>7.000000</td>\n",
       "      <td>3.000000</td>\n",
       "      <td>25.000000</td>\n",
       "      <td>0.522952</td>\n",
       "      <td>1.636735e+09</td>\n",
       "      <td>50.176716</td>\n",
       "      <td>83.368763</td>\n",
       "      <td>53.844121</td>\n",
       "      <td>...</td>\n",
       "      <td>89.878070</td>\n",
       "      <td>79.424243</td>\n",
       "      <td>91.673295</td>\n",
       "      <td>79.570959</td>\n",
       "      <td>138.106778</td>\n",
       "      <td>127.750087</td>\n",
       "      <td>187.025809</td>\n",
       "      <td>235.294602</td>\n",
       "      <td>195.799583</td>\n",
       "      <td>223.051799</td>\n",
       "    </tr>\n",
       "    <tr>\n",
       "      <th>75%</th>\n",
       "      <td>13.000000</td>\n",
       "      <td>1.0</td>\n",
       "      <td>11.000000</td>\n",
       "      <td>4.000000</td>\n",
       "      <td>37.000000</td>\n",
       "      <td>0.703393</td>\n",
       "      <td>1.636993e+09</td>\n",
       "      <td>67.257023</td>\n",
       "      <td>119.953983</td>\n",
       "      <td>75.127802</td>\n",
       "      <td>...</td>\n",
       "      <td>124.096940</td>\n",
       "      <td>122.055538</td>\n",
       "      <td>126.205043</td>\n",
       "      <td>124.061780</td>\n",
       "      <td>188.301995</td>\n",
       "      <td>191.635773</td>\n",
       "      <td>461.238083</td>\n",
       "      <td>511.522290</td>\n",
       "      <td>581.647564</td>\n",
       "      <td>516.435495</td>\n",
       "    </tr>\n",
       "    <tr>\n",
       "      <th>max</th>\n",
       "      <td>18.000000</td>\n",
       "      <td>1.0</td>\n",
       "      <td>16.000000</td>\n",
       "      <td>4.000000</td>\n",
       "      <td>49.000000</td>\n",
       "      <td>1.466526</td>\n",
       "      <td>1.637084e+09</td>\n",
       "      <td>1600.613448</td>\n",
       "      <td>1126.732394</td>\n",
       "      <td>1204.091096</td>\n",
       "      <td>...</td>\n",
       "      <td>1345.467541</td>\n",
       "      <td>1453.554864</td>\n",
       "      <td>1345.468265</td>\n",
       "      <td>2499.303866</td>\n",
       "      <td>1779.127668</td>\n",
       "      <td>1712.935028</td>\n",
       "      <td>6111.910385</td>\n",
       "      <td>3213.389215</td>\n",
       "      <td>10456.662510</td>\n",
       "      <td>5150.116013</td>\n",
       "    </tr>\n",
       "  </tbody>\n",
       "</table>\n",
       "<p>8 rows × 22 columns</p>\n",
       "</div>"
      ],
      "text/plain": [
       "       participant  session    condition     blockNum     trialNum  \\\n",
       "count  6514.000000   6514.0  6514.000000  6514.000000  6514.000000   \n",
       "mean      9.221676      1.0     7.313172     2.503684    25.021646   \n",
       "std       5.161121      0.0     4.683916     1.118251    14.153758   \n",
       "min       1.000000      1.0     1.000000     1.000000     1.000000   \n",
       "25%       5.000000      1.0     3.000000     2.000000    13.000000   \n",
       "50%       9.000000      1.0     7.000000     3.000000    25.000000   \n",
       "75%      13.000000      1.0    11.000000     4.000000    37.000000   \n",
       "max      18.000000      1.0    16.000000     4.000000    49.000000   \n",
       "\n",
       "       reactionTime       utcTime  jointHeadDisplacement  \\\n",
       "count   6514.000000  6.514000e+03            6514.000000   \n",
       "mean       0.583009  1.636760e+09              61.336856   \n",
       "std        0.239569  1.905036e+05              53.527581   \n",
       "min        0.106912  1.636562e+09              19.310446   \n",
       "25%        0.403815  1.636576e+09              38.898241   \n",
       "50%        0.522952  1.636735e+09              50.176716   \n",
       "75%        0.703393  1.636993e+09              67.257023   \n",
       "max        1.466526  1.637084e+09            1600.613448   \n",
       "\n",
       "       jointTorsoDisplacement  jointNeckDisplacement  ...  \\\n",
       "count             6514.000000            6514.000000  ...   \n",
       "mean               102.888615              67.543049  ...   \n",
       "std                 76.309727              52.322078  ...   \n",
       "min                 24.667556              21.497591  ...   \n",
       "25%                 63.007610              41.935032  ...   \n",
       "50%                 83.368763              53.844121  ...   \n",
       "75%                119.953983              75.127802  ...   \n",
       "max               1126.732394            1204.091096  ...   \n",
       "\n",
       "       jointLeftElbowDisplacement  jointRightElbowDisplacement  \\\n",
       "count                 6514.000000                  6514.000000   \n",
       "mean                   112.453882                   102.106101   \n",
       "std                     92.398315                    94.658223   \n",
       "min                     19.760854                     0.410222   \n",
       "25%                     67.433614                    47.452514   \n",
       "50%                     89.878070                    79.424243   \n",
       "75%                    124.096940                   122.055538   \n",
       "max                   1345.467541                  1453.554864   \n",
       "\n",
       "       jointLeftHandDisplacement  jointRightHandDisplacement  \\\n",
       "count                6514.000000                 6514.000000   \n",
       "mean                  118.376932                  110.109845   \n",
       "std                   104.415651                  133.051250   \n",
       "min                    29.807625                    6.320364   \n",
       "25%                    69.559235                   47.124143   \n",
       "50%                    91.673295                   79.570959   \n",
       "75%                   126.205043                  124.061780   \n",
       "max                  1345.468265                 2499.303866   \n",
       "\n",
       "       jointLeftHipDisplacement  jointRightHipDisplacement  \\\n",
       "count               6514.000000                6514.000000   \n",
       "mean                 165.276196                 158.573616   \n",
       "std                  115.693887                 114.681618   \n",
       "min                   34.304028                  34.657759   \n",
       "25%                  106.860163                  93.653876   \n",
       "50%                  138.106778                 127.750087   \n",
       "75%                  188.301995                 191.635773   \n",
       "max                 1779.127668                1712.935028   \n",
       "\n",
       "       jointLeftKneeDisplacement  jointRightKneeDisplacement  \\\n",
       "count                6514.000000                 6514.000000   \n",
       "mean                  560.472618                  428.986583   \n",
       "std                   909.747133                  477.839313   \n",
       "min                    44.212334                   40.213189   \n",
       "25%                   122.988145                  143.266146   \n",
       "50%                   187.025809                  235.294602   \n",
       "75%                   461.238083                  511.522290   \n",
       "max                  6111.910385                 3213.389215   \n",
       "\n",
       "       jointLeftFootDisplacement  jointRightFootDisplacement  \n",
       "count                6514.000000                 6514.000000  \n",
       "mean                  799.526003                  471.205606  \n",
       "std                  1527.453981                  651.254788  \n",
       "min                    44.213822                    0.000000  \n",
       "25%                   122.554225                  115.954818  \n",
       "50%                   195.799583                  223.051799  \n",
       "75%                   581.647564                  516.435495  \n",
       "max                 10456.662510                 5150.116013  \n",
       "\n",
       "[8 rows x 22 columns]"
      ]
     },
     "execution_count": 4,
     "metadata": {},
     "output_type": "execute_result"
    }
   ],
   "source": [
    "subject_df.describe()"
   ]
  },
  {
   "cell_type": "code",
   "execution_count": 5,
   "id": "2c527dec-b192-45b2-b9e3-b94754289c5b",
   "metadata": {},
   "outputs": [
    {
     "data": {
      "text/plain": [
       "Index(['participant', 'session', 'condition', 'trialType', 'posture',\n",
       "       'blockNum', 'trialNum', 'switchTrialType', 'congruantTrialType',\n",
       "       'cueType', 'shapeType', 'shapeColor', 'response', 'correctResponse',\n",
       "       'correct', 'reactionTime', 'date', 'utcTime', 'jointHeadDisplacement',\n",
       "       'jointTorsoDisplacement', 'jointNeckDisplacement',\n",
       "       'jointLeftShoulderDisplacement', 'jointRightShoulderDisplacement',\n",
       "       'jointLeftElbowDisplacement', 'jointRightElbowDisplacement',\n",
       "       'jointLeftHandDisplacement', 'jointRightHandDisplacement',\n",
       "       'jointLeftHipDisplacement', 'jointRightHipDisplacement',\n",
       "       'jointLeftKneeDisplacement', 'jointRightKneeDisplacement',\n",
       "       'jointLeftFootDisplacement', 'jointRightFootDisplacement'],\n",
       "      dtype='object')"
      ]
     },
     "execution_count": 5,
     "metadata": {},
     "output_type": "execute_result"
    }
   ],
   "source": [
    "subject_df.columns"
   ]
  },
  {
   "cell_type": "code",
   "execution_count": 6,
   "id": "052b03ab-6101-48b4-9850-5ea0d9c5c80b",
   "metadata": {},
   "outputs": [
    {
     "data": {
      "text/plain": [
       "(6514, 33)"
      ]
     },
     "execution_count": 6,
     "metadata": {},
     "output_type": "execute_result"
    }
   ],
   "source": [
    "subject_df.shape"
   ]
  },
  {
   "cell_type": "code",
   "execution_count": 7,
   "id": "9a665e8b-78d6-4dbd-ac80-9427695e640b",
   "metadata": {},
   "outputs": [
    {
     "data": {
      "text/plain": [
       "(377, 33)"
      ]
     },
     "execution_count": 7,
     "metadata": {},
     "output_type": "execute_result"
    }
   ],
   "source": [
    "mask = (subject_df.participant == 1)\n",
    "subject_df[mask].shape"
   ]
  },
  {
   "cell_type": "code",
   "execution_count": 8,
   "id": "eb1880e7-2969-4d14-9c0c-f6813598b4f3",
   "metadata": {},
   "outputs": [
    {
     "data": {
      "text/plain": [
       "0      standing\n",
       "1      standing\n",
       "2      standing\n",
       "3      standing\n",
       "4      standing\n",
       "         ...   \n",
       "372     sitting\n",
       "373     sitting\n",
       "374     sitting\n",
       "375     sitting\n",
       "376     sitting\n",
       "Name: posture, Length: 377, dtype: object"
      ]
     },
     "execution_count": 8,
     "metadata": {},
     "output_type": "execute_result"
    }
   ],
   "source": [
    "subject_df[mask].posture"
   ]
  },
  {
   "cell_type": "code",
   "execution_count": 9,
   "id": "202531fc-8d4c-4260-8ba1-8783f2a4e57e",
   "metadata": {},
   "outputs": [],
   "source": [
    "# variables to select a participant and a portion of their experiment, so can\n",
    "# extract start and stop time stamps\n",
    "participant = 5\n",
    "posture = 'standing'\n",
    "blockNum = 3"
   ]
  },
  {
   "cell_type": "code",
   "execution_count": 10,
   "id": "77cc1d39-9657-4359-a117-33523b88984a",
   "metadata": {},
   "outputs": [],
   "source": [
    "mask = (subject_df.participant == participant) & (subject_df.posture == posture) & (subject_df.blockNum == blockNum)\n",
    "responses = subject_df[mask]\n",
    "num_responses = responses.shape[0]\n",
    "start_time = responses.iloc[0]['utcTime']\n",
    "end_time = responses.iloc[num_responses-1]['utcTime']"
   ]
  },
  {
   "cell_type": "code",
   "execution_count": 11,
   "id": "16fa71ce-7c37-4cb7-a3fd-ea72a54b06d7",
   "metadata": {},
   "outputs": [
    {
     "name": "stdout",
     "output_type": "stream",
     "text": [
      "1636576345.318371\n",
      "1636576462.418342\n",
      "117.0999710559845\n"
     ]
    }
   ],
   "source": [
    "print(start_time)\n",
    "print(end_time)\n",
    "print(end_time - start_time)"
   ]
  },
  {
   "cell_type": "markdown",
   "id": "509d69b3-2f4c-448a-90c1-7915e69111f6",
   "metadata": {},
   "source": [
    "# Extract joint positions for time range\n",
    "\n",
    "Given start and end time, now extract the joint positions from the file of kinect data for this participant"
   ]
  },
  {
   "cell_type": "code",
   "execution_count": 12,
   "id": "a2d2ffac-cbbe-4aaf-adda-a92a287afb10",
   "metadata": {},
   "outputs": [],
   "source": [
    "file_pattern = '../data/%04d_*-joint-positions-displacements.csv' % participant\n",
    "file_list = glob.glob(file_pattern)\n",
    "data_file = file_list[0]\n",
    "\n",
    "\n",
    "joint_df = pd.read_csv(data_file)\n",
    "joint_df['utcTime'] = joint_df.utcMicrosecondsSinceEpoch / 1000000.0"
   ]
  },
  {
   "cell_type": "code",
   "execution_count": 13,
   "id": "ee14d81e-aaf5-456f-be89-c6e65d8b2c3b",
   "metadata": {},
   "outputs": [
    {
     "name": "stdout",
     "output_type": "stream",
     "text": [
      "(3509, 63)\n"
     ]
    }
   ],
   "source": [
    "# extract data frame of these responses\n",
    "mask = (joint_df.utcTime >= start_time) & (joint_df.utcTime <= end_time)\n",
    "positions = joint_df[mask]\n",
    "print(positions.shape)"
   ]
  },
  {
   "cell_type": "code",
   "execution_count": 14,
   "id": "8760e3da-136e-4a1b-953c-22590e433826",
   "metadata": {},
   "outputs": [
    {
     "data": {
      "text/plain": [
       "jointHeadX    -252.877\n",
       "jointHeadY     432.053\n",
       "jointHeadZ    1348.880\n",
       "Name: 17363, dtype: float64"
      ]
     },
     "execution_count": 14,
     "metadata": {},
     "output_type": "execute_result"
    }
   ],
   "source": [
    "positions.iloc[0][['jointHeadX', 'jointHeadY', 'jointHeadZ']]"
   ]
  },
  {
   "cell_type": "markdown",
   "id": "937a82c9-2a47-4328-a39e-5b84c7f9b32a",
   "metadata": {},
   "source": [
    "Lets try and make a 3D plot of first set of sampled joint positions"
   ]
  },
  {
   "cell_type": "code",
   "execution_count": 15,
   "id": "4be97fa8-11f3-4401-89be-6886487166e9",
   "metadata": {},
   "outputs": [],
   "source": [
    "joint_list = [\n",
    "    'jointHead',\n",
    "    'jointNeck',\n",
    "    'jointLeftShoulder',\n",
    "    'jointRightShoulder',\n",
    "    'jointLeftElbow',\n",
    "    'jointRightElbow',\n",
    "    'jointLeftHand',\n",
    "    'jointRightHand',\n",
    "    'jointTorso',\n",
    "    'jointLeftHip',\n",
    "    'jointRightHip',\n",
    "    'jointLeftKnee',\n",
    "    'jointRightKnee',\n",
    "    'jointLeftFoot',\n",
    "    'jointRightFoot'\n",
    "]"
   ]
  },
  {
   "cell_type": "code",
   "execution_count": 16,
   "id": "90bb3bf1-c028-422b-b8c4-e2c43232dee9",
   "metadata": {},
   "outputs": [],
   "source": [
    "x_data_list = ['%sX' % joint for joint in joint_list]\n",
    "y_data_list = ['%sY' % joint for joint in joint_list]\n",
    "z_data_list = ['%sZ' % joint for joint in joint_list]\n"
   ]
  },
  {
   "cell_type": "code",
   "execution_count": 17,
   "id": "78fd312e-82f8-413f-9c37-19fee33bafa2",
   "metadata": {},
   "outputs": [],
   "source": [
    "x_data = positions.iloc[0][x_data_list]\n",
    "y_data = positions.iloc[0][y_data_list]\n",
    "z_data = positions.iloc[0][z_data_list]\n",
    "\n",
    "head_x = positions.iloc[0]['jointHeadX']\n",
    "head_y = positions.iloc[0]['jointHeadY']\n",
    "head_z = positions.iloc[0]['jointHeadZ']\n",
    "\n",
    "neck_x = positions.iloc[0]['jointNeckX']\n",
    "neck_y = positions.iloc[0]['jointNeckY']\n",
    "neck_z = positions.iloc[0]['jointNeckZ']\n",
    "\n",
    "left_shoulder_x = positions.iloc[0]['jointLeftShoulderX']\n",
    "left_shoulder_y = positions.iloc[0]['jointLeftShoulderY']\n",
    "left_shoulder_z = positions.iloc[0]['jointLeftShoulderZ']\n",
    "\n",
    "right_shoulder_x = positions.iloc[0]['jointRightShoulderX']\n",
    "right_shoulder_y = positions.iloc[0]['jointRightShoulderY']\n",
    "right_shoulder_z = positions.iloc[0]['jointRightShoulderZ']\n",
    "\n",
    "left_elbow_x = positions.iloc[0]['jointLeftElbowX']\n",
    "left_elbow_y = positions.iloc[0]['jointLeftElbowY']\n",
    "left_elbow_z = positions.iloc[0]['jointLeftElbowZ']\n",
    "\n",
    "right_elbow_x = positions.iloc[0]['jointRightElbowX']\n",
    "right_elbow_y = positions.iloc[0]['jointRightElbowY']\n",
    "right_elbow_z = positions.iloc[0]['jointRightElbowZ']\n",
    "\n",
    "left_hand_x = positions.iloc[0]['jointLeftHandX']\n",
    "left_hand_y = positions.iloc[0]['jointLeftHandY']\n",
    "left_hand_z = positions.iloc[0]['jointLeftHandZ']\n",
    "\n",
    "right_hand_x = positions.iloc[0]['jointRightHandX']\n",
    "right_hand_y = positions.iloc[0]['jointRightHandY']\n",
    "right_hand_z = positions.iloc[0]['jointRightHandZ']\n",
    "\n",
    "torso_x = positions.iloc[0]['jointTorsoX']\n",
    "torso_y = positions.iloc[0]['jointTorsoY']\n",
    "torso_z = positions.iloc[0]['jointTorsoZ']\n",
    "\n",
    "\n",
    "left_hip_x = positions.iloc[0]['jointLeftHipX']\n",
    "left_hip_y = positions.iloc[0]['jointLeftHipY']\n",
    "left_hip_z = positions.iloc[0]['jointLeftHipZ']\n",
    "\n",
    "right_hip_x = positions.iloc[0]['jointRightHipX']\n",
    "right_hip_y = positions.iloc[0]['jointRightHipY']\n",
    "right_hip_z = positions.iloc[0]['jointRightHipZ']\n",
    "\n",
    "left_knee_x = positions.iloc[0]['jointLeftKneeX']\n",
    "left_knee_y = positions.iloc[0]['jointLeftKneeY']\n",
    "left_knee_z = positions.iloc[0]['jointLeftKneeZ']\n",
    "\n",
    "right_knee_x = positions.iloc[0]['jointRightKneeX']\n",
    "right_knee_y = positions.iloc[0]['jointRightKneeY']\n",
    "right_knee_z = positions.iloc[0]['jointRightKneeZ']\n",
    "\n",
    "left_foot_x = positions.iloc[0]['jointLeftFootX']\n",
    "left_foot_y = positions.iloc[0]['jointLeftFootY']\n",
    "left_foot_z = positions.iloc[0]['jointLeftFootZ']\n",
    "\n",
    "right_foot_x = positions.iloc[0]['jointRightFootX']\n",
    "right_foot_y = positions.iloc[0]['jointRightFootY']\n",
    "right_foot_z = positions.iloc[0]['jointRightFootZ']\n"
   ]
  },
  {
   "cell_type": "code",
   "execution_count": 18,
   "id": "15e69869-c720-4106-800d-c93be980b755",
   "metadata": {},
   "outputs": [
    {
     "data": {
      "text/plain": [
       "[<matplotlib.lines.Line2D at 0x7fa555e2dd90>]"
      ]
     },
     "execution_count": 18,
     "metadata": {},
     "output_type": "execute_result"
    },
    {
     "data": {
      "application/vnd.jupyter.widget-view+json": {
       "model_id": "cd6391bf7c574888bc25b9c78f1e2282",
       "version_major": 2,
       "version_minor": 0
      },
      "text/html": [
       "\n",
       "            <div style=\"display: inline-block;\">\n",
       "                <div class=\"jupyter-widgets widget-label\" style=\"text-align: center;\">\n",
       "                    Figure\n",
       "                </div>\n",
       "                <img src='data:image/png;base64,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' width=640.0/>\n",
       "            </div>\n",
       "        "
      ],
      "text/plain": [
       "Canvas(toolbar=Toolbar(toolitems=[('Home', 'Reset original view', 'home', 'home'), ('Back', 'Back to previous …"
      ]
     },
     "metadata": {},
     "output_type": "display_data"
    }
   ],
   "source": [
    "plt.scatter(x_data.values, y_data.values)\n",
    "plt.plot([head_x, neck_x], [head_y, neck_y], 'r')\n",
    "\n",
    "plt.plot([neck_x, left_shoulder_x], [neck_y, left_shoulder_y], 'r')\n",
    "plt.plot([neck_x, right_shoulder_x], [neck_y, right_shoulder_y], 'r')\n",
    "\n",
    "plt.plot([left_shoulder_x, left_elbow_x], [left_shoulder_y, left_elbow_y], 'r')\n",
    "plt.plot([right_shoulder_x, right_elbow_x], [right_shoulder_y, right_elbow_y], 'r')\n",
    "\n",
    "plt.plot([left_elbow_x, left_hand_x], [left_elbow_y, left_hand_y], 'r')\n",
    "plt.plot([right_elbow_x, right_hand_x], [right_elbow_y, right_hand_y], 'r')\n",
    "\n",
    "plt.plot([left_shoulder_x, torso_x], [left_shoulder_y, torso_y], 'r')\n",
    "plt.plot([right_shoulder_x, torso_x], [right_shoulder_y, torso_y], 'r')\n",
    "\n",
    "plt.plot([torso_x, left_hip_x], [torso_y, left_hip_y], 'r')\n",
    "plt.plot([torso_x, right_hip_x], [torso_y, right_hip_y], 'r')\n",
    "\n",
    "plt.plot([left_shoulder_x, left_hip_x], [left_shoulder_y, left_hip_y], 'r')\n",
    "plt.plot([right_shoulder_x, right_hip_x], [right_shoulder_y, right_hip_y], 'r')\n",
    "\n",
    "plt.plot([left_hip_x, right_hip_x], [left_hip_y, right_hip_y], 'r')\n",
    "\n",
    "plt.plot([left_hip_x, left_knee_x], [left_hip_y, left_knee_y], 'r')\n",
    "plt.plot([right_hip_x, right_knee_x], [right_hip_y, right_knee_y], 'r')\n",
    "\n",
    "plt.plot([left_knee_x, left_foot_x], [left_knee_y, left_foot_y], 'r')\n",
    "plt.plot([right_knee_x, right_foot_x], [right_knee_y, right_foot_y], 'r')\n"
   ]
  },
  {
   "cell_type": "code",
   "execution_count": 19,
   "id": "a3eefb2c-4ced-41bc-b32a-e9775e2f2953",
   "metadata": {},
   "outputs": [
    {
     "data": {
      "application/vnd.jupyter.widget-view+json": {
       "model_id": "fdb2da39de81496eb232c4006fa7c012",
       "version_major": 2,
       "version_minor": 0
      },
      "text/html": [
       "\n",
       "            <div style=\"display: inline-block;\">\n",
       "                <div class=\"jupyter-widgets widget-label\" style=\"text-align: center;\">\n",
       "                    Figure\n",
       "                </div>\n",
       "                <img src='data:image/png;base64,iVBORw0KGgoAAAANSUhEUgAABdwAAAXcCAYAAAA4NUxkAAAAOXRFWHRTb2Z0d2FyZQBNYXRwbG90bGliIHZlcnNpb24zLjQuMiwgaHR0cHM6Ly9tYXRwbG90bGliLm9yZy8rg+JYAAAACXBIWXMAAA9hAAAPYQGoP6dpAAEAAElEQVR4nOzdd5hcZdk/8O+UbSQhNCEgSEeRJiIIvAgiVZEmkFBtWBAV6f7EhqLYUV8EFOQFFSEEEBB5RUGK0ot0qYFQQw8JCdkyM+f3x5J96aRMMtnN53NdubI55+yZe/bJ2d35znPup1QURREAAAAAAGCOlFtdAAAAAAAADAUCdwAAAAAAaAKBOwAAAAAANIHAHQAAAAAAmkDgDgAAAAAATSBwBwAAAACAJhC4AwAAAABAEwjcAQAAAACgCQTuAAAAAADQBAJ3AAAAAABoAoE7AAAAAAA0gcAdAAAAAACaQOAOAAAAAABNIHAHAAAAAIAmELgDAAAAAEATCNwBAAAAAKAJBO4AAAAAANAEAncAAAAAAGgCgTsAAAAAADSBwB0AAAAAAJpA4A4AAAAAAE0gcAcAAAAAgCYQuAMAAAAAQBMI3AEAAAAAoAkE7gAAAAAA0AQCdwAAAAAAaAKBOwAAAAAANIHAHQAAAAAAmkDgDgAAAAAATSBwBwAAAACAJhC4AwAAAABAEwjcAQAAAACgCQTuAAAAAADQBAJ3AAAAAABoAoE7AAAAAAA0gcAdAAAAAACaQOAOAAAAAABNIHAHAAAAAIAmELgDAAAAAEATCNwBAAAAAKAJBO4AAAAAANAEAncAAAAAAGgCgTsAAAAAADSBwB0AAAAAAJpA4A4AAAAAAE0gcAcAAAAAgCYQuAMAAAAAQBMI3AEAAAAAoAkE7gAAAAAA0AQCdwAAAAAAaAKBOwAAAAAANIHAHQAAAAAAmkDgDgAAAAAATSBwBwAAAACAJhC4AwAAAABAEwjcAQAAAACgCQTuAAAAAADQBAJ3AAAAAABoAoE7AAAAAAA0gcAdAAAAAACaQOAOAAAAAABNIHAHAAAAAIAmELgDAAAAAEATCNwBAAAAAKAJBO4AAAAAANAEAncAAAAAAGgCgTsAAAAAADSBwB0AAAAAAJpA4A4AAAAAAE0gcAcAAAAAgCYQuAMAAAAAQBMI3AEAAAAAoAkE7gAAAAAA0AQCdwAAAAAAaAKBOwAAAAAANIHAHQAAAAAAmkDgDgAAAAAATSBwBwAAAACAJhC4AwAAAABAEwjcAQAAAACgCQTuAAAAAADQBAJ3AAAAAABoAoE7AAAAAAA0gcAdAAAAAACaQOAOAAAAAABNIHAHAAAAAIAmELgDAAAAAEATCNwBAAAAAKAJBO4AAAAAANAEAncAAAAAAGgCgTsAAAAAADSBwB0AAAAAAJpA4A4AAAAAAE0gcAcAAAAAgCYQuAMAAAAAQBMI3AEAAAAAoAkE7gAAAAAA0AQCdwAAAAAAaAKBOwAAAAAANIHAHQAAAAAAmkDgDgAAAAAATSBwBwAAAACAJhC4AwAAAABAEwjcAQAAAACgCQTuAAAAAADQBAJ3AAAAAABoAoE7AAAAAAA0gcAdAAAAAACaQOAOAAAAAABNIHAHAAAAAIAmELgDAAAAAEATCNwBAAAAAKAJBO4AAAAAANAEAncAAAAAAGgCgTsAAAAAADSBwB0AAAAAAJpA4A4AAAAAAE0gcAcAAAAAgCYQuAMAAAAAQBMI3AEAAAAAoAkE7gAAAAAA0AQCdwAAAAAAaAKBOwAAAAAANIHAHQAAAAAAmkDgDgAAAAAATSBwBwAAAACAJhC4AwAAAABAEwjcAQAAAACgCQTuAAAAAADQBAJ3AAAAAABoAoE7AAAAAAA0gcAdAAAAAACaQOAOAAAAAABNIHAHAAAAAIAmELgDAAAAAEATCNwBAAAAAKAJBO4AAAAAANAEAncAAAAAAGgCgTsAAAAAADSBwB0AAAAAAJpA4A4AAAAAAE0gcAcAAAAAgCYQuAMAAAAAQBMI3AEAAAAAoAkE7gAAAAAA0AQCdwAAAAAAaAKBOwAAAAAANIHAHQAAAAAAmkDgDgAAAAAATSBwBwAAAACAJhC4AwAAAABAEwjcAQAAAACgCQTuAAAAAADQBAJ3AAAAAABoAoE7AAAAAAA0gcAdAAAAAACaQOAOAAAAAABNIHAHAAAAAIAmELgDAAAAAEATCNwBAAAAAKAJBO4AAAAAANAEAncAAAAAAGgCgTsAAAAAADSBwB0AAAAAAJpA4A4AAAAAAE0gcAcAAAAAgCYQuAMAAAAAQBMI3AEAAAAAoAkE7gAAAAAA0AQCdwAAAAAAaAKBOwAAAAAANIHAHQAAAAAAmkDgDgAAAAAATSBwBwAAAACAJhC4AwAAAABAEwjcAQAAAACgCQTuAAAAAADQBAJ3AAAAAABoAoE7AAAAAAA0gcAdAAAAAACaQOAOAAAAAABNIHAHAAAAAIAmELgDAAAAAEATCNwBAAAAAKAJBO4AAAAAANAEAncAAAAAAGgCgTsAAAAAADSBwB0AAAAAAJpA4A4AAAAAAE0gcAcAAAAAgCYQuAMAAAAAQBMI3AEAAAAAoAkE7gAAAAAA0AQCdwAAAAAAaAKBOwAAAAAANIHAHQAAAAAAmkDgDgAAAAAATSBwBwAAAACAJhC4AwAAAABAEwjcAQAAAACgCQTuAAAAAADQBAJ3AAAAAABoAoE7AAAAAAA0gcAdAAAAAACaQOAOAAAAAABNIHAHAAAAAIAmELgDAAAAAEATCNwBAAAAAKAJBO4AAAAAANAEAncAAAAAAGgCgTsAAAAAADSBwB0AAAAAAJpA4A4AAAAAAE0gcAcAAAAAgCYQuAMAAAAAQBMI3AEAAAAAoAkE7gAAAAAA0AQCdwAAAAAAaAKBOwAAAAAANIHAHQAAAAAAmkDgDgAAAAAATSBwBwAAAACAJhC4AwAAAABAEwjcAQAAAACgCQTuAAAAAADQBAJ3AAAAAABoAoE7AAAAAAA0gcAdAAAAAACaQOAOAAAAAABNIHAHAAAAAIAmELgDAAAAAEATCNwBAAAAAKAJBO4AAAAAANAEAncAAAAAAGgCgTsAAAAAADSBwB0AAAAAAJpA4A4AAAAAAE0gcAcAAAAAgCYQuAMAAAAAQBMI3AEAAAAAoAkE7gAAAAAA0AQCdwAAAAAAaAKBOwAAAAAANIHAHQAAAAAAmkDgDgAAAAAATSBwBwAAAACAJhC4AwAAAABAEwjcAQAAAACgCQTuAAAAAADQBAJ3AAAAAABoAoE7AAAAAAA0gcAdAAAAAACaQOAOAAAAAABNIHAHAAAAAIAmELgDAAAAAEATCNwBAAAAAKAJBO4AAAAAANAEAncAAAAAAGgCgTsAAAAAADSBwB0AAAAAAJpA4A4AAAAAAE0gcAcAAAAAgCYQuAMAAAAAQBMI3AEAAAAAoAkE7gAAAAAA0AQCdwAAAAAAaAKBOwAAAAAANIHAHQAAAAAAmkDgDgAAAAAATSBwBwAAAACAJhC4AwAAAABAEwjcAQAAAACgCQTuAAAAAADQBAJ3AAAAAABoAoE7AAAAAAA0gcAdAAAAAACaQOAOAAAAAABNIHAHAAAAAIAmELgDAAAAAEATCNwBAAAAAKAJBO4AAAAAANAEAncAAAAAAGgCgTsAAAAAADSBwB0AAAAAAJpA4A4AAAAAAE0gcAcAAAAAgCYQuAMAAAAAQBMI3AEAAAAAoAkE7gAAAAAA0AQCdwAAAAAAaAKBOwAAAAAANIHAHQAAAAAAmkDgDgAAAAAATSBwBwAAAACAJhC4AwAAAABAEwjcAQAAAACgCQTuAAAAAADQBAJ3AAAAAABoAoE7AAAAAAA0gcAdAAAAAACaQOAOAAAAAABNIHAHAAAAAIAmELgDAAAAAEATCNwBAAAAAKAJBO4AAAAAANAEAncAAAAAAGgCgTsAAAAAADSBwB0AAAAAAJpA4A4AAAAAAE0gcAcAAAAAgCYQuAMAAAAAQBMI3AEAAAAAoAkE7gAAAAAA0AQCdwAAAAAAaAKBOwAAAAAANIHAHQAAAAAAmkDgDgAAAAAATSBwBwAAAACAJhC4AwAAAABAEwjcAQAAAACgCQTuAAAAAADQBAJ3AAAAAABoAoE7AAAAAAA0gcAdAAAAAACaQOAOAAAAAABNIHAHAAAAAIAmELgDAAAAAEATCNwBAAAAAKAJBO4AAAAAANAEAncAAAAAAGgCgTsAAAAAADSBwB0AAAAAAJpA4A4AAAAAAE0gcAcAAAAAgCYQuAMAAAAAQBMI3AEAAAAAoAkE7gAAAAAA0AQCdwAAAAAAaAKBOwAAAAAANIHAHQAAAAAAmkDgDgAAAAAATSBwBwAAAACAJhC4AwAAAABAEwjcAQAAAACgCQTuAAAAAADQBAJ3AAAAAABoAoE7AAAAAAA0gcAdAAAAAACaQOAOAAAAAABNIHAHAAAAAIAmELgDAAAAAEATCNwBAAAAmCWNRiP1ej1FUbS6FID5isAdAAAAgJnWaDTS29ub3t7eVpcCMN8RuAMAAAAwUxqNRrq7u3Pfffel0Wi0uhyA+Y7AHQAAAIC3NGNme61WywMPPCBwB3gdAncAAAAA3tSMsL3RaKRcFicBvBHfIQEAAAB4Q68O20ulUqtLAphvCdwBAAAAeF3CdoBZI3AHAAAA4DWE7QCzTuAOAAAAwCu8eoHUoihaXRLAoCBwBwAAAGDAy2e2J8n48eMHPgbgzQncAQAAAEiijQzAnBK4AwAAACBsB2gCgTsAAADAAk7YDtAcAncAAACABVij0Uh3d3fuu+++JBG2A8wBgTsAAADAAmrGzPZarZYHHnggRVG0uiSAQU3gDgAAALAAenUbGQDmnO+mAAAAAAsYPdsB5g6BOwAMIt///vez8cYbZ6GFFsoiiyzyusc8/PDD2X777TNs2LAsscQSOeCAA9Lb2/uKY26//fZsttlm6erqytvf/vZ897vfdfvwPDYzY1kqlV7z59e//vUrjjGWrTVhwoTsu+++WXHFFdPV1ZWVV1453/72t19zzbku538zO5auy8Fhhx12yDve8Y50dnZm6aWXzj777JPHH3/8Fce4LgeHmRlL1+WsE7YDzD3VVhcAAMy83t7e7Lbbbtloo41y8sknv2Z/vV7Pdtttl7e97W258sor8+yzz+YTn/hEiqLIsccemySZMmVKttpqq2y++ea54YYbcu+99+aTn/xkhg0blkMOOWReP6UF1luN5QynnHJKtt1224F/jxw5cuBjY9l6d999dxqNRn7zm99klVVWyR133JHPfvazmTZtWn76058mcV0OFjMzljO4Lud/m2++eY444ogsvfTSeeyxx3LooYdm1113zdVXX53EdTmYvNVYzuC6nHnCdoC5rAAABp1TTjmlGDly5Gu2/+///m9RLpeLxx57bGDbGWecUXR0dBSTJ08uiqIojj/++GLkyJFFd3f3wDE/+MEPimWWWaZoNBpzvXZe6Y3GsiiKIklx7rnnvuHnGsv5049//ONixRVXHPi363LwevVYFoXrcrA6//zzi1KpVPT29hZF4boczF49lkXhupwV9Xq9mD59evHCCy8Ut99+e/Hiiy8W3d3dRXd3dzF16tTivPPOK6ZOnTqw7Y22z9g2ZcqUBe5rCPBWtJQBgCHkmmuuyZprrplllllmYNs222yTnp6e3HTTTQPHbLbZZuno6HjFMY8//ngmTJgwr0vmLXzpS1/KEksskfXXXz+//vWv02g0BvYZy/nT5MmTs9hiiw3823U5eL16LGdwXQ4uzz33XP74xz9m4403TltbWxLX5WD1emM5g+vyrb18ZnuSjB8//hVfJwCaQ+AOAEPIE088kaWWWuoV2xZddNG0t7fniSeeeMNjZvx7xjHMH4466qicddZZueSSS7L77rvnkEMOydFHHz2w31jOf8aPH59jjz02++2338A21+Xg9HpjmbguB5OvfvWrGTZsWBZffPE8/PDDOf/88wf2uS4Hlzcby8R1OTO0kQGYdwTuANBiRx555Osu9vXyPzfeeOMbfn5RFJkyZcrAwl+v9wKqKIpXbH/1MW/2ucy8Zo/lN77xjWy00UZ5z3vek0MOOSTf/e5385Of/OQVn2Ms547ZGcvHH3882267bXbbbbfsu+++rsv5xJyO5Wc+85lXXJuuy9aZ1bE87LDDcvPNN+fvf/97KpVKPv7xj6fRaAyMpeuydZo9lq7LNydsB5i3LJoKAC32pS99KbvvvvubHrPCCiu84b4XXnghI0eOzOTJkzNq1Khcd911r9g/adKk9PX1DczkGjVq1Gtmcz311FNJ8prZX8yaZo7lwgsv/Jr9G264YaZMmZInn3wySy21lLGci2Z1LB9//PFsvvnm2WijjXLiiSe6LucjczqWyZtfm67LeWdWx3KJJZbIEksskdVWWy2rr756lltuuVx66aXZaqutcvjhh+f6669/xee6LuedZo6l6/LNCdsB5j2BOwC02IwXkc2w0UYb5fvf/34mTpyYpZdeOkny97//PR0dHVlvvfUGjjniiCPS29ub9vb2gWOWWWaZNw2DeWvNHMvXc/PNN6ezszOLLLJIEmM5N83KWD722GPZfPPNs9566+WUU05JufzKm0hdl63VzLF8Pa7LeWdOvsfOmM3c09OTJNlggw3y05/+1HXZIs0cy9fjuuw3I2yv1WqZMGFCVl55ZYE7wDygpQwADCIPP/xwbrnlljz88MOp1+u55ZZbcttttw3s33rrrfPud787++yzT26++eb84x//yKGHHprPfvazA7O/9txzz3R0dOSTn/xk7rjjjpx77rk5+uijc/DBB3sRNg+91VhecMEFOemkk3LHHXdk/Pjx+e1vf5uvf/3r+dznPjew6JuxbL3HH388H/zgB7Pccsvlpz/9aZ5++uk88cQTefLJJweOcV0ODm80li+fFfvXv/7VdTkIXH/99fnVr36VW265JQ899FAuu+yy7Lnnnll55ZWzwQYbJEk+9KEPuS4HgZkZS9fl67NAKkALFQDAoPGJT3yiSPK6fyZPnlwURVE89NBDxXbbbVd0dXUViy22WPGlL32p6O7ufsV5brvttuIDH/hA0dHRUYwaNao48sgji0aj0YqntMB6q7H861//WrznPe8phg8fXiy00ELFmmuuWfziF78o+vr6XnEeY9lap5xyyhuOo+tycHmzsZw8eXKRpDjnnHNcl4PAbbfdVmy++ebFYostVnR0dBQrrLBCsd9++xWPPvrowFhOnjzZdTkIzMxYui5fq16vF9OnTy+mTZtWTJ8+vZg6dWpx3nnnFVOnTi26u7uL7u7umd72VsdOmTJlyH4dAWZXqSheuh8LABiUpkyZ8qZ9vxk8jOXQYSyHFuM5dBjLocNYvr7X69leq9VyySWXZMstt0y12t9ZeGa3vdWxH/rQhzJ8+PAhe6cAwOzQUgYAAABgkLNAKsD8QeAOAAAAMIg1Go10d3fnvvvuSxJhO0ALCdwBAAAABqkZM9trtVoeeOCB6BwM0FoCdwAAAIBB6NVtZABoPd+NAQAAAAYZPdsB5k/Vtz4EAFqv0Wjk0UcfzYgRI7yYeJUpU6YkSZ5//vk0Go0WV8OcMJZDh7EcWozn0GEsh44FfSwbjUb6+voyfPjwVCoVvx8DzEcE7gAMCo8++miWX375VpcxX/p//+//JYmvzxCw1VZbJTGWQ8ESSyyRxFgOFQceeGAS4zkUfOADH0hiLIeC4cOHJ0lWWmml1Ov1FlfTOk8++WRGjhzZ6jIAeBmBOwCDwogRI5Ikd999dxZeeOEWVzN/ufrqq5Mk99xzz8DXicHpnnvuycUXX2wsh4Cnn34666yzjrEcIq6//vr84he/MJ5DwP33359NN93UWA4Bzz33XNZcc83ccccdC2TgPGNWv9+LAeY/AncABoUZt8kuvPDCC+SLqjdTqVSS9H9tvOga3Do6OpIYy6Fg+vTpSYzlUOH77NDR2dmZxFgOBX19fUkW3N8NZwTuWskAzH8smgoAAAAAAE0gcAcAAAAAgCYQuAMAAAAAQBMI3AEAAAAAoAkE7gAwyC200EK58847M2LEiFaXwhwaNmxYLr30UmM5BAwfPjxjx441lkPEQgstlFtvvdV4DgHDhg3LxRdfbCyHgBEjRuT00083lgDMdwTuADDIlUqljBgxIqVSqdWlMIdKpVKGDx9uLIeAUqmUhRZayFgOEb7PDh2lUinDhg0zlkOA77MAzK8E7gAAAAAA0AQCdwAAAAAAaAKBOwAAAAAANIHAHQAAAAAAmkDgDgAAAAAATSBwBwAAAACAJhC4AwAAAABAEwjcAQAAAACgCQTuAAAAAADQBAJ3AAAAAABoAoE7AAAAAAA0gcAdAAAAAACaQOAOAAAAAABNIHAHAAAAAIAmELgDAAAAAEATCNwBAAAAAKAJqq0uAAAAYLCbPL0v9z45NdVKOauPGp7OtkqrSwIAoAUE7gAAALOpKIr8751PZdxNj2XSi30plUoZtXBHPvtfy+d9yy/S6vIAAJjHtJQBAACYTTc9PDmnXPNwpvbUs/TIziw5vCMTJ3fnl5c9kMeen97q8gAAmMcE7gAAALPp0nufSXdfI6O6ymm/9ZZ03nVnll2kM89N68uV459rdXkAAMxjAncAAIDZ9OSUnnRUyyn19qb0+OMpPf5YSqX+l1mTpvW1uDoAAOY1gTsAAMBsWmHxrnT3NVL0vRSuV6upN4okydIjO1tYGQAArSBwBwAAmE3brL5kFumq5uGp9Uxt78qUzhF5ZNL0LLtoZzZZZbFWlwcAwDwmcAcAAJhNqy01PAdtsXLe2d6Xae1d6enozHrvGJmvbr1KFh/W3uryAACYx6qtLgAAAGAwe9/yi+R9I5/Is+f/KKX/2jiLfnSvlEqlVpcFAEALCNwBAADmUPWFKVlu8pOpLVRJr7AdAGCBpaUMAADAnJoyJUlSLLxwiwsBAKCVBO4AAABzqDR5cv8HAndgAdLT09PqEgDmOwJ3AACAOVSaMcN95MgWVwIw9z3zzDNJkqeffrrFlQDMf/RwBwAAmFMvBe5muANDWVEUmTBhQu67774kybLLLtviigDmP2a4AwAAzKEZLWX0cAeGqnq9nttvvz0TJkzIeuut1+pyAOZbZrgDAADMqRkz3LWUAYaom266KaVSKRtttFGqVXESwBvxHRIAAGAODfRwN8MdGGImv3QHz0ILLZS11lorlUoltVqtxVUBzL8E7gAAAHNISxlgKHr88cdzxx13JEnWWGONVCqVFlcEMP/Twx0AAGBOaSkDDCFFUeSee+7Jf/7zn6y99tpJklKp1OKqAAYHM9wBAADmRG9vSt3dScxwBwa/vr6+3HrrrZk2bVo23HDDdHZ2trokgEHFDHcAAIA58VI7mSSJwB0Y5G644YYURZGNNtoow4cPb3U5AIOOGe4AAABzYGDB1GHDkqqXWMDg9OyzzyZJllhiiay++upayADMJr8NAgAAzIkZgbvZ7cAgVBRFHnroodx7771JktVWW03YDjAHtJQBAACYA6UZLWUsmAoMMo1GI3fccUcefPDBvPe97211OQBDghnuAAAAc6BkhjswSN10000D/dqrWmIBNIXvpgAAAHNixgx3gTswSEx+6ftWZ2dn1l577VQqldRqtRZXBTA0CNwBAADmwMAMdy1lgEFg4sSJuf3225Mka665ZiqVSosrAhha9HAHAACYEy8F7ma4A/Ozoihy33335c4778xaa62VJBZHBZgLzHAHAACYAzMWTdXDHZif3XrrrXnxxRez4YYbprOzs9XlAAxZAncAAIA5oKUMMD978cUXkyT1ej0bbrhh2tvb9WsHmIsE7gAAAHNCSxlgPvXss8/m5ptvTpKsu+66aW9vb3FFAEOfHu4AAABzQEsZYH708MMP59///ndWXXXVJEm5LAICmBd8twUAAJgTM2a4aykDzAcajUbuvPPO3H///Xnf+96Xt7/97a0uCWCBoqUMAADAHBjo4W6GOzAf+Pe//516vZ6NNtooXV1d+rUDzGMCdwAAgDmgpQwwP3jhhReSJO3t7Vl77bVTrYp8AFrBd18AAIA5oaUM0GJPPPFEbrvttiTJWmutJWwHaCE93AEAAGZXX19K06cnMcMdmPeKosj999+f22+/PWuuuWaSpFQqtbgqgAWbtzwBAABm10vtZJIkAndgHqrX67njjjsyZcqUbLjhhunq6mp1SQBE4A5AixRFMdBncmY89dRT2XjjjTNhwoTXvJgYPnz4Aj2Tp1ar5bnnnktvb2+rS2EOvfDCC+nr68vEiRNbXQpzqKenJ0VRGMshoq+vL5MmTUqj0XjNvupDD2X5JI2urkx85pl5XxyzZMqUKenu7nZtDgEzFgJ94oknFsjfAxuNRh5++OG0tbVlo402Snt7u8VRAeYTAncAWuKFF17IyNnodbvxxhu/ZtuFF16YYcOGNaOsQalWq+WZZ57J888/3+pSmEPd3d1pNBp59NFHW10Kc6jRaKQoCmM5RPT29ua555573TeKh48fn+WT9C20kPEeBHp6elKr1YzVEFAURZLksccea3ElrbPYYovlXe96V8pl3YIB5icCdwBaYsSIEZn88tvw38Lzzz+f5ZdfPvfcc08WftUt+yNGjFggZzbNcNVVV2W11VbL4osv3upSmEPjx49Pd3d31lhjjVaXwhyaNm1arr322qy//vqtLoUmuO6667LCCitkqaWWes2+8osvJknalljCeA8CDz30UJ5//vmss846rS6FOdTb25srrrgi66233gIZOM+442ZBfO4A8zvfmQGYIz/4wQ9SKpVy4IEHDmwriiJHHnlklllmmXR1deWDH/xg7rzzzld8Xm9vb77+9a9npZVWytJLL5299947U6ZMycILL/yGf5L+cP3V2xfksB2A1ipNmZLEgqkAAPQTuAMw22644YaceOKJWXvttV+x/cc//nGOOeaY/OpXv8oNN9yQUaNGZauttnrFrfgHHnhgzj333IwdOzZXXnllpk6dmo9+9KOp1+vz+mkAwOybcbeWwB0AgAjcAZhNU6dOzV577ZWTTjopiy666MD2oijyi1/8Il//+tfzsY99LGuuuWZ+97vf5cUXX8zpp5+eJJk8eXJOPvnk/OxnP8uWW26ZddddN6eddlpuv/32XHLJJa16SgAwywZmuM/GuiQAAAw9AncAZssXv/jFbLfddtlyyy1fsf3BBx/ME088ka233npgW0dHRzbbbLNcffXVSZKbbropfX19rzhmmWWWyZprrjlwDAAMCi8F7ma4AwCQWDQVgNkwduzY/Pvf/84NN9zwmn1PPPFEkrxmYbmllloqDz300MAx7e3tr5gZP+OYGZ8PAINB6aWWMnq4AwCQCNwBmEWPPPJIvvKVr+Tvf/97Ojs73/C4Vy9kWhTFWy5uOjPHAMD8REsZAABeTksZAGbJTTfdlKeeeirrrbdeqtVqqtVqrrjiivz3f/93qtXqwMz2V89Uf+qppwb2jRo1Kr29vZk0adIbHgMAg4KWMgAAvIzAHYBZssUWW+T222/PLbfcMvDnfe97X/baa6/ccsstWWmllTJq1KhcfPHFA5/T29ubK664IhtvvHGSZL311ktbW9srjpk4cWLuuOOOgWMAYDDQUgYAgJfTUgaAWTJixIisueaar9g2bNiwLL744gPbDzzwwBx99NFZddVVs+qqq+boo4/OQgstlD333DNJMnLkyOy777455JBDsvjii2exxRbLoYcemrXWWus1i7ACwHxtxgx3LWUAAIjAHYC54PDDD8/06dOz//77Z9KkSXn/+9+fv//97xkxYsTAMT//+c9TrVYzevToTJ8+PVtssUVOPfXUVCqVFlYOALNmoIe7Ge4AAETgDkATXH755a/4d6lUypFHHpkjjzzyDT+ns7Mzxx57bI499ti5WxwAzE1aygAA8DJ6uAMAAMymkpYyAAC8jMAdAABgdvT1pfTii0nMcAcAoJ/AHQAAYHbMmN2emOEOAEASgTsAAMBsGVgwtasraWtrcTUAAMwPBO4AAACz46UFU6OdDAAALxG4AwAAzIaBGe7ayQAA8BKBOwAAwGwYCNzNcAcA4CUCdwAAgNmhpQwAAK8icAcAAJgNWsoAAPBqAncAAIDZ8VLgboY7AAAzCNwBAABmQ+mlljJ6uAMAMIPAHQAAYDZoKQMAwKsJ3AEAAGaHljIAALyKwB0AAGA2aCkDAMCrCdwBAABmx4wZ7lrKAADwEoE7AADAbBjo4W6GOwAALxG4AwAAzI4ZLWXMcAcA4CUCdwAAgNlQsmgqAACvInAHAACYVbVaStOmJdFSBgCA/yNwBwAAmFUzZrcnFk0FAGCAwB0AAGAWDSyY2tWVtLe3uBoAAOYXAncAAIBZ9dKCqfq3AwDwcgJ3AACAWTQww107GQAAXkbgDgAAMIsGAncz3AEAeBmBOwAAwKzSUgYAgNchcAcAAJhFWsoAAPB6BO4AAACz6qXA3Qx3AABeTuAOAAAwi0ovtZTRwx0AgJcTuAMAAMwqLWUAAHgdAncAAIBZVNJSBgCA1yFwBwAAmEVaygAA8HoE7gAAALNqxgx3LWUAAHgZgTsAAMAsmtFSxgx3AABeTuAOAAAwq2a0lDHDHQCAlxG4AwAAzCKLpgIA8HoE7gAAALOiXk9p6tQkWsoAAPBKAncAAIBZMWN2e2LRVAAAXkHgDgAAMAsGFkzt7Eza21tcDQAA8xOBOwAAwKx4acFU/dsBAHg1gTsAAMAsGJjhrp0MAACvInAHAACYBQOBuxnuAAC8isAdAABgVmgpAwDAGxC4AwAAzAItZQAAeCMCdwAAgFnxUuBuhjsAAK8mcAcAAJgFpZdayujhDgDAq1VbXQAAAMCgoqUMLLAemTQ910+YlKen9mbUiI5suNKiGbVwZ6vLAmA+InAHAACYSfVGkYdfTOpLrphlRiySjlYXBMwzNz8yOf9z9cN5Zlpv2sql1BpFrrjv2Xxh0xWy2lLDW10eAPMJgTsAAMBMeOCZafndtY/koUXXT32r1bJYz/LZ/u6ns8U7l0ipVGp1ecBc1FtrZNxNj2Xy9N6sOqKc0lNPpTFqVB6Y0pOz/v14vrbtqin7PgBABO4AAG+pKIrc+NDzueqB5zLpxb68c6nh2Xy1JbL0SLeQw4LihZ56jr/+wTw6qTvLdL+QtinP5qnSavn9dY9kka62vG/5RVpd4vyvKP7vT6Px+n+/2b6X/i7NzHne4Hwdjz+eYVOmpNRopDQLj/m655tRy2w8hzQa//c1aTRe/zxvdb7kFf8uzexjv/rjVx1Tmtnn8ibjUJrNx371tjc7T0ejkQ9Nm5aFOjtf87V4zTi9yddtZsdswhIr5KktPpPlpjyTtnpf/2lGjsyo7XbIhGdfzMTJ3Xn7Il3z+KICYH4kcAcAeAvn3DwxZ988Mb21Rtoqpdz66JRcOf65HL7VKllh8YVaXR4LkjkMKtNopPRW55nJoG2mQ7k3OiZ5bZg2q8Hn64VpcxAWvtF5Vn7ssdy0+Gp5fKF3ZaXG1FSffjKp17Psw/dl/OSp+efdN2ajF+9863reIGx908ByJsPWmQ4+3yzonJng8/VC05n5f1cULblkXm2lVhdAU42Yh49VlJIiycvnsJcajeSl7fPJf3EA5gMCdwCAN/H45O5ccPuTaa+W8vbaiyk99Gjqq66WB59+Ief+654c/N7FZyu4fM1MxKLIQo88kmpPT8qTJr31eeYkaJzxd/LWswjf7HyvDuRmNXR9q4BwFsPSWZqh+Wbb3+g8sxBYdjQa2bK7Ox3t7a9fz6yO1YyvLy3xjiRXrbNNsvYiqT776MD20uMTM3xKbyZ2T0nbn3/bugIXEEWplJRKSbk8c3/P+DgZ2FYrijSKIm0dHa885o3+ftnnvnxf8VaPOePjt6jvDc8z47Fn4nkWs/LYM3OeGX+//LnPzPMtl/vH6NU1zMaYFTPxHPrq9dxy661Z733vS7laff1aZuM5pFRKGo2Ur7kmlb/8JZWLL05p2rSs/NxjWfqFZ/P4oqOywjOPpJSktt12eXJKb1Zbcpi73gAYIHAHAHgTdz3xQl7ormWF4eVULr88SVK+//4s3jUyd95cpPjkUVmor6cpj7VyU87C/GJ+ayzwpgHWTIaGrwnTZuY8bxXKvdn5Xq+WtzrPrIR9bxWcvvTviU88kYXe9s5k2Kj0jRqZtocfSur1FMssk6ldi2XNTEnvWl+f5bD1TQPPZLaCytcEsLMzZjPOMxvP4XW/xrPz/+719jXBQw89lOeffz7rrLNOU85H69R7e/NcrZbGxhv/3zUzJ4oi5euvT+XMM1M955yUnnlmYFdj+eVTGT06H1ti5Zxy/WO5d4nl01HvzfTJfVliZFd2WXeZVMrN+T8KwOAncAcAeBOVUinp7k75+utesb0olVJuNFIql1N0dCTVav8L/jcJ/d5qRmRfrZZGko7OzjcNDd90RuTLj01mf2bljHBrdmZWvtFjz+p55iSwnJnPf6vAchafw8uPmd7Tk9vvuCPrv//9cxxYFjMxDjNVF7Nt/HXXZaWll8uyN07KA89Oz1LvWjPVSinPTO1NZ6WUD26+UmrLjWx1mcBsKP3nP6mOG5fKuHEpP/TQwPZiiSVS23XX1EePTmODDZLu7vzX+utn6cl9uWr5dfLk8MWy5Bo7ZqPVR2W5Ree3t1gBaCWBOwDAm1jnjmuz+B3j80SlK0t3NVKaPj21ciWTRi6ej9x2Wbp6pidJipEjU9ttt9T22CPFe94zWwHn+PHj093dnTXWWKPJz4J5rTZtWiZ3d/f/X2BIGN5RyZc/uGJOu+7R3Pf0tNQbRZYc0ZGd1hmV9wjbYVApPfJIKuPGpTpuXMp33DGwvRg+PPXtt09t9Og0Nt88aWsb2Nf2s5+l/OCDWWnppbPKzRcmSV5c52fJMGE7AK8kcAcAeD1FkeqPfpS3H3VU9llto5z8oY/nvhXfm8ojDydTX8gqw8vZ8VufS9/5i6R69tkpPfVU2o47Lm3HHZfG6qunNmZM6rvvnmK55Vr9TIAmWX6xhXLEtqvm0ee701NrZLlFO9NRrbS6LGBmPPNMquedl8q4calcddXA5qKtLfVttkl99OjUP/zhZKHXLoZeuu++VH/2syRJ3/e+l459951nZQMw+AjcAQBebdq0tH/+86mee26SZIsPrZOlD9kh1z3yQl7onJrVTjglH3j2/rQffkv6Nv1Z+n74w1QuvjiVsWNT+ctfUr7rrrQfeWRy5JGpb7pparvvnvpOOyUjzYKFwa5UKmkfAYPFtGmpXHhh/0z2iy9OqVZL0t8WrvGBD6Q2enTqO+6YLLbYG5+jKNJ+0EEp9famvuWWqX/0o/OoeAAGK4E7AMDLlB5+OB2jR6d8++0p2trS+/Ofp/6pT2XVJKsus0iy/tvTeeyhKT89Mb2nn57a5z6XtLWl/pGPpP6RjySTJ6dy3nmpjh2byj//OfCnOPjg1LfbLrU99khjyy1fcZs6ANAkfX0p/+MfqZ55Zip/+UtKL744sKuxzjr9d6DtumuKt799pk5XOeecVC67LEVHR3qPOcaaGAC8JYE7AMBLyldemY699krpmWdSLLFEes44I42NN37VQeXU9tsv7YcemuoJJ6T2mc/83yKhSTJyZOqf+ETqn/hEf4/YsWNTHTs25bvvTvWcc1I955z/W4htjz3SWG89L94BYE40Gilfe21/X/Y//SmlZ5/9v10rrZT66NGp7bZbine9a9bOO2VK2r761SRJ36GHplh55WTatGZWDsAQVH7rQwAAhr7qySenY7vtUnrmmTTWWSfdV1752rD9JbW9906x8MIp33tvypdc8obnLJZbLrXDDkv3jTdm+pVXpu+LX0zxtrel9Mwzafv1r9O52WbpXHfdVH/4w5QmTJhLzwwAhqaFJ0xI+7e+lc53vzudW22VtpNOSunZZ1MsuWT6vvCFdF9+ebpvuy193/zmrIftSdqOOirlJ55IY+WVUzv44LnwDAAYisxwBwAWbH19aTvssLSddFKSpLbLLun99a9fd9G0ASNGpLbPPv2LpB5/fHq23vrNH6NUSrHuuulbd930HX10/63uY8emcsEFKd93X9qPOio56qistO66eXqbbZJllkkWXbSJTxIAhobSQw+lMm5cOs48M5vfddfA9mLEiNR33DG10aPT2GyzpDpncUfp1ltT/fWvk6S/lUxn5xydD4AFh8AdAFhwPf10OvbZJ5V//StFqZS+b387tUMPnakWL7UvfCHV449P5eKLU7rnnhTvfOfMPWa1msY226R3m22SF15I5fzz+1vOXH55ht18c4bdfHOKY45J/cMfTn333VPfZpuko2MOnygADGJPP53qn/6UyrhxqVx77cDmerWa4sMfTn3MmNS33TbpatKCxo1G2g88MKVGI7VddulfewUAZpLAHQBYIJVuuy0dY8ak/PDDKYYPT+8pp/QvejqTihVXTH277VL9y19SPeGE9P3iF7NexIgRqe+9d+p7753S44/n+eOPz8gLLshC99+f6vnnp3r++SkWXTS1XXbp7/f+/vfr9w7AguGFF1L5y19SHTcu5X/8I6V6PUlSlEppbLZZenbZJZctumg223HHlMvN7ZZb+d3vUrn++hTDh6fvhz9s6rkBGPr0cAcAFjiV885L5xZbpPzww2mstFK6L7tslsL2GWr7758kqf7xj8mkSXNUU7HMMnnmU5/KnaefnunXXpu+r3wljaWXTmnSpLT99rfp3GKLdK61Vtq+972U7r9/jh4LAOZLvb2pXHhh2j/xiXStuGI6PvOZVP7+95Tq9dTf+970/vCH6b7vvvRceGF69947teHDm1/D00+n/ZvfTJL+3u/LLNP8xwBgSBO4AwALjkYjbd//fjr22iulF19MffPN033FFSne/e7ZO92mm6ax5popvfhiqr/7XdPKLNZaK31HH53ue+5J9wUXpLbnnimGDUv5wQfT9oMfpGudddKx+eap/uY3yTPPNO1xAWCeazRS/te/0vblL6drpZXSMXp0qmefndL06Wmsskp6v/71TL/llvT861+pffnLKZZeeq6W0/7Nb6Y0aVIaa62V2n77zdXHAmBoErgDAAuGqVPTvtdeaTv66CRJ3/77p+e885LFFpv9c5ZK6Zsxy/03v0lqtSYU+jKVShof+lB6Tzop0x98MD0nn5z6VlulKJdTuf76tB98cLpWXjnto0encu65SXd3cx8fAOaGokjp1lvTdsQR6XzXu9K57bZp+5//6Q+6R41K35e+lO5//Svdt9yS2hFHpFh11XlSVvnqq1P9wx+SJL2//OUcL7wKwILJTw8AYMgrTZiQjtGjU77zzhRtben95S9T/8QnmnLu+ujRKb75zZQffjiVCy9Mfccdm3Le1xg2rH8R1d13T554ItWzzkr1jDNSvvXWVC+8MNULL0wxcmTqO++c2h57pLHxxkmTe9oCwJwoPfBAKmed1d+X/e67B7YXI0emvuOOqY0Zk8YHPpBUKvO+uL6+tH/lK0mS2ic/2b9uCgDMBq/CAIAhrXzFFencdNP+sH3JJdNz0UVNC9uTJF1dqe27b5KkevzxzTvvmxk1KrUvfzndV1+d6TfckL5DDklj2WVTmjw51VNPTec226RzjTXSduSRKd1zz7ypCQBez5NPpnrCCen44AfTtdZaaf/ud1O+++4UHR2p7bxzes44I9MfeCC9J5yQxgc/2JqwPUn1uONS/s9/Uiy+eHq/+92W1ADA0CBwBwCGpqJI9Te/Scf226f07LOpr7tuuq+8Mo0NN2z6Q9U+97kU1WoqV16Z0i23NP38b6Z497vT993vpvuuu9L917+m9vGPp1h44ZQffjhtP/lJut773nRsskmqxx2XPPXUPK0NgAXUlCmpnHZaOnbYIV2rrJL2Qw9N5YYbUpTLqW+xRXp+85tMf/DB9J52Wuo77JB0dra03NKjjw60nOs96qhk8cVbWg8Ag5vAHQAYenp70/7lL6f94INTqtdTGz06PRdfnOLtb58rD1csvXTqO++cJGmbV7PcX61cTmPTTdN7wgmZ/sAD6fn971P/8If73wi4+ea0H354ulZZJR0f+1gqZ52VvPhia+oEYGjq6UnlggvSvvfe6VpxxXR8/vOp/OMfKTUaqa+/fnp/8pNMv+++9Pz5z6nvvXcycmSrKx7QdvjhKU2blvpGG6W+zz6tLgeAQU4PdwBgaHnqqXTstVcqV1+dolRK33e/m9pBByWl0lx92NoXv5jqWWf1h9lHHZUstdRcfbw31dWV+i67pL7LLsnTT6d69tmpnHFGKjfdlMrf/pbK3/6WYsSI/n65e+zRun65AAxu9XrK//pXquPGpXLeeSlNnjywq7HaaqmNGZP6brulWHnlFhb55soXXZTq+eenqFTS+/OfW/8EgDkmcAcAhozSLbekY8yYlB99NMXCC6fnlFPS2HbbefLYjfXXT3399VO54YZU/+d/Uvva1+bJ476lt70ttS98IbUvfCGle+9NdezYVMaOTfmhh1I97bRUTzstjWWWSX3MmNT22CPFGmu0umIA5mdFkdItt6R65pmpnH12yhMnDuxqLLNM6rvtltro0SnWWWeuv9k9x6ZPT/uhhybpf+O8WGutFhcEwFDgrVsAYEionHNOOrfcMuVHH01jlVXSfdll8yxsn6G2//5JkraTTkp6eubpY8+MYrXV0vetb6X7jjvSffHF6fv0p1MsskjKjz+etp//PF0bbJDODTdM9Ze/TF4WoABA6f77Uz366HSuu266Ntkkbccem/LEiSkWWSS1T30q3RddlO577knf0UeneM975v+wPUnbT3+a8oMPprHMMuk74ohWlwPAECFwBwAGt0Yjbd/5Tjo+/vGUpk9Pfcst03355Sne9a55Xkp9553TWHrplJ58MpVzzpnnjz/TyuU0Nt44fccem+njx6fn9NNT2377FG1tKd9+e9qPOCJdq62Wju23T+X005OpU1tdMQCtMHFiqr/6VTo23TRd66yT9u9/P+X77kvR1ZXarrumZ9y4TH/ggfT+6lf97ckGUTuW0n33pXrMMUmSvh//OBkxosUVATBUDJ6fhgAArzZlStp33z1tP/5xkqTvgAPSc845yaKLtqaetrbUPv/5JEn1+OOTomhNHbOiszP1HXdM79ixmT5+fHp/+cvUN9wwpUYjlUsvTcdnP5uuFVdM+777pnzxxUm93uqKAZibJk9O5Xe/S8d226VrtdXS/tWvpnLTTSkqldS32io9J52U6Q8+mN7f/S717bZLOjpaXfGsK4q0H3RQSr29qW+1Veo77dTqigAYQvRwBwAGpdIDD6Rj9OiU77orRUdHeo89NvW99mp1Wal96lNp++EPU7n55pSvvTaNjTZqdUkzb/HFU/vMZ1L7zGdSeuCBVMaOTXXs2JTHj0/1pY+LpZZKbfTo/n7va689KFoGAPAWurtTueiiVMaNS+Wii1J6WVu0+oYbpj56dGo775wsuWQLi2yeyjnnpHLZZf2/P/zsZ36WAdBUZrgDAINO+dJL07nppinfdVcao0al529/my/C9iTJEkukPmZMkpdmuQ9SxUorpXbEEem+9dZ0X3ZZ+j73uRSLLZbSk0+m7dhj07Xxxulcf/1Uf/azlB57rNXlAjCr6vWU//GPtH/+8+laccV07LVXquefn1JPTxqrr57eI4/M9DvvTM8//tF/99YQCdszZUravvrVJEnfYYelWHnlFhcEwFAjcAcABo+iSPX449Ox004pTZqU+vvel54rr0xj/fVbXdkr9L20eGrl/PNTevTRFlczh0qlNDbYIH0//3l/v/dx41LbeecUHR0p33VX2r/1rXS+853p+MhHUvn975MpU1pdMQBvpChSvvHGtB12WLpWWSWdO+yQ6mmnpTRlShrLLpu+gw/O9GuvTfcNN6R22GEpVlih1RU3XdtRR6X8xBNprLxyagcd1OpyABiCtJQBAAaHnp60H3hgqr//fZKktsce6f3Vr5LOzhYX9lrFmmumvtlmqVxxRaq/+U36jjqq1SU1R3t76ttt19+z9/nnUzn33FTHjk3lyitTueKKVK64IsVBB6X+0Y+mtsceaWyxRdLW1uqqARZ4pXvuSfWss1IZNy7l8eMHtheLLZbaxz6W+ujR/S3QBtGip7OjdMstqf7610mS3mOOmS9/hwBg8BO4AwDzvyeeSMeee6Zy3XUpyuX0fe97qR1wwHzdc7X2xS/2B+6nnJK+//f/kmHDWl1Scy2ySOqf+lTqn/pUSg89lMqZZ6Z6xhkp33tvqmefnerZZ6dYYonUdtst9T33TGPddefr8QIYakqPP57KWWelOm5cyrfcMrC9WGih/jdGx4xJ40MfStrbW1fkvNRopP3AA1NqNFLbZZc0ttyy1RUBMEQJ3AGA+Vrp5pvTMWZMyo89lmLkyPScemoaW2/d6rLeUn3bbdNYccWUH3ww1bFjU9t331aXNNcUyy+f2uGHp3bYYSnffHMqp5+e6llnpfTMM2k74YS0nXBCGu98Z2q77576mDEpll++1SUDDE2TJqVy/vmpnnlmyv/6V0pFkSQpqtU0ttwytdGj++9SGj68xYXOe5VTT03lhhtSjBiRvh/9qNXlADCEDe37xQCAQa0yblw6t9wy5cceS2O11dJ9xRWDImxPklQqqe23X5KkesIJyUuhx5BWKqXx3vem76c/zfT770/3OeektuuuKTo7U77nnrR/5zvpeve707HNNqmcckry/POtrhhg8HvxxVTOOSftY8b0L376xS+m8s9/plQUqW+8cXp/8Yv+NTjOOad/Ue8FMGzP00+n/VvfSpL0feMbKZZeusUFATCUmeEOAMx/6vW0HXlk2o45pv+f22yTnlNOSUaObHFhs6a2zz79i7PddVfKl17a39N8QdHWlsa226Z3222TKVP6Z1yecUbK//xnf8/3K69MccghqX/kI6nvvnvqW2+94LQ1AJhTtVrKl12W6rhxqfz5zylNnTqwq7Hmmv0z2XfbLcU73tHCIucf7d/4RkqTJqWx1loDb4YDwNwicAcA5i+TJ6fj059O5aKLkiR9Bx+cviOPTCqV1tY1O0aO7A/dTzghbccfn54FKXB/uYUXTn2ffVLfZ5+UHn30//q933VXqueem+q556ZYfPHUdtkl9d13T2ODDfR7B3i1okj5+utTGTcu1bPPTumZZwZ2Nd7xjtRHj05t9OgUa6zRwiLnP+Wrrkr1tNOSJL2//GVSFYMAMHf5SQMAzDdK99+fjtGjU77nnhSdnek97rjUd9+91WXNkdp++6X661+nctFFKd1/f4pVVml1SS1VLLtsaoccktrBB6d0222pnnFGquPGpfTkk2k78cS0nXhiGiuv3N/vfffdU6y0UqtLBmip0l139c9kHzcu5QkTBrYXSyzR/0bl6NFpvP/93qh8PX19aT/wwCRJ7VOf6v86AcBcpoc7ADBfKF9ySTo32yzle+5JY5ll0nPxxYM+bE+SYpVV0th22yQv9XKnX6mUYp110vfDH2b6ffel+/zzU9t99xQLLZTy+PFp//7307XWWunYYotUTzopefbZVlcMMM+UHn001WOOSeeGG6brfe9L249/nPKECSmGDUtt993T/ac/Zfr996fvmGPS2HBDYfsbqB53XMr/+U+KJZZI73e+0+pyAFhACNwBgNYqilT/+7/TsfPOKT3/fOobbJDuf/4zjfe+t9WVNU3f/vsnSf8t7ZMnt7ia+VClksaWW6b35JMz/cEH0/Pb36a+xRYpyuVUrr027QcemK6VV0777runct55SU9PqysGaL5nn0315JPTsc026XrnO9P+zW+mfPvtKdraUttuu/T87neZPmFCek8+OY1ttkna2lpd8Xyt9OijaTv66CRJ71FHJYsv3uKKAFhQaCkDALROd3faDzgg1T/+MUlS23vv9P73fycdHS0urLkam2+exuqr9/cs//3vU/vyl1td0vxr+PDU99gj9T32SCZOTPWss/r7vd92W6oXXJDqBRekWGSR1D72sf5+7xttlJTNIQEGqWnTUrnwwlTHjUv54otTqtUGdtU/8IH+xU933FFYPBvaDj88pWnTUt9oo9T33rvV5QCwAPHqBABoidLEienYdttU//jHFOVyen/0o/T++tdDLmxPkpRK/zfL/de/Tur1Fhc0SCy9dGoHHJDua67J9OuvT99BB6WxzDIpPf982v7nf9K59dbpXHPNtH33uynde2+rqwWYOX19KV90Udo//el0rbhiOj71qVT++teUarU01l47vd//fqbfc096Lroo9U9/Wtg+G8oXXZTq+eenqFTS+4tfeGN2Luru7m51CQDzHT91AIB5rnzjjen4wAdSueGGFIsump7zzkvtS18a0j1o67vvnmKxxVKeMCGVv/611eUMOsUaa6Tve99L9913p/vCC1Pbe+8Uw4en/NBDafvRj9K17rrp2HTT/j75Tz/d6nIBXqnRSPmaa9L2Uouszl12SfXMM1OaNi2NFVdM31e/muk33pjua65J7cADUyy7bKsrHrymT0/7oYcmSWpf/GKKNddscUFDz6RJk/Lvf/87STJlypQWVwMw/xG4AwDzVOX009Ox9dYpT5yYxrvele4rrkhjiy1aXdbct9BCqX3qU0n6F3FjNlUqaXzwg+n9zW/6+72femrq22yTolJJ5aab0n7ooelaeeV07LJLKmefnUyf3uqKgQVY6Y470vatb6VzjTXSueWWaTvppJSefTbF296Wvi98Id2XX57u229P37e+lWL11Vtd7pDQ9tOfpvzgg2kss0z6vv71VpczpEyaNCk33HBDbrzxxowYMSJJsuSSS7a4KoD5jx7uAMC8Ua+n7ZvfTNsvf5kkqX3kI+k9+eRk4YVbXNi8U/vc51L9xS9S+ec/U7r99hRrrdXqkga3hRZKfbfdUt9tt+TJJ1M955xUzjgjlX//O5WLLkrlootSLLxw6jvtlNruu6fxgQ9oKwDMdaWHHkpl3Lj+vuz/+c/A9mLEiNR32CG10aPT+OAHk6qX481Wuu++VI85JknS95OfJMOHt7iiwa8oijz33HNJkltuuSUrrLBC1llnnZTL5Tz00EMtrg5g/uQnPAAw9z3/fDo++clULr44SdJ32GHp+9a3Frjws1h22dR32inVc85J2/HHp/eEE1pd0tCx1FKp7b9/avvvn9I996Q6dmwqY8em/PDDqf7+96n+/vdpLLts6mPGpLbHHmaSAs319NOpnntuKuPGpXLNNQObi/b21LfZJvUxY1Lfdtukq6uFRQ5xRZH2gw5Kqbc39a226l9sltlWFEWeffbZ3H///XnhhReSJJtsskm6Xvo/XHvZAr8AvNKC9SoXAJjnSvfem84PfjCViy9O0dWVnt/9Ln1HHrnAhe0z1F5aPLVy5pl6jc8lxTvfmb5vfzvdd96Z7r/9LbVPfSrFyJEpP/po2n72s3S9733p3HjjVI89NnniiVaXCwxWU6emMnZsOnbeOV0rr5z2gw5K5ZprUpRKqW+2WXqOPz7TH3ggvWPHpr7zzsL2uaxy9tmpXHZZio6O9B5zzJBeF2Zue/rpp3Pttdfm1ltvzdve9rZ84AMfSJK0tbW1uDKAwcEMdwBgrin/7W/p+OQnU5oyJY1ll03P2LEp1l231WW1VOP970/9ve9N5d//TvWUU1I7/PBWlzR0lctpbLJJejfZJPnpT1P561/7W8787W8p33pr2m+9NW1HHJHGhz6U2h57pL799smwYa2uGpif9famcsklqZx5ZioXXpjSy9aJqK+7buqjR6e+664pllmmhUUugCZPTvtXv5qk/y66YqWVWlzQ4FMURZ566qkkyX/+85+stNJKWW655VKtVs1mB5hFAncAoPmKItVf/CJt3/xmSkWR+kYbpeePf0yWWqrVlbVeqZTa/vun8pnPpHriiakdeGDS3t7qqoa+zs7Ud965f5bpM8+k+qc/9Yfv11/fH55dckmKYcP6+yvvsUd/f+VKpdVVA/ODRiPlq6/u78t+7rkpvdTPOkkaK6/c36pqt91SrLZaC4tcsLUddVRKTz6ZxiqrpHbQQa0uZ1ApiiJPPPFExo8fn56eniT9rWM6OjpaXBnA4CVwBwCaa/r0tH/xi6meeWaSpPbJT6b35z8XKr9MfZddUnz96ylPnJjKueemPmZMq0tasCyxRGqf+1xqn/tcSvffn+qZZ6ZyxhkpP/hgqmeckeoZZ6Sx9NKpjx7d3+/d4raw4CmKlG67LdVx41I566yUH3vs/3YttVRqu+6a+pgxabz3vVqXtFj51ltT/c1vkqS/lUxnZ4srGhyKokiSXHvttanX61lxxRUzatSoXHbZZal4wxlgjgjcAYCmKT3+eNrHjEnl3/9OUamk78c/Tu3znxdGvFp7e/o+97m0H3VUqscfL3BvoWKVVdL39a+n74gjUr7uulTGjk31nHNSnjgx5V/+Mm2//GUaa6zR33JmzBhtImCIKz34YCpnnZXquHEp33XXwPZi4YVT32mn1EaPTmPTTd0BM79oNNJx4IEpNRqp7bprGlts0eqK5nuNRiMTJ07M/fffnyRZbrnl8o53vCPlclnrGIAmWTBXKwMAmq58/fXp3GST/rB9scXS8+c/p7bffsL2N1D79KdTtLencuONKV9/favLoVRKY8MN0/eLX2T6+PHpGTs2tR13TNHenvKdd6b9G99I52qrpWO77VI57bTkhRdaXTHQLE8+meoJJ6Rj883Tteaaaf/Od1K+664UHR2p7bRTek4/PdMffDC9J5yQxuabC9vnI8tffHEqN96YYsSI9P3wh60uZ7732GOP5V//+lfGjx+fFVZYIUmy7LLLpryALmQPMLeY4Q4AzLHKH/6Q9gMOSKm3N413vzs948alWHHFVpc1f1tyydRHj071tNNSPe649G6wQasrYob29tS3375/EdVJk1I599xUzzgjlauvTuXyy1O5/PIUBx6Y+kc/2t/vfYstkqpfq2FQmTIllQsu6J/JftllKdXrSZKiXE5js81SGzMm9R12SEaObHGhvJHS00/n3X/4Q5Kk75vfTLH00i2uaP7UaDTyyCOPJEkeeuihrLLKKll66aXTaDRy18vu4gCgebwyAABmX62WtiOOSNtxx/X/c/vt03vSScmIES0ubHDo23//VE87LZXzzkvp8cdbXQ6vZ9FFU//0p1P/9KdTmjAhlTPPTPWMM1K+775Uzzor1bPOSrHkkqnttlt/v/f3vMddHTC/6unJ8H/8I28799x0XX11St3dA7vq73tf/7oNH/tYIrgdFDqPPDLtU6emvvba/e3reIV6vZ5HH300DzzwQKovvSm80UYbpa2tLUl/EA/A3CFwBwBmz3PPpeMTn0jl0kuTJH1f+1r6jjgicVvyTCvWWSf1D3wglX/9K9UTT0z22afVJfEmihVWSO2rX03t8MNTvumm/n7vZ52V0lNPpe2449J23HFpvOtdqe2+e8o77NDqcoEkqddTvvLK/sVPzzsvyz3//MCuxmqrpTZ6dOqjR6dYeeXW1cgsK191VTpOPz1J0vPzn7vL6FUmTJiQRx55JO3t7Vl99dWz+OKL5x//+EdK3hAGmCf8VAIAZlnp7rvTMXp0yuPHp1hoofSeeGLqO+/c6rIGpdr++/cH7v/zPynttlury2FmlEppvO99abzvfen7wQ9SvuSS/pYzF16Y8t13p/3II7P4kUdmozXXTGX//VPfaSdtKWBeKoqUbrkl1TPPTOXss1OeOHFgV9+SS+bpLbbIol/8ojtSBqu+vrR/5StJkglbbZUlNtjA4nRJarVaHnzwwSTJk08+mXe/+91ZcsklUyqVLIYKMI8J3AGAWVL+61/T8alPpfTCC2m84x3pGTs2xTrrtLqsQau+3XZpLL98yg89lEUuvDDTt9uu1SUxK9ra0vjwh9P74Q8nkyenct55qY4dm8o//5kl7rgj2X//FAcdlPp226W+xx6pb7VV8tLt/EBzle6/P5Wzzurvy37vvQPbi0UWSX2nnVIbMyYPLrtsnn/hhSzi59agVT3uuJTvuiuNxRfPf/bZJ5u2uqAW6+vry8MPP5wJEyakq6srSbLBBhsMtI4BYN4TuAPQEkVR5IUXXpjp45999tmsttpqmThxYiZPnvyKfcOHD1+gb5Gt1+uZOnVqynO7lUtRZPhxx2XhH/0opaJIz/vfn+dOPDGNxRdPJk2au489xA3/+Mcz8qijsthpp2XCFltkkq/n4LXDDskOO6T2wAOZdtJJWfW669J2772p/ulPqf7pT6kvtlim77BDXvzYx9K37rpm1w4StVot06ZNc23Oh8pPPpmuCy7IQueem/Zbbx3YXnR0ZPrWW2f6Tjul+4MfTDo6kiTTn3wyvb29xnKQqjz+eJb8/veTJM999avpW3jhPP/88/P098DSiy9moZc+fv7551P09s6zx365RqORSZMm5ZFHHsmIESOyzjrrZOTIkVrHAMwHBO4AtMQLL7yQkbPRYmG99dZ7zbZzzjknw4YNa0ZZg1Jvb28mTJgwVwP3cnd31vz5zzPyiiuSJA9vt13u3m+/FBMnJi+7VZ/ZU11nnWzW2ZmFxo9P5Z//zB0vvtjqkphDjUYjvbvskkf23DMjxo/PMv/4R5a+/PJ0PPdchp96aoafemqmvf3tefxDH8rED30o0y3SOF/r6enJww8/nMcee6zVpZCkOm1alrzqqix92WVZ/NZbU3pp8cdGuZzn1l03EzffPE9utFHqM343uO++gc+t1WppNBq54447WlE6c+g9Rx2V8osvZtIaa+TGNdZI+vpy5513ztMaKt3dWealj//zn/+k3tk5Tx//5RZaaKGsu+66WWyxxbSOAZiPCNwBaIkRI0a8Zqb6m3n++eez/PLL55577snCCy/8mnMtyDN5rrrqqrzrXe/K4osvPlfOX3r00XSMGZPyLbekqFbT97OfZYnPfCabzJVHW3AVH/94cuKJedff/56Ogw5qdTnMoWnTpuXaa6/NBzbdNNl00+RTn0q9Vkv3pZf293u/4IIMe+yxrPqHP2TVP/wh9Y02Sn2PPVL72MeSRRdtdfm8ynXXXZcVVlghSy21VKtLWXB1d6fyt7+lMm5cKn/9a0o9PQO76u9/f+qjR6e2885ZaKmlsnKSN1oC9aGHHsrzzz+fdbSUGXTKF12UzquuSlGppPN//icbrrZarrjiivzXf/3X3L/L7+WmTRv4cOONN05aNOmj8dIbTVrHAMx/rC0CwCz5wQ9+kPXXXz8jRozIkksumZ122in33HPPK44piiJHHnlklllmmXR1deWDH/zga2Yf9fb25utf/3pWWmmlLL300tl7770zZcqULLzwwm/4J+kP11+9fUEO2+e28jXXpHOTTfrD9iWWSM9f/pLaZz7T6rKGpNoXvpAkWeRf/0rpgQdaXA1zRbWaxtZbp/eUUzL9wQfTc+KJqW++eYpSKZVrrkn7AQeka6WV0r7HHqn8+c/JywJFWCDV6ylfemna99svXSuumI4990z1vPNS6ulJ413vSu+3v53pd9yRnksvTW2//RJviAxd06en/ZBDkiS1L30pxZprtrggAHhjAncAZskVV1yRL37xi7n22mtz8cUXp1arZeutt860l832+fGPf5xjjjkmv/rVr3LDDTdk1KhR2WqrrV7Rs/3AAw/Mueeem7Fjx+bKK6/M1KlT89GPfjT1er0VT4vXUTn11HR8+MMpPf10Gmuume5//jOND3yg1WUNWcVqq+WFTTZJqShSPeGEVpfD3DZiROp77ZWev/wl3ffem97vfz+NNddMqbc31T//OR177JGulVdO21e+kvI11yRF0eqKYd4oipRvuilthx+erlVXTef226f6hz+kNGVKGssum76DDsr0a65J9403pnb44SlWXLHVFTMPtP3kJylPmJDGMsuk74gjWl0OALwpLWUAmCUXXXTRK/59yimnZMkll8xNN92UTTfdNEVR5Be/+EW+/vWv52Mf+1iS5He/+12WWmqpnH766fn85z+fyZMn5+STT84f/vCHbLnllkmS0047Lcstt1wuueSSbLPNNvP8efEyfX1p+9rX0vZS6Fvbaaf0/uY3yfDhLS5s6Htmr70y4sorU/3DH9L3zW8mr2qfxNBULLNMagcemNqBB6Z0++2pjh2byplnpjxxYtp++9u0/fa3aay4Yuq7757a7runWGWVVpcMTVe6995Ux41LZdy4lMePH9heLLZYajvvnPro0WlsvHEyL1uHMF8o3Xtvqj//eZKk7yc/8fsIAPM9v60AMEdm9GFfbLHFkiQPPvhgnnjiiWy99dYDx3R0dGSzzTbL1VdfnSS56aab0tfX94pjlllmmay55poDx9Aizz6bjh13HAjbe7/xjfT+4Q9e3M4jUzfeONNXWCGlF15I9bTTWl0OLVCstVb6vv/9dN9zT7ovuCC1vfZKMXx4yg8+mLYf/CBd66yTjg9+MNXf/CZ55plWlwtzpPT446n+93+nY5NN0rXuumn7wQ9SHj8+RVdXarvtlu6zz8708ePT99//ncYmmwjbF0RFkfaDDkqptzf1rbdOfccdW10RALwlv7EAMNuKosjBBx+cTTbZJGu+1EvziSeeSJLXLCy31FJLDex74okn0t7enkVftTDgy49h3ivdeWc6N9sslSuuSDFsWHrOOCO1r31NwDEvlUp5cvToJEn1179OXloQjQVQpZLGhz6U3hNPzPQHHkjP//xP6ltvnaJSSeWGG9J+8MHpWnnltO+2Wyp/+lPS3d3qimHmTJo00LKsc7XV0v61r6Vy880pKpXUt9kmPSefnOkTJqT31FPT+PCHk/b2VldMC1XOPjuVyy9P0dmZ3p/9LLFuDwCDgJYyAMy2L33pS7ntttty5ZVXvmbfqxcyLYriLRc3nZljmDsqf/lL2vfdN6WpU9NYYYX0nHmmBcla5NnttsvyJ56Y8vjxKf/tb/2BEwu2YcNSHzMm9TFjkiefTPWss1I944yUb7kl1f/931T/939TjByZ+s47p7b77mn81395o4z5y/Tpqfz1r6mMG5fK3/6WUm/vwK76RhulPmZMajvtlLztba2rkfnP5Mlp/+pXkyR9hx2WYqWVWlwQAMwcv4kDMFu+/OUv589//nMuu+yyLLvssgPbR40alSSvman+1FNPDcx6HzVqVHp7ezNp0qQ3PIZ5pChS/dGP0jFmTEpTp6a+6abpvuIKYXsLNbq6UvvkJ5Mkbb/6VWuLYf6z1FKpfelL6b7qqky/8cb0HXpoGssum9Lkyameemo6t902nWuskbYjj0zp7rtbXS0Lslot5UsuSftnP5uuFVdMxz77pHrBBSn19qaxxhrp/c53Mv0//0nPJZek9tnPCtt5jbajjkrpySfTWGWV1A46qNXlAMBME7gDMEuKosiXvvSl/OlPf8qll16aFVdc8RX7V1xxxYwaNSoXX3zxwLbe3t5cccUV2XjjjZMk6623Xtra2l5xzMSJE3PHHXcMHMM8MG1a2j/+8bR/97tJkr799kvPn/+cLLFEiwuj9vnPpyiXU7n88pTuvLPV5TCfKlZfPX3f+U6677or3X/9a2qf+ESKhRdO+eGH0/aTn6RrvfXSsckmqR53XPLkk60ulwVBUaR8/fVpO/TQdK2ySjp33DHV009P6YUX0njHO9J36KGZft116b7++tQOPTTF8su3umLmU6Wbb+5fqyJJ7zHHJB0dLa4IAGaeljIAzJIvfvGLOf3003P++ednxIgRAzPZR44cma6urpRKpRx44IE5+uijs+qqq2bVVVfN0UcfnYUWWih77rnnwLH77rtvDjnkkCy++OJZbLHFcuihh2attdbKlltu2cqnt8AoPfxwOkaPTvn221O0taX35z9P/VOfanVZvKR4xztS32GHVM87L20nnJBeM915M+VyGptumt5NN01+9rNU/vd/Uxk7NpW//z2Vm29O5eab0/a1r6WxxRap7bFH6h/9aLLQQq2umiGkdPfdqZ55ZipnnZXygw8ObC+WWCK1j30s9dGj03j/+7U6YuY0Gmk/8MCUGo3Udt01jS22aHVFADBLBO4AzJITTjghSfLBD37wFdtPOeWUfPKlNhiHH354pk+fnv333z+TJk3K+9///vz973/PiBEjBo7/+c9/nmq1mtGjR2f69OnZYostcuqpp6ZSqcyrp7LAKl95ZTr22iulZ55JscQS6TnjjDTcWTDfqe2/f6rnnZfKGWck3/lOsvjirS6JwaCrK/Vddkl9l12Sp59O9Zxz+sP3G27oD+D//vcUw4envuOOqe2xRxqbbpr4vstsKD36aCpnnZXquHEp33bbwPZi2LDUP/rR1EaP7g9K29paWCWDUfWUU1K58cYUI0ak74c/bHU5ADDLBO4AzJKiKN7ymFKplCOPPDJHHnnkGx7T2dmZY489Nscee2wTq+OtVE8+OW0HH5xSrZbGOuv0L4663HKtLovX0dh44zTWWSflW29N9ZRTUjv00FaXxGDztreltt9+qe23X0r33Zfq2LGpjB2b8oQJqf7xj6n+8Y9pLLNM6qNHp7bHHtZu4K0991wq553XH7JfeWVKL/1OUFSrqW+9deqjR6f+kY8kw4a1uFAGraeeStu3v50k6fvmN1MsvXSLCwKAWeeePgBYEPT1pe3AA9N+wAEp1Wqp7bJLui+5RNg+PyuV0vfFLyZJqieemPT1tbggBrNi1VXT981vpvuOO9J9ySXp23ffFIsskvLjj6ftF79I1/vfn84NN0z1l79MaeLEVpfL/GTatFTOOivtu+2WrpVWSseXv5zKv/6VUlGkvskm6f3v/870Bx5I71lnpb7bbsJ25kj7N76R0qRJaay9dmqf/3yrywGA2SJwB4Ch7umn07H99mk76aQUpVJ6jzwyvb/7nR7Og0B9111TLLlkyo89lsr557e6HIaCUimNjTZK30shac/pp6e2ww4p2tpSvv32tB9xRDpXWy0d22+fyumnJ1OntrpiWqGvL+W//S3tn/50ulZcMR2f/GSq//u/KfX1pbH22un93vcy/Z570vO3v6W2775aXtEU5SuvTPWPf+z/XeWXv0yqbsgHYHDyEwwAhrDS7bf3L4768MMphg9P7ymn9N/uz+DQ0ZHaZz6TtqOPTvX441PfdddWV8RQ0tGR+o47pr7jjslzz6X6pz/193u/5ppULr00lUsvTfGVr6S+/fb9/d4331wANpQ1Gilfd10q48al+qc/pfTMM/+3a4UV+lsPjR6dYvXVW1gkQ1ZfX9oPPDBJUvvUp9LYYIPW1gMAc8BvzAAwRFXOPz/tn/1sStOmpbHSSv392t/97laXxSzq23ffVH/yk1Suuy7lm25KY731Wl0SQ9Fii6X2mc+k9pnPpPTgg6mMHZvqGWekPH58qmeemeqZZ6ZYaqnUdtutv9/7OuskpVKrq6YJSnfemeq4camMG5fyww8PbC/e9rbUdt019dGj01h/fePNXFX91a9SvuuuFEsskb7vfKfV5QDAHNFSBgCGmkYjbd//fjr23DOladNS33zzdF9xhbB9sBo1amBme/W441pcDAuCYsUVU/va19J9663pvvzy9H3+8ykWXzylJ59M269+la7/+q90rr9+qj/7WUqPPtrqcpkNpYcfTvWnP03nBhuka4MN0vbTnw7cCVXbc890n3dept9/f/p++tP+mcbCduai0qOPpu3oo5Mkvd/7XrLYYi2uCADmjMAdAIaSqVPTvtdeAy9c+/bfPz3nnTfTL17rjSI3TJiUS+5+Ok+/0DMXC2VWzFg8tfKnPyUWtGReKZXSWH/99B1zTKbff396zjortY99LEVHR8p33ZX2b30rne96Vzo+/OFUfv/7ZMqUVlfMm3nmmVRPOikdW22VrtVXT/u3v53ynXemaGtL7aMfTc8f/pDpEyak96ST0thqK+2DmGfaDjsspRdfTH3jjVPfa69WlwMAc8xvUQAwRJQmTOjv137nnSna29P7y1+m/vGPz/Tn3/7YlHzlrDvyxJT+oL1cSvZc/+356tarplI2u7GVinXXTX3jjVO5+uq0/fa36fvmN1tdEgua9vbUP/KR/jUgnn8+lfPOS3Xs2FT+9a9U/vnPVP75zxQHHZT6Rz/a3+99iy2StrZWV83Uqan85S+pjhuX8j/+kVKtliQpSqU0PvCB1MaM6e/hv+iiLS6UBVX5ootS/fOfU1Qq6f3FL5KyOYEADH4CdwAYAjquvjqdX/xiSs8+m2LJJdMzdmwa73//TH/+lO6+7HvaLXmxtz6wrVEkp13/WJYa0ZF9/2v5uVE2s6C2//6pXH11qr/9bfoOOyzp7Gx1SSyoFlkk9U9+MvVPfjKlhx9O5cwz+/u933NPqmefnerZZ6dYYonUdtst9T32SOO979WSZF7q7U35H/9I9cwzU7nwwpRefHFgV+M970lt9OjUd9stxTLLtLBISPLii2k/5JAkSe1LX0qxxhotLggAmsPbxwAwmBVFlv3zn/O2vfZK6dlnU1933XRfeeUshe1J8pfbn8y0nnoaxWv3nXrtIymK19nBPFXffvs0llsupWeeSWXcuFaXA0mS4h3vSO2ww9J9002ZfuWV6dt//xRve1tKzzyTthNOSOemm6bzve9N9Uc/Sumhh1pd7tDVaKR81VVpO+CAdK28cjp33TXVs85K6cUX01hppfR97WuZ/u9/p/uqq1L7yleE7cwX2n7605QnTEjj7W9P3xFHtLocAGgagTsADFa9vWk74ICs/qtfpVSvpzZ6dHouvjjF298+y6d6ZFJ3Km8wAfXZaX3pqwvcW65aTe1zn0uStB1/fOJNEOYnpVKKdddN309+kun335/uP/0ptd12S9HVlfK996b9u99N17vfnY6tt07llFOSSZNaXfHgVxQp3XZb2r7xjXSuvno6t946bSefnNJzz6VYcsn07b9/uv/5z3Tfdlv6vvGNFO98Z6srhgGle+9N9ZhjkiR9P/lJMnx4iysCgObRUgYABqOnnkrHXnulcvXVKUqlTP5//y/tX//6bLVtKD3wQFY9/4zUlvyv1/38pRbuSNsbpfHMU7VPfjJtRx+d8u23p3zllWl84AOtLgleq1pNY5tt0rvNNsmUKan8+c/9LWeuuCKVq65K5aqrUhx8cH9P+D32SH3rrZP29lZXPWiUJkxI5ayzUj3zzJTvumtge7HwwqnvuGNqo0ensdlmSaXSwirhTRRF2g86KKW+vtS33jr1HXZodUUA0FQCdwAYZEq33pqOMWNSfuSRFAsvnFsOOyxLfOITWXxWw/Znn03bD3+Y6kknZadSNcd8fq1M7hqReumVN8Dtu/E7UtJ/ef6w2GKp7bln2k4+OdXjj0+vwJ353cILp7733qnvvXdKjz32f/3e//OfVM87L9Xzzkux2GKp7bJLf7/3DTbQ7/31PPVUqn/6UyrjxqVy3XUDm4v29tQ//OHUR49OfZttkq6uFhYJM6dy1lmpXH55is7O9B5zjGsegCFHSxkAGEQq55yTzi22SPmRR9JYZZV0X3ZZnpnFfu3p7k71mGPStdZaaTv++JT6+tK16X/llO2Xz4pLjhg4rL1Szhc2XSF7rT/rLWqYe2pf+EKSpHLBBSlNmNDaYmAWFG9/e2oHH5zuG27I9GuuSd8BB6QxalRKzz2XtpNOSueHPpTOtddO2/e/n9L48a0ut/VeeCGV009Px447pmuVVdJ+yCGpXHddinI59c03T88JJ2T6gw+m9/TTU99pJ2E7g8PkyWn/f/8vSdJ32GEpVlyxxQUBQPOZ4Q4Ag0Gjkbajjkrbj3+cJKlvuWV6Tj01WXTR5KqrZvoclTPPTNt3vpPyI4/0b1prrfR+//tpbLFFVk1y/sZF7nlyWqZ09+Vdo4Zn4c62ufN8mG3F6qunvsUWqfzjH6n++tfp++EPW10SzLJi7bXTt/ba6fve91K+/PJUzzgjlT//OeUHHkj56KPTdvTRqb///anvsUdqH/tYsvjirS553ujpSeXii/tnsl94YUrd3QO76uutl/ro0antskuy9NItLBJmX9tRR6X05JNprLJKagcd1OpyAGCuELgDwPzuhRfS/pnPpPqXvyRJ+g44IH1HHZVUZ/7HePnyy9P+9a+nfMstSZLG29+evm99K/U99nhFn99SqZR3jbJw2fyub//9+wP33/8+fd/4hsXmGLwqlTS22CK9W2yRTJuWygUX9LecufTSVK67LpXrrkvbYYelvs02/f3et9026exsddXN1WikfOWVqY4bl8p556X0sgVlG6uumtqYManvtluKVVZpYZEw50o335zqb36TJOn9+c+Tjo4WVwQAc4fAHQDmY6UHHkjH6NEp33VXio6O9B57bOp77TXzn3/nnWn/xjdS+fvfkyTFiBHpO+SQ1L70Je0HBrHG1lunseqqKd93X6p//GNqn/98q0uCOTdsWOq775767rsnEyemetZZqY4dm/Ktt6b6l7+k+pe/pFhkkdR33jm1PfZIY6ONkvIg7ZBZFCndckt/yH722Sk//vjArsaoUanvtltqY8akeM979LdmaKjX037ggSk1GqntumsaH/pQqysCgLlG4A4A86nyZZelY599Upo0KY1Ro9I7dmwa668/c588cWLav/e9VH7/+5QajRTVamqf+Uz6/t//S972trlbOHNfuZzafvul/ZBDUj3hhNQ++9nBGzzC61l66dQOOCC1Aw5I6T//6W85c+aZKT/2WKqnnJLqKaeksfzyqY8Zk9oee6RYbbVWVzxTSuPHp3LWWamOG5fyPfcMbC9Gjkx9p51SGzMmjU02ecWdRzAUVE89NZUbb+x/418rNACGOK/MAGB+UxSpHn98OnbcMaVJk1J/3/vSc+WVMxe2T52atu99L11rr53qqaf2zyTbccd033hj+n72M2H7EFLbe+8UI0emfN99KV98cavLgbmmePe703fUUem+++50/+//prbPPilGjEj5oYfS9uMfp2vdddOx6aapnnBC8tRTrS73tZ54ItXjjkvHZpula+21037UUSnfc0+Kzs7UPvax9Iwd27/46fHHp7HZZsJ2hp6nnkrbt7+dJOn71rdSWIMAgCFO4A4A85OenrTvv3/aDzsspXo9tT32SM/f/vbWL05rtVRPPjlda62Vth/8IKUXX0z9/e9P9yWXpPf001Osuuq8qZ95Z/jw1D7+8SRJ23HHtbgYmAfK5TQ22yy9v/51pj/4YHp+97vUt902RaWSyk03pf3QQ9O1yirp2GWXVM4+O5k+vXW1Tp6cyh/+kI7tt0/Xqqum/fDD+2f3lsupb7FFek48sT9k/8MfUt9+e72sGdLav/GN/rv11l47tc99rtXlAMBcp6UMAMwvnngiHXvtlcq116Yol9P3ve+ldsABb96/tyiyxDXXZNT++6ft/vuTJI2VVkrfd7+b+k476f07xNX22y/V445L5R//SOnuu1O8612tLgnmja6u1HfdNfVdd02eeirVs8/+/+zdd3hUZfrG8fvMOVPSCb2DqLgiSLUgKFixl3XtsqKCQtRVWde+q2vdFday/gRFV+y9raIidlSaFCmKrJUivYQQkqnn/P5IMoqVksmbzPl+rosrGCbJHZDAe/PM88p+6inZs2bJnjhR9sSJ8goKqta0nHaa3P33z/zapWhU9htvyH7mGdmvvy4rFkv/UGrvvZU6+WQlf/97qUWLzOYA6pHAhx/KefxxeZal+L//vU0XvgMA0FDxpx0AAPWANWeOwqecosB338krKlLs4YflHnror75NYNYsBa+5Rj0/+ECS5DVposSVVyo5dKgUCtVFbBjmdeyo1FFHyXnlFTljxypx112mIwF1r3lzJUtKlCwpkbVokZynnpL91FMKLFki59FH5Tz6qNw2bb7f996lS+197FRKgcmTqy4//e9/ZW3cmP4hd7fdlDzlFKVOOklep0619zGBhiKRUOiSSyRJybPP3vp7aAAAaOBYKQMAgGH2M88ocsghCnz3ndzOnRV9//1fLdutxYsVGjJEkQMOkP3BB0oFgyobMUKV8+YpWVJC2e4zyZISSZLzxBPShg2G0wBmebvtpsR11yn66aeKTpqk5NlnV9118N13Ct5+u3L22kuR/faTc/fd0sqVP/s+Uq6n9ZvjqoinfuGDeArMnq3gFVco0rmzIkcfLeeRR2Rt3Ci3TRslLrlElVOmKDprlpJXXEHZDt9y/u//FFi4UF7Tpkr8/e+m4wAAUGeYcAcAwJRUSsG//13Bf/2r6j8HDVJs/HipqOjnH79hg4K33Sbn3ntlxePyLEupU0/V1KOOUscDDlCTRo3qLjvqDXf//eV27arAggVyHnpIyUsvNR0JMC8QkNuvn+L9+kmjR1etmXnySdlvvKHA3LkKzZ2r4NVXyz3oICVPO02pY46Rl5urWUs2atLC1VqxMaaQE9DeHRrpqG5VK2Ccr79W8IEHZD/zjALVK7wkySsuVvKEE5Q6+WS5/fplfnUN0ABYS5cqeMstkqT4TTdJjRsbTgQAQN2hcAcAwISNGxU+5xzZEydKkhIjRypx/fWSbf/0sbGYnPvuU/C222RVTzCnBg5U/Oab5fXooehHH9VhcNQ7lqXEBRcoPGKEnPvuU/Kii9iRC/xQJKLU8cdX3Wuxbp2cF16oKt+nT5f91luy33pLXl6ePv7DORq/+2GKNipW47yQYklXr85eqnXvfKChT96mRv9blH6XXk6OUkcdpdQppyh1yCE8swj4keDll1dd4N6vn1Jnnmk6DgAAdYrTGAAAdcz68kuFTz5ZgUWL5EUiit9zj1KnnvrTB7qu7OeeU/D66xVYvLjqVV26KH7TTXIPO4wLUZGWOvlkeX/9qwJLl8p+5RWlTjjBdCSgfmrSRMlhw5QcNkzWV1+l971bX3+tNxeXK175iXatXCe5rrxQSIWxpBbkNtKKDTEV2bbcgw9W8uSTlTr6aKmgwPRnA9RLgYkT5bz8sjzHUfyOO/j7CgDAd3i+IwAAdSjw1luKDBigwKJFclu3VuzNN3+2bA988IHCAwcqfPbZCixeLLdlS8XGjFF02jS5gwZxeMWWIhElzz1XkuSMGWM4DNAweDvvrMQ11yg6b55K33xby3rso0bJSlmVlbJiMQU2bVJBvFLRxk0088xztWTaNMVefFGp006jbAd+SUWFQiNHSpKSF14ob489DAcCAKDuUbgDAFAXPE/Ov/+t8AknyCotVWrvvRWdPFlur15bPMxatEihk09W5PDDZc+aJS8/X/G//lXRefOUOuusn185A0hKDhsmz3FkT5kia84c03GAhsOyFIpWqmDNSlVaVV9jveofigccBSorFYk4ctlBDfym4KhRVYMCbdoocdVVpuMAAGAEhTsAAJkWjSp0/vkKXXWVLNdVcvBgxSZOlFq1+v4xq1YpePHFiuy1l5xXX5Vn20oMHarKefOUvPJKKS/PXH40CF6rVkr9/veSpCBT7sBWsT75ROFjj1XeMUdr4Mw3VRnJ05o++ylxzjmqOOxwfdO6k9qvXqKjR12vViefzD9mAb/C+t//5NxxhyQpMWqUlJ9vOBEAAGZQuAMAkEkrVih8+OFyHn9cXiCg+G23KT52rBQOV/345s1y/vEP5ey5p4IPPCArlVLyqKMUnTFDibvuklq0MJsfDUryggskSfZzz0krVxpOA9Rf1rffKnTOOcrp10/222/LCwY14KDuOujUQxXt3FlflSb0XVFzdRx0gM7ep41CjqXIrFmK7L+/QhdeKK1ZY/pTAOoXz1PokktkJRJKDRqk1LHHmk4EAIAxXJoKAECGBGbNUuiUUxRYsUJecbFiDz8s9+CDq34wlZL96KMK3nijAtXFaKp3byVuvlnu/vsbTI2GzO3TR6l99pE9fbqC//mPEtdcYzoSUL+sXavgbbfJuf9+WfG4JCl50klK/O1vsjp10hmSBpZGtby0UrkhR7u2yFPo2C6avkcn7fn448p/+WU548fLfuEFJa65RsnzzpOCQbOfE1AP2M8+K/v996sug//Xv7hrBgDga0y4AwCQAfaTTyp86KEKrFgh93e/U/T996vKds9TYOJERfbZR+ELLlBg5Uq5HToo9tBDir33HmU7dliypESS5Nx/vxSLGU4D1BObN8u57TbldOum4D33yIrHlTrwQFV++KHiDz0kr1On9EPbNIpor47F2qN1gUJ21XEp1qyZ1tx5p6Jvvim3e3dZGzcqdPnlivTtq8C775r6rID6YeNGha68UpKUuPxyeTvtZDgQAABmUbgDAFCbUikFr75a4aFDZcViSh55pKLvvitv552rdgUffbQiJ56owMKF8oqLFb/1VkXnzFHqpJOkAH8sY8eljjtObuvWstasqVotA/hZMin7wQcV2XNPhf7+d1llZXK7d1f05ZcVmzBBXs+e2/Tu3P32U/SDDxT7v/+T17SpAgsXKnL00QqdfrqsxYsz9EkA9VvwxhtlrVold9ddlbzkEtNxAAAwjpM9AAC1pbRU4RNPVPCuuyRJib/8RfGnn66ahBw6VJH+/WW/9568UEiJP/2p6kLUP/3p+33uQG0IBqvWXKj68lTPMxwIMMDzZL/8siJ77aXwRRd9/2yiBx9U9MMPv1/vtT1sW6mzz1blJ58oMWKEPNuW89//KtKrl4I33ihVVNTe5wHUc9acOXLuu0+SFL/9dv5OAwCAKNwBAKgV1v/+p8jAgbLffFNeTo5iDz+sxKWXKnjddYp07y7nySdleZ6SJ52k6Jw5Stx6q9S4senYyFLJc86RF4ko8MknCkydajoOUKcCH32k8EEHKXzaaQr873/ymjZVfNSoqmcTnXJK7T2bqLhYidGjFZ06VakBA2RFowr+4x+K9OxZ9ewS/rEL2S6VUujii2W5rpJ/+IPcgw4ynQgAgHqBwh0AgB0UeOMNRQYMUOCLL+S2bavoa6/JWrWqalfw7bfLisWU2n9/RSdPrtoV3LGj6cjIdk2aKHXqqZIkZ8wYw2GAumF99plCJ52kyGGHyZ4xQ15urhJXXKHK+fOr7jbI0OStt8ceir36qmJPPCG3fXsFli1T+KyzFD78cFnz5mXkYwL1gfPQQ7JnzZJXUKD4P/5hOg4AAPUGhTsAANvL8+TccYfCJ54oq6xMqX33VeLKKxU+91yFLr9c1rp1cnfbTbFnn1Xs9dfl9u5tOjF8JFF9ear93//KWrLEcBogc6xlyxQaPlyRffaR89pr8mxbiaFDVTlvnhJ/+5tUWFgHISyljjtO0dmzFf/rX+Xl5Mj+8ENF+vVT8JJLpHXrMp8BqEurVyv4t79JUtXvs1atDAcCAKD+oHAHAGB7VFYqNHSoQtdeW7Uq5sgjpVRK4QsvVODrr+U1b674v/+t6IwZSh15pGRZphPDZ7w99lBq4EBZrpverwtklQ0bFLz22qq1XY8+WrXW4vjjFZ05U4m77jJTAObkKHnllYrOmaPkiSfKcl0F779fOd27yxk3Tkom6z4TkAGha6+VVVoqt3v39L0hAACgCoU7AADbyFq+XOHDDpPz1FPyAgG53brJee012R9/XLXC4Kqrqi5EPfdcyXFMx4WPJS+4QFLV0/61ebPZMEBtiUbl3Hln1dquO+6QFY0q1a+fou++q/jjj8vr3Nl0Qnnt2in+yCOKvv663D32kLVhg0KXXqpIv34KfPCB6XjADgl8+KGcxx+XZ1mK33UXf9cBAOBHKNwBANgGgRkzFOnfX/bs2fLCYcmyFJg/X14goOSQIYrOm6fEtddKBQWmowJKHX643E6dZJWWynnySdNxgB2TSsl+9FFFundX6JprZG3YILdLF0Wff16xN96Qu/fephP+hHvAAYpOmaL4HXfIKy5WYMECRQ4/XKE//lHW0qWm4wHbLpFQ6JJLJFVd0O3utZfZPAAA1EMU7gAA/IJ1m+P6dl2FoomUJMl+7DGFDztM1qpV8gIBWbGYrFRKqUGDFJ02TfF77pHHDlPUJ4GAksOHS5KcsWMlzzMcCNgOnqfAxImK7LuvwsOHK7Bsmdw2bRS7915Fp02Te/jh9Xttl+Moed55qpw7V4nzzpMXCMh5/nlFevaUc+utUmWl6YTAVnPuvluBhQvlNW2qxPXXm44DAEC9ROEOAMCPlFYkdNc7X+lPzyzQ5S9+pkuema/Xr7pDofPPl5VISJIs15XbvbuiEyYo9sIL8vbYw3Bq4OclBw+WV1CgwOefK/D226bjANsk8PHHCh9+uCInnqjAZ5/JKy5W/OabFZ07V6nBgyXbNh1x6zVposQddyj60UdK9e8vq7JSoZtuUqRXL9kvvcQ/iKHes5YuVfDWWyVJ8Ztvlho3NpwIAID6icIdAIAfSLme7nz3K735+VoFLKnQ9rRh9nw9uLFAEzvvJ0ly27VT7IEHFP3wQ7kHHmg4MfAbCguVHDxYkhS85x7DYYCtY/3vfwqdcYYiAwfK/vBDeeGwEpdeqsr585W85BIpJ8d0xO3m7bmnYhMnKvbII3LbtFFgyRKFzzhD4aOOkvXZZ6bjAb8o+Je/yKqoUKpfP6XOOMN0HAAA6i0KdwAAfuCzFZu04LtNalkYVuON61Tw7ttqvXKJPHn6b7eDVHnDjYp+8olSp50mBfhjFA1DcsQIeZYle9IkWf/7n+k4wC9bsULBiy9WpE8fOS+9VHU/xuDBVfdj3HSTVFxsOmHtsCylTjxR0TlzlLjySnnhsOz331dk330VvOwyacMG0wmBLQRef13OK6/IcxzF77ijfq9xAgDAMJoCAAB+YGVZTPGUq1y7apWBUlX72wuK8rSq/0HaUHKRFIkYTglsG69TJ6WOOEKS5Nx7r+E0wM8oK1PwhhuUs+eeCj7wgKxUSskjj6y6H+Pee+W1bWs6YWbk5Snx178qOnu2kscdJyuVUnDsWOX06CH7wQfTfwYBRlVUKPTnP0uSkhdeyBo9AAB+A4U7AAA/UJwblB0IKOZZcjt1ksIhpQ7YX5t37qyC/IjyQg1oXzDwA8mSEkmS89hjUmmp2TBAjVhMzpgxyunWTcF//rNqXcXeeyv6xhuKP/usb4o9r2NHxZ94QtFXXpG7++6y1q5V+KKLFNl/fwWmTjUdDz4XHDVKgcWL5bZtq8RVV5mOAwBAvUfhDgDAD+zZtlA7N83V8tKoNnf+neKHDtL6UJ5iiZQO3b2ZgjZ/dKJhcgcOlNuli6zNm+U88ojpOPA715X99NOK9Oql0F/+ImvtWrm77qrYE08o9s47cvv3N53QCPeggxSdOlXxUaPkFRUpMHeuIoccotDZZ8tavtx0PPiQtWiRnDvukCQlRo2S8vMNJwIAoP6jNQAA4AdCdkCXHNRJXVsXaGNlUss2RuXJ0jF7ttQxe7Y0HQ/YfpalxAUXSKpeK8OqChgSePttRfr3V/iccxT49lt5LVoodvfdis6cqdRxx7EbOhhUsqRElXPnKnn22fIsS84zzyjSo4ecUaOkaNR0QviF5yl06aWyEgmlBg1S6phjTCcCAKBBoHAHAOBH2hbn6KZjd9eNx/xO1x6+q24/cQ8N7ddBIabb0cClTjlFXpMmCixeLPvVV03Hgc9Yc+YofMwxihx7rAJz58orKFD8uutUOX++UuecIzmO6Yj1S7Nmiv/f/yn6wQdK7buvrM2bFbr+ekX69Kn6/et5phMiy9nPPCP7/fflRSKK/+tf/GMYAABbieYAAICfYQcs/a5lvvbqWKwWhWHTcYDakZOj5NlnS5KcMWMMh4FfWN98o9CQIcrp31/2O+/ICwaVuOACVS5YoOTll0t5eaYj1mtez56KvfWWYv/5j9xWrRT45huFTz5Z4eOPl7Vokel4yFYbNyp05ZWSpMTll8vbaSfDgQAAaDgo3AEAAHwked558mxb9gcfyJo713QcZLM1axS87DJFevaU8+yzkqTkKaco+sknStx2m9S0qeGADYhlKXXqqVU/d5ddJi8Ukv3WW4rsvbeCV14pbdxoOiGyTPDGG2WtXi13112VvOQS03EAAGhQKNwBAAB8xGvTRqkTTpAkBceONZwGWWnzZjn//KdyunVTcOzYqv3PBx+syo8+UvzBB+V17Gg6YcOVn6/E3/+u6MyZSh51lKxkUsG771ZO9+6yH35Ycl3TCZEFrDlz5Nx3nyQpfscdUphn+gEAsC0o3AEAAHwmWVIiqWo/r1avNpwGWSORkPPAA8rp1k2hG26QtWmT3B49FH3lFcVefllejx6mE2YNb+edFX/mGUVffFFu586y1qxRuKRE4YEDFZgxw3Q8NGSplEIXXyzLdZU86SS5Bx5oOlG95MpSpROWy10KAICfQeEOAADgM+7eeyvVp4+sWEzOgw+ajoOGzvNkv/SSInvtVVXUrVold6edFHvoIUU/+EDuQQeZTpi13MMOU3T6dMVvuUVeQYHsWbMUOfBAhc47T1qxwnQ8NEDO+PGyZ82SV1io+K23mo5T76RcT299sUFXHn6hLjr2L7rxrW/14Zfr5FG8AwB+gMIdAADAbywrPeUeHDdOiscNB0JDFfjwQ4UPPFDhM85Q4Isv5DVtqvi//qXo7NlKnXSSFOC4kXGhkJIXX6zKTz5RcvBgSZLz+OPK6dFDzh138PsbW2/1agWvu06SlPjb36RWrQwHqn9enrdSj8xeqe+KWsh2XX2zPqr/TFmitxetNR0NAFCP8DdgAAAAH0qdcILcli1lrVol+4UXTMdBA2MtWKDwiScqMmiQ7I8/lpeXp8RVV6ly/nwlhw+XQiHTEf2nZUvF771X0fffV2qvvWSVlyt07bWK7L23AhMnmk6HBiB0zTWySkvldu+u5LBhpuPUO6UVCb2zaK3yggG1L12pxpVl6lAckR2w9MZnq1WZSJmOCACoJyjcAQAA/CgUUvK88yRJzpgxEk+Hx1awli5V6PzzFdl3X9kTJ8qzbSWGDVPlvHlKXHutVFhoOqLvuX36KPbOO4rdd5+85s0V+OILRU48UeETT5T15Zem46GeCnzwgZwnnpBnWYrfdZfkOKYj1TvflUa1MZpQ45D1/SuTSTXODWr95oRWb4qZCwcAqFco3AEAAHwqec458sJh2bNmcdEift369QpefbUi3bvLeewxWZ6n5O9/r+isWUrceafUsqXphPihQECpM89U5dy5SlxyibxgUPbEiYr06aPgtddKmzaZToj6JB5X6NJLJVX9ueDutZfhQPVTbshWyA4omnS3eH0s6SpoB5Qbsg0lAwDUNxTuAAAAftWsmVKnnCKpesod+LHKSjm3366cbt0UvOsuWbGYUvvvr+j77yv+6KPydt3VdEL8msJCJW6+WdEZM5Q69FBZiYSCd9yhnO7dZT/+uOS6v/0+kPWc//s/BRYulNe0qRJ//7vpOPVWhyY52qVZnlZUpBSzg5KkSs/S6k1x7dm2QM3yw4YTAgDqCwp3AAAAH0tUX55qv/iirGXLDKdBvZFKyX74YUX23FOhv/61aq/zHnso+sILir3+utw+fUwnxDbwOndW7MUXFX3uObk77yxr1SqFzztP4YMPVmD2bNPxYJC1ZImCt94qSYrffLNUXGw4Uf0VsCz9cd926twsV98VNdcXTdpp9eaE9mxTqFN6tzEdDwBQj1C4AwAA+JjXrZtSBxwgK5WSM26c6TgwzfNkv/aaIvvso3BJiQLLl8tt106xceMUnTpV7qBBkmX99vtB/WNZco84QtGPP1b8hhvk5eXJnjFD4QMOUKikRFq92nRCGBC8/HJZFRVK9eun1BlnmI5T77UuiujqAzvo8skP67wZL+jPB7TTXw7bWU3yuCgaAPA9CncAAACfS1ZPuTvjx0sVFYbTwJTA9OkKDxqk8EknVa2XKC5W/JZbFP3kk6oizmY/cVYIh5X8858VnTtXydNOk+V5ch5+WDndu8u5+24pkTCdEHUk8Prrcl55RZ7jKH7nnfxj2lYKOQH1/u5zHfbldHVrmS8nQK0CANgSfzIAAAD4XOrII+V27Chr/XrZTz9tOg7qmLVokUKnnabIQQfJ/ugjeZGIEn/+syoXLFDy4oulSMR0RGSA16qV4g88oOjbbyvVs6essjKFrrxSkX33VeCtt0zHQ6ZVVCj05z9LkpIXXSSvSxfDgQAAyB4U7gAAAH5n20qef74kKXjPPZLnGQ6EumCtWKHgRRcpstdecl5+WV4goORZZyk6b54SN9wgNWpkOiLqgLvvvoq9/75i99wjr2lTBT7/XJHjjlPolFNkffON6XjIkOBttymweLHctm2VuPJK03EAAMgqFO4AAABQ8qyz5OXnK7BwoQLvvWc6DjJp40YF//53Rbp1U/DBB2WlUkoedZSi06crPmaMvDZc/uc7tq3UkCGqnDtXiQsukGfbciZMUKR3bwX//ndp82bTCVGLrEWL5Nx5pyQpMWqUlJ9vNhAAAFmGwh0AAABSUZGSZ54pqXrKHdknFpPzf/+nnG7dFLztNlmVlUrtu6+ib76p+DPPsFICUqNGStx2m6LTpyt14IGyYjEFb7tNkR49ZD/zDM9+yQaep9All8hKJJQ6/HCljjnGdCIAALIOhTsAAAAkScnhwyVJgYkTZX31leE0qDWuK/uppxTp2VOhK66QtW6d3N12U+yppxR76y25++1nOiHqGW/33RV75RXFnnpKbseOCixfrvDZZyt82GGyPvnEdDzsAPuZZ2RPniwvElF89GguSgUAIAMo3AEAACBJ8nbdValBg2R5npyxY03HwY7yPAXefFOR/fZT+Nxzq/Y1t2ql2D33KDpjRtVkK2UbfollKXXMMYrOmqX4ddfJy82VPWWKIv37K/inP0lr15pOiG21caNC1fvaE1dcIW+nnQwHAgAgO1G4AwAAIC1RUiJJch57TCorM5wG28uaM0fho49W5PjjFZg/X15hoeLXX6/ovHlKDRkiOY7piGgoIhElL79c0TlzlPzDH2R5noL/+Y9yunev+oe5ZNJ0Qmyl4A03yFq9Wm7nzkpefLHpOAAAZC0KdwAAAKS5Bx8s93e/k7Vpk5xHHzUdB9vI+vprhc46Szn9+8t+7z15oZASF16oygULlPzLX6TcXNMR0UB5bdsq/vDDir7xhtxu3WSVlip02WWK9O3LRcsNgDVnjpxx4yRJ8dtvl8Jhw4kAAMheFO4AAAD4nmUpWTPlPnaslEoZDoStsnq1gn/+syI9e8p57jl5lqXkaacp+sknSvzzn1KTJqYTIku4/fsr+tFHit91l7wmTRT47DNFjjpKoTPOkLV4sel4+DmplEIXXyzLdZU86SS5Bx5oOhEAAFmNwh0AAABbSJ52mrziYgW++Ub2xImm4+DXlJfLufVW5XTrpuC998pKJpU69FBFp0xR/IEH5HXoYDohspFtKzl0qCo/+USJ4cPlBQJyXnpJkV69FLz5ZqmiwnRC/IAzfrzsWbOqVkvdeqvpOAAAZD0KdwAAAGwpN1fJIUMkSc4995jNgp+XSMi5/37ldOum0E03ySovV6pXL0VffVWxl16St+eephPCDxo3VuJf/1J06lSlDjhAVjSq4C23KNKrl+wXXpA8z3RCrFql4HXXSZISf/ub1KqV4UAAAGQ/CncAAAD8RPL88+XZtuz335e1YIHpOKjhebJfeEGR3r0VuuSSqgsQO3VS7JFHFHv/fbkDB5pOCB/yunZV7LXXFHvsMbnt2imwdKnCgwcrfOSRfP0wLHTttbJKS+V2767keeeZjgMAgC9QuAMAAOAnvHbtlDr2WElScOxYw2kgSYHJkxUeMEDhwYMV+Oorec2aKX777YrOmqXUiSdKAf5qD4MsS6kTTlB09mwlrr5aXiQie/JkRfr2VXDkSGn9etMJfSfwwQdynnhCnmUp/u9/S7ZtOhIAAL7A38oBAADws5IXXCBJsp96Slq71nAa/7Lmz1f4hBMUOeKIqj3MeXmKX3ONKufPV/L886VQyHRE4Hu5uUpcc42ic+YoecIJslxXwfvuU0737nIeeICLmOtKPK7QpZdKkpLnniu3Tx/DgQAA8A8KdwAAAPwsd999lerZU1Y0Kmf8eNNxfMdaskShoUMV6dtX9qRJ8hxHifPPryrar75aKigwHRH4RV779oo/9piir70mt0sXWevXK3TxxYr066fAhx+ajpf1nLvvVmDhQnlNmypx/fWm4wAA4CsU7gAAAPh5lqVkSYkkyRk3TkokDAfyiXXrFLzySkW6d5fz5JOyPE/JE0+sWtVx++1SixamEwJbzR0wQNGpUxX/17/kNWqkwPz5igwapNBZZ8latsx0vKxkLVmi4D/+IUmK33KLVFxsOBEAAP5C4Q4AAIBflDrxRHnNmyuwfLnsl14yHSe7VVTIGT1aOd26KXj33bLicaUOOEDRyZMVf+QReTvvbDohsH0cR8nhw1U5d64S554rz7LkPPecIj17yvnnP6Vo1HTCrBL8y19kVVQo1b+/UqefbjoOAAC+Q+EOAACAXxYOKzFsmCTJGTPGcJgslUzKfvhhRbp3V+i662Rt3Ci3WzdFX3pJsddek9u7t+mEQO1o2lSJf/9b0Q8/VGq//WRVVCh0ww2K9O4t++WXJc8znbDBs197Tc6ECfIcR/E77pAsy3QkAAB8h8IdAAAAvyp57rnyQiHZM2YoMHOm6TjZw/NkT5igyD77KFxSosDy5XLbt1fsgQcUnTJF7qGHUpYhK3k9eig2aZJi48fLbd1agW+/Vfi00xQ+5hhZCxeajtdwVVQoeNllkqTkRRfJ69LFcCAAAPyJwh0AAAC/rkULpU46SZLk3HOP4TDZITB1qsKHHqrwKaco8Pnn8ho3Vvwf/1B0zhylTjtNCvDXdGQ5y1Lq5JMV/eQTJS6/XF44LPvddxXZZx8FL79cKi01nbDBCd52mwKLF8tt21aJq64yHQcAAN/ib/IAAAD4TYnqy1PtF16QtXy54TQNl/X55wqdcooihxwie+pUeTk5Slx2mSoXLFDyooukSMR0RKBu5eUpcd11is6apeQxx8hKpRS85x7ldO8u+6GHpFTKdMIGwfr8czl33ilJSoweLeXlmQ0EAICPUbgDAADgN3k9eijVr5+sZFLO/febjtPgWMuXK3TBBYrstVfVfuVAQMmzz1Z03jwl/v53qajIdETAKG+nnRR/6ilF//tfubvtJmvtWoUvuEDhAQMUmDbNdLz6zfMUuvRSWYmEUocfrtTRR5tOBACAr1G4AwAAYKskq6fcnQcflKJRw2kaiNJSBa+7TpE995Tz0EOyXFfJY45R9OOPFf+//5PXurXphEC94h5yiKLTpyv+z3/KKyyUPWeOIgcfrNC558pascJ0vHrJfuYZ2ZMny4tEFP/Xv7j7AQAAwyjcAQAAsFVSRx8tt107WWvXyn76adNx6rdYTJ1eekk53bopOHq0rMpKpfr2VfTttxV/6il5v/ud6YRA/RUMKnnhhaqcO1fJs86SZ1lynnpKke7d5YweLcViphPWH6WlCl15pSQpccUV8jp2NJsHAABQuAMAAGArOY6S558vSQqOGSN5nuFA9VAqJfuJJ9R4v/20x4MPylq/Xu7vfqfYM88o9uabcvfd13RCoOFo3lzxMWMUmzxZqX32kbV5s0LXXadInz4KvP46X4MkBW+8Udbq1XI7d1by4otNxwEAAKJwBwAAwDZIDhkiLzdXgQULFJg82XSc+sPzFJg0SZH99lN42DDZS5eqskkTxcaMUXT6dKWOOoo1D8B2cnv1UuyttxS7/355LVoo8PXXivzhDwr//vey/vc/0/GMsebMkTNunCQpfscdUjhsOBEAAJAo3AEAALAtiouVPOMMSZIzZozhMPVDYNYshY88UpETTlBgwQJ5RUUqv/ZavXvvvUqddZbkOKYjAg1fIKDU6aercu5cJUaOlBcMyp40SZG99lLw6qulsjLTCetWKqXQxRdX3Qtx8slyBw40nQgAAFSjcAcAAMA2SY4YIUmyX31V1jffGE5jjvXVVwoNHqzIAQdUXVgYCinxpz+pcsECVf7pT0oxbQrUvoICJW68UdGZM5U6/HBZyaSCd92lnO7dZT/6qOS6phPWCefBB2XPmiWvsFDxW281HQcAAPwAhTsAAAC2ibfbbkodcogsz5Nz772m49S9VasUvPRSRXr1kvPCC/IsS8nTT1d07lwlbr1VatzYdEIg63m77KLY888r+vzzcnfZRdbq1QoPH67wgQcqMHOm6XiZtWqVgtddJ0lKXHed1LKl4UAAAOCHKNwBAACwzRIlJZIk55FHpE2bDKepI5s2KXjzzcrp1k3BceNkJZNKDRqk6NSpit9/v7z27U0nBHzHPfxwRT/+WPGbbpKXny975kxFBgxQ6PzzpZUrTcfLiNA118jauFFujx5KDhtmOg4AAPgRCncAAABsM/fQQ+V27iyrrEzO44+bjpNZ8bice+9VTteuCt5yi6zNm5Xq00fR119X7IUX5HXrZjoh4G+hkJKXXqrKTz75/o6Jxx5TTo8ecu66S4rHDQesPYEPPpDz5JPyLEvxu+6SbNt0JAAA8CMU7gAAANh2gUB6l7szdmx27k12XdnPPadI794K/fnPstaulbvLLoo99phi770n94ADTCcE8EOtWik+bpyi776rVK9esjZtUujqqxXZZx8FJk0ynW7HxeMKXXKJJCl57rly+/QxmwcAAPwsCncAAABsl+Tpp8srKlLgyy+zo8z6gcB77yk8YIDCZ52lwNdfy2veXPE776y6qPGEEyTLMh0RwC9w995bsfffV2zsWHnNminwv/8pcsIJCp10koKLF5uOt92cu+9W4PPP5TVtqsT115uOAwAAfgGFOwAAALZPfr6SZ50lSQrec4/hMLXDmjdP4eOOU+Soo2TPni0vP1/xv/5VlfPnV+1KDgZNRwSwNQIBpf74R1XOnavERRfJcxw5r72mTsceq/Zjx0rl5aYTbhNryRIF//EPSVL8lluk4mLDiQAAwC+hcAcAAMB2Sw4fLi8QkP3OO7IWLjQdZ7tZixcrdO65iuy3n+y33pIXDCoxYkRV0X7llVJ+vumIALZHUZES//iHojNmKHXIIQokEmrz6KOK9Ogh+8knJc8znXCrBP/yF1kVFUr176/U6aebjgMAAH4FhTsAAAC2m9ehg1JHHy2pepd7Q7N2rYKXX65Ijx5ynnpKlucp+Yc/KDp7thKjR0vNm5tOCKAWeLvtpthLL2npPfco2rq1AitWKDx0qMKHHCJrzhzT8X6V/dprciZMkOc4it9xByutAACo5yjcAQAAsEOSF1wgSXKeeEJav95wmq1UUSFn1CjldOum4D33yIrHlRo4UJUffqj4ww/L69TJdEIAtc2yVH7ggfrk8ccVv/56ebm5sqdNU2T//RW68EJpzRrTCX+qokLBP/9ZkpT805/kdeliOBAAAPgtFO4AAADYIW6/fnL33FNWZaWc8eNNx/l1yaTs8eMV6dZNoeuvl1VWJnfPPRX9738VmzBBXs+ephMCyDAvHFbyL39R9JNPlDz5ZFmeJ2f8eOV07y7nnnukRMJ0xLTgbbcpsGSJ3HbtlLjyStNxAElSKpVSWVmZJKmiosJwGgCofyjcAQAAsGMsS4mSEkmSM26clEwaDvQzPE/2yy8rstdeCl94oQIrV8rt0EGxBx9U9KOP5B5yCGsaAJ/x2rRRfPx4Rd98U2737rI2blTo8ssV6dtXgXfeMR1P1uefy7nzTkmqWnGVl2c2EHwnkUhow4YN+u677yRJc+bM0fvvv68333xTs2bNkiTFYjGTEQGgXnJMBwAAAEDDlzrpJHnXXqvAsmWyX35Zqd//3nSktMCUKQpee63s6dMlSV6TJkpccYWSQ4dK4bDhdABMc/fbT9EPPpD9yCMKXX+9AgsXKnLMMUoee6wSt94qr2PHug/leQpdeqmsREKpI45Q6qij6j4DfMHzPMViMZWXl6en1mfNmqWKigrFYjGFQiHlVf9jT5MmTdSpUyfl5eXJtm29/fbbKi4uNhkfAOolCncAAADsuEhEyaFDFfzHP+SMGVMvCndr4UIFr7tOzquvSpK8nBwlL7pIiUsukYqKzIYDUL/YtlJnn63K449X8Oab5YwbJ+fll2W/8YaSl1yixJ//XKcT5vbTT8uePFleTo7io0fzDBzUipoSvby8XJs2bZIkvf/++0omk4pEIsrNzZUktWjRQkVFRcrLy1MoFFIymdRbb72l9u3by3GqaqRkfXw2GwDUE6yUAQAAQK1IDB0qLxiUPXWqArNnG8thffedQiNGKLL33nJefVWebStx7rmKzp+vxHXXUbYD+GXFxUqMHq3o1KlKDRggKxZT8J//VKRnT9nPPSd5XuYzlJYqdNVVkqTEFVeYmbBHg1ZeXq5Vq1bpq6++0rx58zS9+hleU6ZM0eeff64NGzYoFApJknr27KlDDjlEAwcOVK9evSRJbdu2VXFxcfoxAIBtw4Q7AMAIz/PSkzVbo7S0VMXFxVq3bt1PdkUWFBTI8vHkl+u6isfjikajpqNgByWTSaVSqYb7a1lcLPv44xV+9llZ//63ovfeW6cf3iotVeSuuxQZN05W9c9h/OijVXHNNXI7d656UB393MZiMXme13B/LbEFvs5mj0QisXVfZ3feWZXPP6/ghAnK/etfZS9dqvBZZylx332quPVWpbp2zVjG3L/9Tdbq1UrtsovKzzuvzr5uNTSJ6stto9GoAoE6nCWMRpWb/m5Usu26+9g/4LquEomEotGoNm/erPLycpWXl0uSpk+frvz8fOXl5Sk/P19NmjTR/PnzddBBB6VL9GQyqW+//VZFRUXpqXUAQO3gqyoAwIhNmzapaDumTLt16/aT1z3xxBPpp8D61YIFC0xHQC1atWqV6QjbrdE++2jAs88q+OKLmnHEEYo1bpzxjxmIx7XTa6+p83PPKVRdNqzt0kWfnXWWNuy2m7RqVdU3Az744AMjHxe17/PPP9fnn39uOgZqyVb/3mzUSIHRo7XLSy9p1+efV3DKFBUeeKC+PewwLTz9dCUKC2s1V9GXX2rAgw9Kkqb98Y9aO2NGrb7/bPTRRx/V6cezo1EdXf39KVOmKBWJ1OnH3yKLbSs/P1/5+fkqKipSy5YtNXfuXB100EEKBoPpxyWTSc2fP79u/2ECAHyMwh0AYERBQYE2bty41Y8vLS1Vhw4dtGjRIhX+6HDr9wn3jz76SL/73e/UpEkT01Gwg7766itFo1HtsccepqNsv0MPVeq552RPm6aDv/hCiWuvzdzHSqVkP/mkgjfeqMCyZZIkd/fdFb/xRuUefrj6GPy6sHnzZk2bNk0HH3ywsQyoPdOnT1fHjh3VokUL01GwgxYvXqzS0lJ17959297w6KOrVlJdc42c55/XThMnquP06Ur89a9KnnuuVBsTwqmUwjfcIMvzlDz5ZPX88593/H1msXg8rvfff18HH3xw3RbJmzenv3vQQQfV6W7/H3JdV5J+UqxL8vXfiwGgPuCfNwEAGTNmzBjttNNOikQi6t279xbTZJZlqbCwcJu+SVXl+o9fz6ECqF+SJSWSJOeBB6QfrYCqFZ6nwMSJivTtq/D55yuwbJncNm0UGztW0enT5R5xBBcMAqh1Xrt2ij/yiKITJ8rdYw9ZGzYoNHKkIvvtp8DkyTv8/p0HH5Q9e7a8wkLFb721FhIDAAATKNwBABnx9NNP65JLLtE111yjOXPmaP/999cRRxyhJUuWmI4GIMNSxx4rt00bWWvWyH722Vp934GPP1b4iCMUOfFEBT79VF6jRorfdJOic+cq9cc/GtulC8A/3P33V3TKFMXvuENecbECn36qyBFHKDR4sKylS7fvna5apeB110lS1SR9y5a1mBgAANQlCncAQEbcfvvtOvfcczV06FDtvvvuuvPOO9WuXTuNHTvWdDQAmRYMKnneeVXfHTNG8rwdfpfWF18odOaZigwcKPuDD+SFw0pccokq589X8tJLpZycHf4YALDVHEfJ885T5dy5Spx3nrxAQM4LLyjSs6ecW2+VKiu36d2FrrlG1saNcnv0UHLYsAyFBgAAdYHCHQBQ6+LxuGbNmqXDDjtsi9cfdthhmjJliqFUAOpS8uyz5eXkKDB3rgI7cqHdypUKXnyxIr17y3nxRXmWpeSZZyo6b54SN98s1cGlrADwi5o0UeKOOxT96COl+veXVVmp0E03KdKrl+yXXtqqf3AMTJ4s58kn5VmW4v/+N8/UAQCggaNwBwDUurVr1yqVSv3kcrkWLVpo5cqVhlIBqFNNmih52mmSJGfMmG1/+7IyBW+8UTnduin4wAOyUimljjhC0WnTFL/vPnlt29ZyYADYft6eeyo2caJijzwit21bBZYsUfiMMxQ+6ihZn376y28Yjyt06aWSpOTQoXJ7966jxAAAIFMo3AEAGfPjy0w9z+OCU8BHkiNGSJLsV16RtXjx1r1RPC5n7Niqov0f/5BVUaHUXnspOnGiYs89J69r1wwmBoAdYFlKnXiiorNnK3HllfLCYdnvv69I374KXnaZtGGDpKq/Dy3fGNVXazZr8133KPD55/KaNava3Q4AABo8CncAQK1r2rSpbNv+yTT76tWrfzL1DiB7eV26KHXggbJcV8599/36g11X9jPPKNKrl0KXXSZr7Vq5u+6q2BNPKPbuu3L3379uQgPAjsrLU+Kvf1V09mwljztOViql4NixyuneXWXjxuuhjxbr7ne/1j2vf6rbZ6zWa537qeLmW6TiYtPJAQBALaBwBwDUulAopN69e+vNN9/c4vVvvvmm9ttvP0OpAJiQuOACSZLz8MPS5s0/+5jAO+8osv/+Cp99tgLffCOvRQvF//1vRT/+WKnjjpN4ZgyABsjr2FHxJ55Q9JVX5O6+u9z1G/Tc0+/rkycmqGD9GnWY8YFc19XL+5+gD/c+7LffIQAAaBAc0wEAANlp5MiRGjx4sPr06aO+fftq3LhxWrJkiYYPH246GoA65A4apI27ddHsRK4WjXtV4f37qVubQu3eMl+BuXMV+tvfZL/9tiTJKyhQ4tJLlbzwQikvz3ByANvN8yTX3aZv1ra+jefJ2o7H569cqUB5uexvvvnNx8t1t/5j/CD/z71N6pBD9FX732lRpJM6LPlcuV/NlSS1sCxV9j5eU78t1b6dGitoMxMHAEBDR+EOAMiIU045RevWrdMNN9ygFStWqGvXrnrttdfUoUMH09EA1KHSWErjT7tC//v0G9n/W61E87X6aP4yHTlrok4Yf5ssSV4wqOSwYUpcfrnUrJnpyKgNnrfNpes2F651VNLKddX6q69UUFwsJz9/uwvXX3v8b77Njz/PVOqXH/8rPyc/eZut+PmztuGx6cfXY+0MfuzyNrsrsdfuyk3E0q/zcnKV37yJNkWTqkykKNwBAMgCFO4AgIwpKSlRSUmJ6RgADPrgi3X6rNlO6lw2TaE1UblTKrV27Sa9E7DVu1FLtRmwjxIjR8pr21ZWMil99129LFy3tUDNjUa129KlCn74YWYK1996G9Olq+eZ/l+vVu1mOkAW8yxLCgR++1v147xteGzNtx++TSyRUNJ1lVdQ8LOP/bm3+bX3/atv86PHFgTyFbR3Ulnn9iqc/bEUrZTbs6fKKpNqWRhWbsg2/csBAABqAYU7AAAAMmbOso0qyA/LycuVYlEFvl2sZpIWNeugL5q0V4f//lfOf/9rOmatC0nqbDpEA7JVJWotlq5bW6LWvM360lLl5ecrnJu7Q4Xrb77NVpbP3jY+fqt/zn74+G1439v9NpZV53c0LF68WKWlperevXudflxJauN52m3qEs1eWqZWi5cod9UKrWnWTknXVd9OxXICgTrPBAAAah+FOwAAADLOa9dOWr/+l3+8nheuW1ui1jw+mUpp5erVatu+ff0qXDP4+O0taRvCpbifTp+ujh07qkWLFqajoAELWJb+0Ku1ckO2Pk9Jq/MbqyA3pMO7t9Q+OxWbjgcAAGoJhTsAAAAypmfbIr08b6XinXZRzty58ho31srjT1JOSmo7eoQqmuQ1iMJ1W23evFkLpk1Ti4MPNh0FQD1SGAnq1D5tVfnRY6rYHFXeX09TZNempmMBAIBaROEOAACAjNl/lyZatKpcX3y+QaHGbZUsLFIwJR22ezO1y9KyHQB+leep8doVapJIqLK4UNl14wEAAKBwBwAAQMY0yg3q/P076pPSxVqydL5ymjXRbv3PVJdW+bIo2wH4USwmK5GQJHkFBYbDAACA2kbhDgAAgIwqiDga0MhV5OOX5HbvrmhrCiYAPrZp0/ffz883lwMAAGQE16ADAAAg81y36iVT7QB8zqou3L38/KqLgwEAQFbhT3cAAABknle1pdijXALgdz8s3AEAQNbhxAMAAIDMqy7cmeYE4Hc1E+5ifzsAAFmJEw8AAAAyzqpZKUPhDsDvysslcWEqAADZihMPAAAAMo/CHQAk/WDCnZUyAABkJU48AAAAyDwuTQWAKjU73AsLDQcBAACZQOEOAACAzGPCHQAkMeEOAEC248QDAACAzOPSVACQ9H3hzoQ7AADZiRMPAAAAMo+VMgBQhQl3AACyGoU7AAAAMo+VMgAgiQl3AACyHSceAAAAZB6FOwBUKS+vesmEOwAAWYkTDwAAADKPlTIAIEmyysokSV5BgeEkAAAgEyjcAQAAkHlMuANAlZoJdwp3AACyEiceAAAAZJ7nVb2kcAfgc+kJd1bKAACQlTjxAAAAIPOYcAeAKjUT7lyaCgBAVuLEAwAAgMyrnnD3KNwB+Jy1aZMkJtwBAMhWnHgAAACQeUy4A0CV6sKdCXcAALITJx4AAABknFVTuFuW2SAAYFIsJiuRkMSEOwAA2YrCHQAAAJnHhDsASNUXpkqSKNwBAMhKnHgAAACQedU73CncAfiZVX1hqpeXJ9m24TQAACATOPEAAAAg85hwB4D0hLtXUGA4CAAAyBROPAAAAMg8drgDQHrCXRTuAABkLQp3AAAAZB4T7gAgbdokiQl3AACyGSceAAAAZB4T7gAgq7pw58JUAACyF4U7AAAAMo8JdwBgwh0AAB/gxAMAAIDM87yqlxTuAHwsPeFO4Q4AQNbixAMAAIDMY8IdANKFOxPuAABkL048AAAAyDwm3AEgvVKGCXcAALIXJx4AAABkXvWEu0fhDsDHmHAHACD7ceIBAABA5tWslLEsszkAwKTy8qqXFO4AAGQtCncAAABknMUOdwD4fsI9P99wEgAAkCmceAAAAJB57HAHgO93uBcWms0BAAAyhhMPAAAAMo8JdwBgwh0AAB/gxAMAAIDMY4c7ADDhDgCAD1C4AwAAIPMo3AFAVvWlqUy4AwCQvSjcAQAAkHmslAEAqays6mVBgdkcAAAgYzjxAAAAIPMo3AH4XSwmK5GQJHkU7gAAZC1OPAAAAMg8z6t6SeEOwK9qptsliZUyAABkLU48AAAAyDwm3AH4XHp/e16eZNuG0wAAgEzhxAMAAIDMo3AH4Hc1E+5MtwMAkNU48QAAACDzalbKWJbZHABgSHrCvbDQcBIAAJBJFO4AAADIPCbcAfjdpk2SJI8JdwAAshonHgAAAGQehTsAn7OqC3cVFJgNAgAAMooTDwAAADKveqWMR+EOwK9qVspQuAMAkNU48QAAACDzmHAH4HNWzaWpFO4AAGQ1TjwAAADIOIvCHYDPWUy4AwDgC5x4AAAAkHk1hTsA+FXNhDuXpgIAkNUo3AEAAJB5TLgD8Ln0hHthoeEkAAAgkzjxAAAAIPMo3AH43aZNVS+ZcAcAIKtx4gEAAEDmeV7VSwp3AD5lVRfu7HAHACC7ceIBAABA5jHhDsDvaibcKdwBAMhqnHgAAACQeRTuAHyOCXcAAPzBMR0AAAAAPlCzUsayzOYAAFOYcM8Knufpm+LWWp9TqIKNMbXJzZXFn20AgB+gcAcAAEDmMeEOwOes8nJJTLg3ZKUVCT300TJ9fsj5qghGFHnrW/XaqUyD926rvDD1CgCgCiceAAAAZB6FOwC/Y8K9QfM8T49MX6rpS8pUEKvQzuuWKTcY0PtfrNNzc1aYjgcAqEc48QAAACDzalbKULgD8KNYTFY8LokJ94bqu9KoFizfpJb5IRXGNisgT0URR01yg5rx7QaVViRMRwQA1BOceAAAAJB51RPuHoU7AD+qmW6XpPx8czmw3TZWJhVNpJQbsrd4fW7YVjThqrSSwh0AUIUlYwAAAMi8mpUyXCwHwIes6sLdy82VbPs3Ho36qHlBSHkhR2UJT87gwVWvdByVbYopP+yoaX7IbEAAQL3BiBEAAAAyzmKHOwA/Y397g9esIKx9OxVrXUVCq6MpVXiWVpZFVR5PaWDnJsrn0lQAQDX+RAAAAEDmMeEOwMfSE+4U7g3aqX1aK+IE9NHX67WhIqHCiKOjujbREV1bmI4GAKhHKNwBAACQeUy4A/AzCvesEHZsndKnjY7q1kIbK5Mqzg3+ZKc7AAAU7gAAAMg8z6t6SeEOwIcsVspklfywwwoZAMAv4sQDAACAzGPCHYCflZdLYsIdAAA/4MQDAACAzGOHOwAfs8rKqr6Tn282CAAAyDgKdwAAAGQeE+4AfMyqmXAvLDScBAAAZBonHgAAAGQeO9wB+BkT7gAA+AYnHgAAAGQeE+4AfIwJdwAA/IMTDwAAADKPCXcAflZduDPhDgBA9uPEAwAAgMxjwh2Aj9VcmupRuAMAkPU48QAAACDzagp3yzKbAwBMqJlwZ6UMAABZj8IdAAAAmceEOwAfY8IdAAD/4MQDAACAzKsu3D0KdwB+xIQ7AAC+wYkHAAAAGWexUgaAj1mbNkliwh0AAD+gcAcAAEDmeV7VSybcAfhRdeHOhDsAANmPEw8AAAAyjx3uAPwqFpMVj0tiwh0AAD/gxAMAAIDMY6UMAL+qmW6XpIICczkAAECdoHAHAABA5jHhDsCn0vvbc3Ml2zacBgAAZBonHgAAAGQeO9wB+FXNhDvT7QAA+AInHgAAAGQeE+4AfCo94U7hDgCAL3DiAQAAQOYx4Q7Ar2om3LkwFQAAX+DEAwAAgMxjwh2AT1nl5ZIkr7DQcBIAAFAXOPEAAAAg82oKd8symwMA6lrNShkm3AEA8AUKdwAAAGQeE+4AfMri0lQAAHyFEw8AAAAyj8IdgE9xaSoAAP7CiQcAAACZV124exTuAPyGCXcAAHyFEw8AAAAyz/OqXrLDHYDPMOEOAIC/ULgDAAAg87g0FYBflZdXvaRwBwDAFyjcAQAAkHEWO9wB+JRVViZJ8vLzDScBAAB1gRMPAAAAMo/CHYBf1Uy4FxaazQEAAOoEJx4AAABkXs0Odwp3AD7DhDsAAP7CiQcAAACZx4Q7AL9ihzsAAL7CiQcAAACZx4Q7AJ+yqgt3j8IdAABf4MQDAACAzKuZcLcsszkAoK5Vr5Rhwh0AAH+gcAcAAEDmsVIGgB/FYrLicUlMuAMA4BeceAAAAJB5FO4A/GjTpu+/z6WpAAD4AiceAAAAZB6FOwAfSu9vz82VHMdwGgAAUBc48QAAACDzKNwB+FHN/nam2wEA8A1OPAAAAMg8z6t6SeEOwEfSE+6FhYaTAACAusJz2gAARniep00/3Gv6G7788ks9+uijeu+992RZ1hY/lpOT85PX+YnneZo9e7avfw6yhVddSq9YscJwktp3dColS9LkDz5QrEkT03EyrubX8q233jKcBLXB8zzNmzePr7NZoK5/bzafOVP7SirzPE3m60Gtqvm1fOeddwwnMce2bRUUFCg/P1/5+fnKycmR9P3PDQDADAp3AMAO+/bbb3XjjTfqnXfe0cqVK9W6dWudeeaZuuaaaxQKhdKPW7JkiS644AK98847ikQiWr9+fa18/G+++UYFBQW18r4aopkzZ2rnnXdWcXGx6SjYQYsXL1YsFlPnzp1NR6l1VvXhf6999pHXooXhNJlXUVGhOXPmqF+/fqajoBZ88sknatu2rZo2bWo6CnbQd999p7KyMu2+++518vFCq1dLkvJatuTrQS1LJBKaPn26+vbtq4APnz3luq4SiYSi0ajKy8u1du3a9DDL+++//7NFPACgblC4AwB22Oeffy7XdXXfffdpl1120YIFCzRs2DBt3rxZo0ePliSlUikdddRRatasmT788EOtXbtWZ511lo455hiNGjVKklRWVqbevXtr//3312WXXaYvv/xSJSUluuKKKzR48GB16NBBixYtUuGPnpZdUFDg66nDQCCgcDjMYSoLBINBpVKp7Pu19Lx04R7JzZWy7fP7Ga7ryrKs7Pu19KlAIKBQKMSvZxYIBoOybbvOfi3tWEySZBUV8f9PLbNtW1LVMx39Wrjn5OSoyQ+eNZZMJvXWW2+pZ8+eqqysVHl5udasWbNFEZ+fn6+CgoL0/4/xeFwOF/oCQK3iqyoAYIcdfvjhOvzww9P/3alTJy1atEhjx45NF+6TJk3SZ599pqVLl6p169aSpNtvv11DhgzRqFGjVFhYqMcff1yxWEyPP/64wuGw9t13Xy1btkx33323SkpKJFWV6z8u3AHUcz98arsPSxEA/mXVrM/j0lTUoaKiop8t4rt3756eiF+zZo0kafLkyQqFQsrPz1dubq4kacOGDSoqKtrimaoAgK1H4Q4AyIiNGzeqcePG6f+eOnWqunbtmi7bJWnQoEGKxWKaNWuWDjzwQE2dOlUDBgxQOBze4jFXXXWVlixZUqf5AdQiCncAPlVTuHNpKuqDRo0apafZa0r4gQMHpkv4jRs3SpLmz5+veDyucDisvLy8LYr4Ro0aKRgMGvscAKAhoHAHANS6r776Snfffbf+9a9/pV+3cuVKtfjR3ubi4mKFQiGtXLky/ZiOHTtu8Ziat1m1alVmQwPIHNf9/vsU7gD8hAl31HOO46hRo0Zq1KiRWrZsqaVLl+qAAw6Q53kqLy9XeXm5ysrKJG1ZxNeU8Js2bVI+/38DwBY48QAAftH1118vy7J+9dvMmTO3eJvly5fr8MMP10knnaShQ4du8WM/t2fd87wtXv/jx3jVk7F+3tEONHg/LNz5vQzAR6zycklMuKPhCQaDKi4uVrt27bTbbrtJkg444AAdfPDB6tGjh5o3by6papc8AGBLTLgDAH7RhRdeqFNPPfVXH/PDifTly5frwAMPVN++fTVu3LgtHteyZUtNnz59i9dt2LBBiUQiPcXesmXL9LR7jdWrV0tS+i/1ABogJtwB+BUT7sgyNUV8QUGBFi1apKKiItORAKDeoXAHAPyipk2bqmnTplv12O+++04HHnigevfurfHjxyvwo1Ktb9++uvnmm7VixQq1atVKUtVFquFwWL17904/5uqrr1Y8Hk9f0jRp0iS1bt1a7du3r8XPDECdonAH4FPpHe4FBYaTAACAusKJBwCww5YvX66BAweqXbt2Gj16tNasWaOVK1duMa1+2GGHqUuXLho8eLDmzJmjt99+W5dddpmGDRumwuqnWZ9++ukKh8MaMmSIFixYoBdffFG33HKLRo4cyUoZoCGjcAfgVzUT7hTuAAD4BhPuAIAdNmnSJH355Zf68ssv1bZt2y1+rGYHu23bevXVV1VSUqJ+/fopJydHp59+ukaPHp1+bFFRkd58801dcMEF6tOnj4qLizVy5EiNHDlSGzdurNPPCUAtqv46IInCHYCvMOEOAID/ULgDAHbYkCFDNGTIkN98XPv27TVhwoRffUy3bt00efLkWkoGoF5gwh2AXzHhDgCA73DiAQAAQGb9sHBnPRQAH7HKyyUx4Q4AgJ9QuAMAACCzmHAH4FdlZVUvKdwBAPANTjwAAADILCbcAfhRLCYrHpckefn5hsMAAIC6QuEOAACAzKou3D3LonAH4B81+9slJtwBAPARCncAAABkludVvWSdDAAfSe9vz8mRHMdwGgAAUFc49QAAACCjrJrCnel2AH7C/nYAAHyJwh0AAACZVbPDnQl3AD6SnnCncAcAwFc49QAAACCzKNwB+FHNDncKdwAAfIVTDwAAADKLwh2AD1nVhTsT7gAA+AunHgAAAGQWhTsAP2KlDAAAvsSpBwAAAJlVc2kqhTsAH7FqLk3NzzcbBAAA1ClOPQAAAMismgl3yzKbAwDqUs2Ee2Gh4SAAAKAuUbgDAAAgs1gpA8CHmHAHAMCfOPUAAAAgsyjcAfiQxQ53AAB8iVMPAAAAMouVMgD8aNOmqpcU7gAA+AqFOwAAADKLCXcAPmRVF+4eK2UAAPAVTj0AAADILM+rekHhDsBPaibcuTQVAABf4dQDAACAzGKlDAAfYsIdAAB/onAHAABAZlVPuLNSBoCvVF+ayoQ7AAD+wqkHAAAAGWWxwx2ADzHhDgCAP3HqAQAAQGZRuAPwI3a4AwDgS5x6AAAAkFkU7gD8Jh6XFYtJYsIdAAC/4dQDAACAzGKHOwC/qZlul6SCAnM5AABAnePUAwAAgMyqmXC3LLM5AKCOpPe35+RIjmM4DQAAqEsU7gAAAMgsVsoA8JuaCXfWyQAA4DucegAAAJBZFO4AfCY94c6FqQAA+A6nHgAAAGQWK2UA+A0T7gAA+BaFOwAAADKLCXcAPsOEOwAA/sWpBwAAAJnleVUvKdwB+EV5edVLJtwBAPAdTj0AAADILFbKAPAZq6xMkuQVFBhOAgAA6hqFOwAAADKLlTIA/KZ6wp3CHQAA/+HUAwAAgMyqXinjUbgD8ImaHe6icAcAwHc49QAAACCjLCbcAfhM+tJUCncAAHyHUw8AAAAyi8IdgN8w4Q4AgG9x6gEAAEBmVa+U4dJUAH6RnnDPzzecBAAA1DUKdwAAAGQWE+4A/Kb60lQm3AEA8B9OPQAAAMgsCncAPmOVlUlihzsAAH7EqQcAAACZReEOwG+YcAcAwLc49QAAACCzagp3drgD8In0DncKdwAAfIfCHQAAAJnFhDsAv6ku3JlwBwDAfzj1AAAAILM8r+olE+4A/CAelxWLSWLCHQAAP6JwBwAAQGYx4Q7AT2qm2yUm3AEA8CFOPQAAAMgsCncAPpLe356TIzmO4TQAAKCuceoBAABAZlG4A/CTmgn3/HyzOQAAgBGcegAAAJBZNTvcKdwB+IBVXi5J8goLDScBAAAmcOoBAABAZlVPuHsU7gD8oKys6iUT7gAA+BKnHgAAAGRWzYS7ZZnNAQB1ID3hzoWpAAD4EoU7AAAAMspihzsAP6nZ4U7hDgCAL3HqAQAAQGZRuAPwEau6cPdYKQMAgC9x6gEAAEBmUbgD8JOawp1LUwEA8CVOPQAAAMgsCncAPlIz4c6lqQAA+BOnHgAAAGRWTeHOpakAfMBiwh0AAF+jcAcAAEBmeV7VSwp3AH7AhDsAAL5G4Q4AAIDMYqUMAB9JT7gXFBhOAgAATODUAwAAgMyicAfgJ+XlVS8p3AEA8CVOPQAAAMgsCncAPmKVlUliwh0AAL/i1AMAAIDMonAH4CdMuAMA4GucegAAAJBZXJoKwEfSO9y5NBUAAF+icAcAAEBm1RTuTLgD8IPqwl2FhWZzAAAAIzj1AAAAILOqV8p4FO4Asl08LisWk8SEOwAAfsWpBwAAABllscMdgF/UTLdL7HAHAMCnOPUAAAAgsyjcAfiEVX1hqheJSMGg4TQAAMAETj0AAADILAp3AH5RVlb1kul2AAB8i1MPAAAAMqumcAeALJeecKdwBwDAtyjcAQAAkFmeV/WSCXcA2Y4JdwAAfM8xHQAAAADZbZNrqbKgmXIDQYVNhwGADNq0cbNWF7VQQaOmfL0DAMCnKNwBAACQEfGkq3cWrdWcQCdF+5+u3NCu6rVwtQZ0bqqQzbQ7gOwRS6b0+qer9fHSoKIDz1Zu8ybqM3eFDt+jucKObToeAACoQ5x0AAAAkBFvfr5aby5cLdfz1Kx8vRIKaOJna/TeorWmowFArZowf5Ve/3S13HhCzcrXKxUM6rVPV+u1BatNRwMAAHWMwh0AAAC1rrQiodlLNqpxXkjNyzcoNxlTi8pSFeU4+nhxqcpjSdMRAaBWlFYkNOPbUjXODan5uhXKScbVvGKjinODmv7NBpVWJkxHBAAAdYjCHQAAALWutDKhzbGUCiKOAsuWSpKsFStVFHG0OZ5SaQUFFIDssL4irop4SoURR9a66mfwVFaqMBLU5nhKGzbz9Q4AAD+hcAcAAECtK4g4ygnZ2hxPyt1zT0mStWaNyss2KycYUEGEq4QAZIeinKByg3bVM3eaNKl6peOoPJZUbtBWUQ5f7wAA8BMKdwAAANS6JnkhdWtdqNVlca3dq58SLVtpfShX6z/7Ut3bFqkoJ2g6IgDUiiZ5IfVoX6Q15TGta7uTEgFb60O5WlseV8/2RWqcFzIdEQAA1CEKdwAAAGTEoD2aab+dixVLpvR1j/0Ud0I66MOXdWjnxqajAUCtOnbPFhqwaxPFwrlaUtxK8VhCAzs30bF7tjQdDQAA1DGe2wYAAICMyAs5OqlXGw3sHFNZj+ZqMe4KNf/uW8XePFGpY44xHQ8Aak1eyNEZe7fTYcEyVf7jURUHpYL7LzMdCwAAGMCEOwAAADKqWX5YO7dtrOJTT5QkOWPGGE4EAJnRrFNb/W7tYrVYsViqqDAdBwAAGEDhDgAAgDqRPO88ebYte/JkWfPnm44DALWvsFBeTo4kyVq50nAYAABgAoU7AAAA6oTXtq1Sxx0nSQree6/hNACQAZYlr1Wrqu+uWGE4DAAAMIHCHQAAAHUmOWKEJMl+6ilp3TrDaQCg9qULdybcAQDwJQp3AAAA1Bm3b1+53bvLikblPPSQ6TgAUOu8li0lMeEOAIBfUbgDAACg7liWEtVT7s64cVIyaTgQANSudOHOhDsAAL5E4Q4AAIA6lTrpJHlNmyqwbJnsCRNMxwGAWsWEOwAA/kbhDgAAgLoViSh57rmSJGfMGMNhAKB2cWkqAAD+RuEOAACAOpccOlSe48j+6CNZn3xiOg4A1Jr0hPuqVYaTAAAAEyjcAQAAUOe81q2VOv54SVLw3nvNhgGAWsSEOwAA/kbhDgAAACOSJSWSJPuZZ6Q1awynAYDakZ5w37hRqqgwnAYAANQ1CncAAAAY4e69t1K9esmKxeQ89JDpOABQO4qK5OXkSJKslSsNhwEAAHWNwh0AAABmWFZ6yt0ZN05KJAwHAoBaYFnfr5WhcAcAwHco3AEAAGBM6ve/l9e8uQLLl8v+739NxwGAWpFeK8MedwAAfIfCHQAAAOaEw0oOHSpJcsaONRwGAGoHE+4AAPgXhTsAAACMSpxzjrxgUPa0aQrMnm06DgDsMK9FC0lMuAMA4EcU7gAAADCrVSulfv97SUy5A8gOTLgDAOBfFO4AAAAwrubyVPu556RVqwynAYAdww53AAD8i8IdAAAAxrl9+ii1996y4nE5Dz5oOg4A7BAm3AEA8C8KdwAAANQLyREjJEnB+++X4nHDaQBg+6Un3CncAQDwHQp3AAAA1Aup44+X27KlrFWrZL/4ouk4ALDd0hPupaVSZaXZMAAAoE5RuAMAAKB+CIWUHDZMEpenAmjgiork5eRIYsodAAC/oXAHAABAvZE8+2x5oZDsjz9W4OOPTccBgO1jWVycCgCAT1G4AwAAoP5o0UKpP/xBElPuABo2Lk4FAMCfKNwBAABQryRKSiRJ9gsvSEyGAmigmHAHAMCfKNwBAABQr3g9eyrVt6+sRELB//zHdBwA2C7pwp0JdwAAfIXCHQAAAPVOcsQISZLzwANSLGY4DQBsOybcAQDwJwp3AAAA1DupY4+V27q1rDVrZD//vOk4ALDN0jvcKdwBAPAVCncAAADUP8GgkuedJ0lyxoyRPM9wIADYNukJ91WrDCcBAAB1icIdAAAA9VLy7LPlhcOy58xRYMYM03EAYJsw4Q4AgD9RuAMAAKB+atpUqVNOkVQ95Q4ADUi6cC8tlSorzYYBAAB1xjEdAADgT57nadOmTVv9+G+++UZ33HGHpkyZokBgy38vzs3NlWVZtR2xwYhGo1qwYIFs2zYdBTsokUjI8zxt2LDBdJR6o2DffdX3kUcUeOEFfXz88Yo1a2Y60lZxXVeu6+rDDz80HQW1IBqN6vPPP9cXX3xhOgp2UDKZVCqVqpvfm56ng0Mh2fG4Zk2YoMrqAh61w6teNTZlyhTDSczJzc3VLrvsouLiYtNRAAA/QOEOAKhVsVhM++yzj+bOnas5c+aoR48e6R9bsmSJLrjgAr3zzjuKRCJav359rXzMzz77TAUFBbXyvhqiBQsWqH379iosLDQdBTto+fLlisfj6tixo+ko9UeXLoo9/LDC06er5/TpKrv8ctOJtko0GtVnn32mLl26mI6CWrBw4UK1bNmSUisLrFq1SuXl5dp5553r5ON5LVtKS5Zot8JCxfl6UKuSyaTmzp2r3Xff3ZeDF67rasOGDZo5c6aKioq0yy678HdBAKgnKNwBALXq8ssvV+vWrTV37twtXp9KpXTUUUepWbNm+vDDD7V27VqdddZZOuaYYzRq1ChJUllZmXr37q39999fl112mb788kuVlJToiiuu0ODBg9WhQwctWrToJ4eJgoICXx60ati2rYKCAjVu3Nh0FOygDRs2yLIsfi1/7E9/ks44QwVPPinn+uulSMR0ot+0efNmfi2ziOM4ys/P59czC2zatEnxeLzOfi2tNm2kJUtUtHmzUvz/U6vi8bgkqbi4+CfPfvQD13XVuHFjderUSYsXL9bs2bN9PYACAPWJ//5UAgBkzOuvv65JkyZp9OjRP/mxSZMm6bPPPtNjjz2mnj176tBDD9Xtt9+uhx9+WJJUWFioV155RbFYTI8//rj23XdfnXnmmbr66qs1ZsyY9AGioKBAhYWFW3zzc9kO+EHq6KPltmsna+1a2c8+azoOAGy19B73lSsNJ0G2CoVC2nXXXTVgwAA1atRIkjRz5kytW7fObDAA8DEKdwBArVi1apWGDRumRx99VLm5uT/58alTp6pr165q3bp1+nWDBg1SLBbTrFmz0o8ZMGCAwuHwFo9Zvny5lixZkvlPAkD95DhKnneeJCk4ZoxUvbcXAOo7r0ULSZK1YoXhJMh2wWAwvSqpcePGmjNnjqZPn65169al990DAOoGhTsAYId5nqchQ4Zo+PDh6tOnz88+ZuXKlWpRfeisUVxcrFAopJXVU18/95ia/161alUGkgNoKJJDhsjLyVFg3jwFfHxBHoCGJT3hTuGOOtSpUycNGDBATZo00Zw5c9LDLRTvAFA3KNwBAL/o+uuvl2VZv/pt5syZuvvuu1VWVqarrrrqV9/fz61+8Txvi9f/+DE1BwPWxgA+17ixUqeeKklyxo41HAYAto7XsqUkVsqg7gWDQe2yyy4aMGBA+s6CmTNnau3atRTvAJBhXJoKAPhFF154oU6tLrh+SceOHXXTTTdp2rRpW6yCkaQ+ffrojDPO0MMPP6yWLVtq+vTpW/z4hg0blEgk0lPsLVu2TE+711i9erUkqXnz5jv66QBo4BLDh8sZP172yy/LWrpUXrt2piMBwK9ihztMCwaD6tSpk77++ms1adJEc+fOVV5enjp27Gg6GgBkLQp3AMAvatq0qZo2bfqbj/v3v/+tm266Kf3fy5cv16BBg/T0009rn332kST17dtXN998s1asWKFW1YfPSZMmKRwOq3fv3unHXH311YrH4wqFQunHtG7dWu3bt6/tTw9AA+N17arUAQfInjxZzv33K3HDDaYjAcCvYsId9UmnTp3UqVMnLV68WAsWLJAkrV27Vi1atODZpABQi1gpAwDYYe3bt1fXrl3T3zp37ixJ2nnnndW2bVtJ0mGHHaYuXbpo8ODBmjNnjt5++21ddtllGjZsmAoLCyVJp59+usLhsIYMGaIFCxboxRdf1C233KKRI0dyCAAgSUqWlEiSnPHjpcpKw2kA4NelJ9w3bOBrFuoFx3G08847q3///pKkBQsWaNq0aVqzZg2rZgCgllC4AwDqhG3bevXVVxWJRNSvXz+dfPLJOv744zV69Oj0Y4qKivTmm29q2bJl6tOnj0pKSjRy5EiNHDnSYHIA9UnqyCPldugga/162U8/bToOAPy6Ro3kRSKSJIsL4FGPOE7VwoP+/furRYsWmjdvnj7++GNJXK4KADuKlTIAgFrXsWPHn/2Levv27TVhwoRffdtu3bpp8uTJmYoGoKGzbSXPP1+hq69WcMwYpc46S+IZMADqK8uS17KlrG+/lbVihTz2ZqOecRxHnTp1Uvv27fXtt9+qrKxMM2bM0K677qpmzZrxLFMA2A5MuAMAAKBBSf7xj/JycxX49FMFPvjAdBwA+FVcnIqGwHGc9EWqLVq00IIFCzR16lStXr2aiXcA2EYU7gAAAGhYiouVPP10SZIzdqzhMADw69IXp65YYTgJsHU6duyoAQMGqHXr1lqwYIFmzJghiVUzALC1KNwBAADQ4CSHD5ck2RMmyFq82HAaAPhlFO5oiGzbThfvLav/H54+fbpWrVpF8Q4Av4HCHQAAAA2Ot/vuSh10kCzXlTNunOk4APCL0oU7K2XQANm2rQ4dOkiSWrVqpc8++0xTpkzRKi4BBoBfROEOAACABilRUiJJch56SNq82WwYAPgF6R3uTLijgevQoYMOOOAAtW3bVosWLZIklZaWmg0FAPUQhTsAAAAaJHfQILmdOskqLZXz1FOm4wDAz2LCHdmkZuK9X79+kqRAgFoJAH6Mr4wAAABomAIBJc8/X1L15anslAVQD6Un3CnckUVs25YkFRYWGk4CAPUPhTsAAAAarOTgwfLy8hRYuFCB994zHQcAfiJduG/YIEWjhtMAAIBMo3AHAABAw1VUpOSZZ0qqnnIHgPqmUSN54bAkptwBAPADCncAAAA0aMnhwyVJ9muvyfr6a8NpAOBHLIu1MgAA+AiFOwAAABo0r3NnpQ49VJbnybnvPtNxAOAn0henrlhhOAkAAMg0CncAAAA0eIkRIyRJziOPSOXlhtMAwJbSE+4U7gAAZD0KdwAAADR47qGHyt1lF1llZXKeeMJ0HADYQnrCnZUyAABkPQp3AAAANHyBQHqXu3PvvZLrGg4EAN9jpQwAAP5B4Q4AAICskDzjDHkFBQosWqTAO++YjgMAaUy4AwDgHxTuAAAAyA6FhUoOHixJCo4ZYzgMAHyPHe4AAPgHhTsAAACyRnL4cHmWJfuNN2R9+aXpOAAg6QeF+6pVhpMAAIBMo3AHAABA1vB23lnuoEGSqne5A0A9kF4ps369FI0aTgMAADKJwh0AAABZJTFihCTJeewxqazMcBoAkFRcLC8clsSUOwAA2Y7CHQAAAFnFPfhgubvtJmvTJjmPP246DgBIlvX9lDt73AEAyGoU7gAAAMgulqVkzZT7vfdKrms4EABwcSoAAH5B4Q4AAICskzztNHlFRQp8+aUCkyaZjgMA30+4r1xpOAkAAMgkCncAAABkn/x8Jf/4R0lScOxYw2EAgAl3AAD8gsIdAAAAWSl5/vnyLEv2W2/JWrTIdBwAPue1aCGJCXcAALIdhTsAAACykrfTTkodeaQkybnvPsNpAPgdE+4AAPgDhTsAAACyVvry1McekzZuNJwGgJ+lC3cm3AEAyGoU7gAAAMha7sCBcnffXdbmzXIeecR0HAA+xqWpAAD4A4U7AAAAspdlKVFSIql6rUwqZTgQAL9KT7ivXy/FYobTAACATKFwBwAAQFZLnXKKvOJiBb75RvYbb5iOA8CviovlhcOSmHIHACCbUbgDAAAgu+XlKXnWWZIkZ8wYw2EA+JZlfb9WhotTAQDIWhTuAAAAyHrJ886TFwjIfvddWQsXmo4DwKfY4w4AQPajcAcAAEDW8zp0UOrooyVJzr33Gk4DwK/Se9yZcAcAIGtRuAMAAMAXkjWXpz7xhLRhg+E0APyICXcAALIfhTsAAAB8we3fX27XrrIqKuQ8/LDpOAB8iB3uAABkPwp3AAAA+INlKVEz5X7ffVIqZTgQAL9Jr5Rhwh0AgKxF4Q4AAADfSJ18srzGjRVYskT2a6+ZjgPAZ5hwBwAg+1G4AwAAwD9ycpQ8+2xJkjNmjOEwAPwmPeG+apXhJAAAIFMo3AEAAOAryfPOk2fbsidPlrVggek4AHwkPeG+bp0UixlOAwAAMoHCHQAAAL7itW2r1HHHSZKCY8caTgPAVxo3lhcKSWLKHQCAbEXhDgAAAN9JjhghSbKfekpat85wGgC+YVnscQcAIMtRuAMAAMB33L595XbvLisalfPQQ6bjAPCR9B53CncAALIShTsAAAD8x7KUqJ5yd8aNk5JJw4EA+EV6wn3lSsNJAABAJlC4AwAAwJdSJ50kr2lTBZYtkz1hguk4AHyCCXcAALIbhTsAAAD8KRJR8txzJUnOmDGGwwDwCybcAQDIbhTuAAAA8K3k0KHyHEf2Rx/J+uQT03EA+ACXpgIAkN0o3AEAAOBbXuvWSh1/vCQpeO+9ZsMA8IX0Shkm3AEAyEoU7gAAAPC1ZEmJJMl+5hlpzRrDaQBkO1bKAACQ3SjcAQAA4Gvu3nsr1auXrFhMzkMPmY4DIMulJ9zXrZNiMcNpAABAbaNwBwAAgL9ZlpIjRkiSnHHjpETCcCAAWa1xY3mhkCTJWrXKcBgAAFDbKNwBAADge6kTT5TXvLkCy5fL/u9/TccBkM0si4tTAQDIYhTuAAAAQDis5NChkiRn7FjDYQBkO/a4AwCQvSjcAQAAAEmJc86RFwzKnjZNgdmzTccBkMXSe9yZcAcAIOtQuAMAAACS1KqVUr//vSSm3AFkVrpwZ8IdAICsQ+EOAAAAVEuWlEiS7Oeek7jMEECGsMMdAIDsReEOAAAAVHP79FFq771lxeNyxo83HQdAlmKHOwAA2YvCHQAAAPiB5IgRkqTguHFSPG44DYBsxIQ7AADZi8IdAAAA+IHU8cfLbdlS1qpVsl980XQcAFkovcOd1VUAAGQdCncAAADgh0IhJYcNk8TlqQAyIz3hvnatFIsZTgMAAGoThTsAAADwI8mzz5YXCsn++GMFPv7YdBwA2aZJE3nBoCSm3AEAyDYU7gAAAMCPtWih1B/+IIkpdwAZYFlcnAoAQJaicAcAAAB+RqKkRJJkv/CCxMWGAGpZeo87X18AAMgqFO4AAADAz/B69lSqb19ZiYSC//mP6TgAsgwT7gAAZCcKdwAAAOAXJEeMkCQ5DzzAxYYAahUT7gAAZCcKdwAAAOAXpI49Vm7r1rLWrJH9/POm4wDIIunCnQl3AACyCoU7AAAA8EuCQSXPO0+S5IwZI3me4UAAsoXXooUkJtwBAMg2FO4AAADAr0gOGSIvHJY9Z44CM2aYjgMgSzDhDgBAdqJwBwAAAH5Ns2ZKnXKKpOopdwCoBVyaCgBAdqJwBwAAAH5DYvhwSZL94ouyvvvOcBoA2SA94b52rRSPG04DAABqC4U7AAAA8Bu87t2V6t9fViol54EHTMcBkA2aNJEXDEqSrFWrDIcBAAC1hcIdAAAA2ArJESMkSc6DD0rRqOE0ABo8y/p+rQwXpwIAkDUo3AEAAICtkDr6aLnt2slau1b2s8+ajgMgC7DHHQCA7EPhDgAAAGwNx1HyvPMkScGxYyXPMxwIQEOX3uPOhDsAAFmDwh0AAADYSskhQ+Tl5Cgwd64CU6aYjgOggUsX7ky4AwCQNSjcAQAAgK3VuLFSp54qSXLGjjUcBkBDxw53AACyD4U7AAAAsA0Sw4dLkuyXX5a1dKnhNAAaMna4AwCQfSjcAQAAgG3gde2q1AEHyEql5Nx/v+k4ABowJtwBAMg+FO4AAADANkqWlEiSnPHjpcpKw2kANFTscAcAIPtQuAMAAADbKHXkkXI7dJC1fr3sp582HQdAA5WecF+7VorHDacBAAC1gcIdAAAA2Fa2reT550uSgmPGSJ5nOBCABqlJE3nBoCTJWrXKcBgAAFAbKNwBAACA7ZD84x/l5eYq8OmnCnzwgek4ABqiQEBeixaSWCsDAEC2oHAHAAAAtkdxsZKnny5JcsaONRwGQEOV3uPOxakAAGQFCncAAABgOyWHD5ck2RMmyFq82HAaAA0RF6cCAJBdKNwBAACA7eTtvrtSBx4oy3XljBtnOg6ABih9cSoT7gAAZAUKdwAAAGAHJC64QJLkPPSQtHmz2TAAGhwm3AEAyC4U7gAAAMAOcAcNktupk6zSUjlPPWU6DoAGJn1pKhPuAABkBQp3AAAAYEcEAkqef76k6stTPc9wIAANCZemAgCQXSjcAQAAgB2UHDxYXl6eAgsXKvDee6bjAGhA0jvcWSkDAEBWoHAHAAAAdlRRkZJnnimpesodALZSesJ97VopHjecBgAA7CgKdwAAAKAWJIcPlyTZr72mwLffmg0DoOFo0kSe40iSrNWrDYcBAAA7isIdAAAAqAVe585KHXqoLM9Tzn/+YzoOgIYiEPh+rQx73AEAaPAo3AEAAIBakhgxQpIUeeIJ2ZWVhtMAaCjSa2XY4w4AQINH4Q4AAADUEvfQQ+XusosCmzap7bvvmo4DoIFgwh0AgOxB4Q4AAADUlkAgvct9pwkTJNc1HAhAQ8CEOwAA2YPCHQAAAKhFyTPOkJufr4JlyxR45x3TcQA0AEy4AwCQPSjcAQAAgNpUWKjo6adLkoJjxhgOA6AhSBfuTLgDANDgUbgDAAAAtazynHPkWZbsN96Q9eWXpuMAqOeYcAcAIHtQuAMAAAC1zO3USat795YnafO9D2hDRVxJ9rkD+AXpHe4U7gAANHiO6QAAAABANpp/9PFy1rlaOnupojOXqLhxgfZoXaAOjXNNRwNQz6Qn3NeulRIJKRg0nAgAAGwvJtwBAACAWhZPuvqoXTct2r2PCso2qNmsadpQkdC0rzdoZVnUdDwA9U3TpvKcqnk4a9Uqw2EAAMCOoHAHAAAAatnKTXFtiFtq27+P8uOVynvjNbUuDCmaSOmbdRWm4wGobwIBLk4FACBLULgDAAAAtawykar6zsAB8vJyZS1fIWvOJ8oJ2SrdnDAbDkC9xMWpAABkB3a4AwAAALUsJ2hLnpQKhZU69lgpmZTXaSdVxlNq2yjHdDwA9VD64lQm3AEAaNAo3AEAAIBa1qIgpEZhacmGSrU4+ng5AUvrK+IK2dJOTbk0FcBPMeEOAEB2oHAHAAAAalnYCeh3jaSCprlaWRZVKiU1ynXUtXWhWhVFTMcDUA8x4Q4AQHagcAcAAAAyIC8oDdy1iTZWJpV0PRXlOAraXKEE4Ocx4Q4AQHagcAcAGOF5njZt2rTVj//222919dVXa9asWXKcLf/4ys3NlWVZtR2xwYhGo/riiy/07bffmo6CHVRRUSHXdTVr1izTUbCDUqmUXNfV7NmzTUdBLdi8ebO+/vprLVu2zHQU7KDKykolk8l6+XW2uLxcXSVVfv215tTDfPWN67qSpNmzZ/vy74Ge56mwsFC77babAgH+MRcA6hMKdwBArXn11Vd1ww03aN68ecrLy9MBBxygF154If3jS5Ys0QUXXKB33nlHkUhE69evr5WPO3v2bBUUFNTK+2qIysvL1bhxY+Xn55uOgh20evVqJRIJtapeK4CGKxaLqaysjF/LLFFRUaFGjRqpqKjIdBTsoLVr16qioqJe/t4M7babJCmyYUO9zFffJJNJlZaWqlWrVr4s3F3X1ZIlS1ReXq4ePXooGAyajgQAqEbhDgCoFc8//7yGDRumW265RQcddJA8z9P8+fPTP55KpXTUUUepWbNm+vDDD7V27VqdddZZOuaYYzRq1ChJUllZmXr37q39999fl112mb788kuVlJToiiuu0ODBg9WhQwctWrRIhYWFW3zsgoICXx60anzzzTdq0qSJmjRpYjoKdlBlZaWi0ahat25tOgp2UM1ENL+W2WHp0qVq3LixWrRoYToKdlAikZDnefXz92b1M/icdevUulkziQL1V8XjcS1atEitWrXy5YS367pq3ry5Fi5cqKlTp6pXr16KRLgjBADqAwp3AMAOSyaTuvjiizVq1Cide+656dfvVj2pJUmTJk3SZ599pqVLl6YPubfffruGDBmiUaNGqbCwUI8//rhisZgef/xxhcNh7bvvvlq2bJnuvvtulZSUSKoq139cuAMAADR4TZvKcxxZyaSs1avltWljOhHqOcdx1LNnT33xxReaNm2aunbtajoSAECS//4ZGABQ62bPnq3vvvtOgUBAPXv2VKtWrXTEEUfo008/TT9m6tSp6tq16xYTZYMGDVIsFkvvUZ06daoGDBigcDi8xWOWL1+uJUuW1N0nBAAAUNcCAXnVz6Lg4lRsLcuy1LlzZ3Xp0kXz5s2TVLXfHQBgDoU7AGCHff3115Kk66+/Xtdee60mTJig4uJiDRgwIL2nfeXKlT95Kn5xcbFCoZBWrlz5i4+p+e9Vq1Zl+tMAAAAwyqve3W5V/90I2FqtW7dWr169JEmfffZZ+lJZAEDdo3AHAPyi66+/XpZl/eq3mTNnpv9Cf8011+jEE09U7969NX78eFmWpWeffTb9/n5uz7rneVu8/sePqZnQ8fOOdgAA4A9ey5aSmHDH9mnUqJEkqby8XDNmzFAsFjMbCAB8ih3uAIBfdOGFF+rUU0/91cd07NhRmzZtkiR16dIl/fpwOKxOnTqlV8G0bNlS06dP3+JtN2zYoEQikZ5ib9myZXravcbq1aslSc2bN9+xTwYAAKCeY8IdtaFPnz5bXKaam5trOhIA+AqFOwDgFzVt2lRNmzb9zcf17t1b4XBYixYtUv/+/SVJiURC3377rTp06CBJ6tu3r26++WatWLFCraoPk5MmTVI4HFbv3r3Tj7n66qsVj8cVCoXSj2ndurXat2+fiU8RAACg3mDCHbXBtm11795dX3/9taZPn6499tjDdCQA8BVWygAAdlhhYaGGDx+u6667TpMmTdKiRYs0YsQISdJJJ50kSTrssMPUpUsXDR48WHPmzNHbb7+tyy67TMOGDVNhYaEk6fTTT1c4HNaQIUO0YMECvfjii7rllls0cuRIVsoAAICsl55wp3DHDrIsSzvvvLP23HNPLViwQBKXqQJAXaFwBwDUilGjRunUU0/V4MGDtddee2nx4sV65513VFxcLKlq0ubVV19VJBJRv379dPLJJ+v444/X6NGj0++jqKhIb775ppYtW6Y+ffqopKREI0eO1MiRI019WgAAAHXGq16zx0oZ1JYWLVpor732kiTNnz9fqVTKcCIAyH6slAEA1IpgMKjRo0dvUaD/WPv27TVhwoRffT/dunXT5MmTazseAABAvceEOzKhoKBAkhSPxzV9+nT16tVLjkMdBACZwoQ7AAAAAAD1QM0Od61dKyUSZsMg6/Tq1UuFhYWaOnWqSktLTccBgKxF4Q4AAAAAQH3QrJk825blebJWrzadBlkmEAhojz320E477aTZs2ebjgMAWYvCHQAAAACA+iAQSE+5s8cdmWBZljp27Kg999xTkvTFF19wmSoA1DIKdwAAAAAA6ol04c4ed2RQ06ZNJUmrV6/WnDlzlEwmDScCgOxB4Q4AAAAAQD2RvjiVCXfUgb333lupVErTpk1TRUWF6TgAkBUo3AEAAAAAqCeYcEddCgaD6t27t5o0aaIZM2aYjgMAWYHCHQAAAACAeiI94U7hjjoSCAS0++67a5dddpEkLVu2zHAiAGjYKNwBAAAAAKgnuDQVprRt21aS9OWXX2rhwoVyXddwIgBomCjcAQAAAACoJ1gpA9P23ntvrVu3TrNmzVIikTAdBwAaHAp3AAAAAADqCSbcYVpubq723XdfBQIBTZ06VeXl5aYjAUCDQuEOAAAAAEA94bVqJVeWYus3yGO6GIY4jqNevXqpZcuW+vjjj03HAYAGxTEdAAAAAAAASEnX1bQyWzMPPFtloVw1m7RQ/Xt0VNfWBbIsy3Q8+IxlWercubNycnL06aefavHixerUqRP/LwLAb2DCHQAAAACAemDip6v1zJwVWtm0tSx5WvTdRj06fak+WVZmOhp8rFWrVpKkxYsXa8GCBVymCgC/gcIdAAAAAADD1pTHNPXrDWqUE1Q7xdS0YqN2VqWSrqf3/rdWSUpOGLb33ntr06ZN+vjjjxWLxUzHAYB6i8IdAAAAAADDVpXFtDGaVOO8oJSfJ0myyjepcV5IqzbFtLEyaTgh/C4SiWifffZROBzWjBkzTMcBgHqLwh0AAAAAAMPCjq2QbSmedOU1byG3TVt5kYhiyZRCdkARh+M7zLNtW927d1ebNm0kSWvXrjWcCADqH/7EBgAAAADAsJ2a5qh941wt2VCp2H77KXXmGdq8c2etK0+oR9tC5YUd0xEBSVWXqXbq1EmSFAwGDacBgPqHwh0AAAAAAMOcQEAn9Wqljo1ztWR9pb5YvVmrN8XUq32RDuvS3HQ84GcVFRWZjgAA9Q7/RA4AAAAAQD3QplGOLjpwJ/1v1WZtiiXVLD+kTk3zZAcs09EAAMBWonAHAAAAAKCeCDu2urUpNB0DAABsJ1bKAAAAAAAAAABQCyjcAQAAAAAAAACoBRTuAAAAAAAAAADUAgp3AAAAAAAAAABqAYU7AAAAAAAAAAC1gMIdAAAAAAAAAIBaQOEOAAAAAAAAAEAtoHAHAAAAAAAAAKAWULgDAAAAAAAAAFALKNwBAAAAAAAAAPj/9u4+WOu6zv/46zpw4MABjh4R5FY0WwVRhpvdFctJxK1oBK0MHSfadZvcnZ3NWruZmmqzcruZ3No2smVnG52GaGdy06md0bK1htU2BBQ0PaEmKApyY3A4N8A5h3P9/mhh44em1edw4XUejxlm5Lq+55zPxRfOuXxe3+vzLkBwBwAAAACAAgR3AAAAAAAoQHAHAAAAAIACBHcAAAAAAChAcAcAAAAAgAIEdwAAAAAAKEBwBwAAAACAAgR3AAAAAAAoQHAHAAAAAIACBHcAAAAAAChAcAcAAAAAgAIEdwAAAAAAKEBwBwAAAACAAgR3AAAAAAAoQHAHAAAAAIACBHcAAAAAAChAcAcAAAAAgAIEdwAAAAAAKEBwBwAAAACAAobWegEA8EocPHgwSVKtVlOtVmu8mhOTP5f64VzWD+eyvjif9cO5fPU7fA4H63PDwfiYAV4tBHcATnhtbW1505velCTp6enJgQMHaryiE0dfX196enrS29vrz6UOHDhwIP39/c5lHTh8Dp3L+tDf35+DBw86n3Wgr6/PuawTfX19SZK9e/dm5MiRNV5NbTQ2NtZ6CQC8CFvKAHBCa2try8KFC/OWt7yl1ks54VSr1WzatCmjR4/OmDFjar0c/kCHDh3Kzp07M3bs2FovhQIOHDiQ4cOH13oZFNLU1CTQ1olTTjklHR0d6erqqvVS+AMNHTo0kyZNSltb25H4Ptj09/e70h3gBOQKdwBOWIdj+5VXXplPf/rT+fjHP57Ro0enUqnUemknhM2bN+fAgQOZO3euK5zqwPbt2zNy5MiMHTvW3/E60NPTk+bmZv8268To0aPT1dXlfNaBxsbGTJgwIc8++2xmzpxZ6+XwB3rta1+bhx9+OI8//njOP//8Qfnzs6+vL0OHDh2Ujx3gRCW4A3BC+s3Y/pnPfCYNDQ1paWmp9bJOGLt27crWrVszd+7cDBs2rNbL4Q/U39+frVu35uyzz05Dgzcg1oP9+/dn5MiRAkidGDVqVHbu3Ol81onTTz89P/vZz9LV1ZVRo0bVejn8ASqVSmbOnJl169blqaeeyllnnVXrJR131Wr1SHQH4MTg/+gAOOG8WGzn/3R1deWxxx7L9OnThYI6sX379jQ2NtpOpo50dXUN2j2F61Fzc3O6u7vT399f66VQQFNTUyZMmJAtW7bUeikUMHTo0Jx//vnZtm1btm/fXuvl1MTh6G57GYATg5dAARhw1Wo1HR0dr+jYTZs25a1vfWuuuOKK3HDDDdm7d+9R9w/2LWX6+vry8MMPZ+LEiWltbR20e5bWk/7+/mzZsiXTpk3LoUOHar0cCunq6srw4cP9G60Th7eS6ejoSHNzc41XQwmTJk3K2rVr097e7pzWgWHDhmX69Ol59NFHM3z48EE728bzCIATg+AOwIDr6Oj4nbeD+frXv56vf/3rx9y+atUqV40m2bp1a7Zu3VrrZVDQpk2bsmnTplovg4I2btxY6yVQ2Pr162u9BApzTuvPhg0bar2EmvLOUIDaE9wBGHCjR49Oe3v7bz1m06ZNWbx4ca644op89KMf/a2fa7Be4b5ly5bs3Lkzs2fPNrivTlSr1axfvz4TJ07MxIkTa70cCuns7MzGjRtz4YUXDtrvV/Vo06ZNGT58eKZNm1brpVDIgQMHsnbt2syZM8dV7nWiWq3m8ccfT1dXV2bNmpUhQ4bUeknHXaVSSbVaTbVa9TMIoEYEdwAGXKVS+a1v7W1ra8vll1+epUuX2rP9JezatSvPPfdc5s6dmxEjRtR6ORSye/fu9PX1ZdKkSYMyCtSrAwcOpLm52QtjdWb06NHZu3evwYR1ZNSoUZkwYUKeffbZnHvuubVeDoVMnz49Dz30UJ588snMmDFjUEbn3xykOhgfP0CtKRoA1JQBqS/PkNT6VK1Ws2XLlkydOlVsrzPd3d22vqpDzc3N6erqqvUyKOz000/Prl27nNs60tDQkPPOOy979+7N008/Xevl1IxBqgC14/IMAIr5XYajJgakvhKGpNavvXv3pqurK+PGjXNe60xnZ2dGjRrlvNaZpqam7N+/PwcPHvQiWR1pbGzMuHHj8tRTT2X69Om1Xg6FNDQ05Nxzz82GDRsyYsSInHLKKbVeUs34WQRw/AnuABTz+wxHTQxIfSUMSa1fP/3pT2u9BAbA7t27s2XLllovgwFw//3313oJDJBdu3bVegkMgEcffbTWSzghNDQ0DPoLWQCOF8EdgGJeyXDUxIDUV8qQ1PrV0dGRjRs35k//9E+d2zpTrVZz//33Z/bs2YYw1qGNGzdm/PjxOe2002q9FArbtGlTqtVqzjnnnFovhcK2bNmSHTt2ZM6cOYP6Z25DQ4OtGwGOE8EdgGJebjhqYkDqK2VIan3bunVrJk2a5NzWoYMHD6a/vz+jRo2y7UgdGjVqVPbv329wah0688wzs2bNmvT09Hh3XZ15zWtek/379+cXv/hFZs2aNaifexqkCnB8DN6fNAAcdwakvjKGpNa3rq6u/OpXv8rUqVNrvRQGQFdXV5qamsT2OmVwav0aMWJExo8fbyuoOlSpVDJ9+vT09PTkySefrPVyasogVYDjw6UZAPxeDEgdGH19fdm4caMhqXVs8+bNGTduXIYMGeL81qGOjo6MGDHCua1TI0aMSEdHh/NbpyZPnpx169Zl8uTJrnKvQzNmzMhDDz2UpqamTJw4sdbLqSnfwwAGVqXqpU0Afg/79u37vQakvhQDUgEA4PhpaGjIwoULj7wrq6+vLz/60Y9y6aWXHrV11ovdfvi2Sy65JKNGjXLhDMBvcIU7AL8XA1LLMyS1/j3xxBPp6+vL9OnTa70UBsgjjzyS1tbWTJo0qdZLYYD87Gc/y/Tp04u+6MyJo7u7O+vXr8/cuXNdCFCntm3bli1btmT27NmDfpaKQaoAA0NwB+D3YkBqWYak1r+DBw9mx44dmTdvnoGLdWz//v0ZPXq0c1zHDg9OPeWUU2q9FAbAmDFjMn78+Dz33HNeHK1TU6dOzf79+9PW1pY5c+YM+u/XBqkClKd8ADAgDEh95QxJHRy2bt2a1tZW57iO9ff358CBA66KrXMGp9a/adOmZceOHdm/f3+tl8IAee1rX5uhQ4emra1t0A8QNUgVoDz1A4DixPZXrre3Nw8//HAmT56ccePG1Xo5DJDe3t4899xzOf3002u9FAZQd3d3GhoaMnz48FovhQE0atSodHZ21noZDKCRI0dm3Lhx2bJlS62XwgBpaGjIeeedl46OjmzevLnWy6k50R2grMH93ikAXpFqtZqOjo5XdOxv7tl+ww03ZO/evcccY7/2X6tWq/n5z3+epqamTJ06NX19fbVeEgPkmWeeyahRo9Lc3Ow817GOjo6MGDEihw4dqvVSGEBNTU3p7OxMb2+vn2V1bPLkyVm/fn0mT55sq7c6ValUcu655+ahhx7KiBEjcuqpp9Z6STXn5xdAGZWqlzABeBn79u0rOhxu1apVtlwAAIATTENDQy655JKj9rbv6+vLj370o1x66aVHbj982yWXXJJRo0Z5ARLgN7jCHYCXNXr06LS3t//WY37zyvaPfexjSX69n/FLfb7B/qR89+7d+cUvfpHZs2enubm51sthAD377LPZuXNnZs+ePej/3te7X/ziF2lqasq0adNqvRQG2AMPPJCzzjorra2ttV4KA6irqysPPvhg5s2b5yr3OvfMM89k27ZtmTNnToYNG1br5dRUpVJJtVpNtVr1vAXg9yS4A/CyKpVKxowZ85L3t7W15fLLL8/SpUvt2f4KdHV1ZdOmTZkxY0bRdw5w4unv78+zzz6bs88+O42NjbVeDgPswIEDGTt27FFXBVKfRo8enQMHDjjXda6lpSXjxo3Lc889l3POOafWy2EAnXHGGenu7k5bW1tmz5496J/LHt7TfejQoaI7wO9hcP8UAeAPZkDq78aQ1MFl+/btaWxszNixY2u9FI6D7u5u22UNEs3Nzenq6qr1MjgOpk2blueffz4HDhyo9VIYQJVKJdOnT09/f382bdpkeGgMUgX4Q7gkA4AkyerVq/PFL34x69aty/PPP59vfetbueyyy446ZtOmTfnkJz+Z+++/P/39/Zk2bVp27dqVt73tbbnhhhuyY8eOfPazn833vve9HDhwIG94wxvyxS9+MZMmTTryOfbu3ZuPfOQjueuuu5IkixYtyhe+8IVBcaW3IamDS39/f55++ulMnTrVELJBoKenJ319fRk2bJh/24NAU1NTdu/e7VwPAsOHD09ra2s2b96c1772tbVeDgNs+vTpeeihh/L0009n8uTJtV7OCcH3OYDfnaGpACRJ7rrrrtx77725+eabi33OGTNmpLu7O//4j/+YIUOGJEk+/elPZ/fu3fmbv/mbJMktt9yScePG5eMf/3ixrwsAAJTT0NCQhQsXHnlOb2gqwEtzhTsASX59pfmb3/zmfOITn0hLS8sxV7hfe+21aWxszL/+678eNSD1ox/9aJJk3759mTt3br70pS9l8eLFSZLOzs6cf/756e/vz4IFC7Jp06Y8+OCD+eEPf5h58+YlSWbPnp03velNmTBhQl1fOWZI6uBSrVazfv36TJgw4ah3eFC/tm/fnp07d2bWrFm1XgrHQX9/f+67777MmzfPNkKDxGOPPZbGxsa6fq7C/3n++efzy1/+MrNnz/Zv/H81NDTYOhLgFRLcATjiN4ejjhw58sh/9/f354c//GE+/OEP5y1veUv+53/+J6eeemouuuiitLa2JkkeeeSR9Pb2ZsmSJTn55JOTJK2trZkxY0bWrVuXN73pTXnwwQfT0tKSCy644MjXnD9/flpaWrJ+/fpMnz79OD/i48OQ1MHn8FYTkydPPnIlGPXt4MGDaW5uNkRzEBk1alQOHjz4W4eKUz/OPPPMrFu3LmeccUaamppqvRwG2OTJk7N///489thjmTdvnu/t/8sgVYBXxsuTALysnTt3prOzM5/73Ofy8MMPZ+nSpfnrv/7rLFu2LPfdd1+SZMeOHRk2bNiR2H7Yqaeemp07dx455sWGR44dOzY7duwY+AdSA4akDj7VajVbtmzJlClTxPZBxMDUwcfg1MFl1KhRGTt2bJ555plaL4Xj5KyzzkpTU1MeffRRg0P/l0GqAK+M4A4wCK1evTqLFy/OxIkTU6lUcueddx5zzFvf+tZUKpVUKpVMmDAhya+fZP/FX/xF/uVf/iV/+7d/mylTpuSKK67Iaaedlq9+9avHPPnes2dPHnvssaxcuTKTJ0/OHXfc8aJP0KvVal1eKVOtVvPYY49l5MiROfPMM2u9HI6TvXv3pru721Yyg4zgPvg0Nzens7Oz1svgOJo2bVq2bduWgwcP1nopHAeVSiXnnntu9u/fn1/+8pe1Xs4JQ3QHeHneFwUwCHV2duacc87JVVddlWXLlqW7uzv79u076pjzzz8/t99+e5Kkra0tl19+ec4///zccMMN2bt3bz72sY/lhRdeyOmnn54vf/nL+chHPpLe3t7s2LEjp5xySpLkL//yL7N3794sXbo0y5Yty7XXXptdu3alr6/vqK+1e/funHLKKcfc/mq3ZcuWdHV1Zfbs2Tl06FCtl8Nxsnnz5kycODFJ6u7vNC+uv78/3d3dGTZsmHM+iIwYMSLPP/+8cz6INDU15eSTT87mzZtz1lln1Xo5HAeVSiUzZszIQw89lBEjRmT8+PG1XtIJw3NbgJdWqXpZEmDQ2bdvX/G9xG+++eZ88IMfzJVXXpl3vvOd2bp1a9773vemUqnk7//+7zN79uysXr06X/rSl/KhD30or3vd65Ikjz/+eD784Q/na1/7miuCAQDgVaKhoSFveMMbMnr06Lp8tyrA70twBxiEqtVqOjo6kiQtLS351re+lYsvvjhPPfVUkuSiiy5KU1NTmpqaMmbMmEyYMCFXX311PvzhD+cf/uEfMnz48Lzvfe/LkCFDcvvtt+dP/uRPMnr06EybNi29vb1ZtWpV7r///nzxi1/MjBkz8t///d9H9rI++eSTM378+Hzzm99Mklx//fWZMmVKvvOd79TmD2MAHR4sxeDS39+fhga79gHUK9/nByfP645VqVTS1NRkZg3A/0dwBxjkKpVK7rjjjpx00klZsGDBMfdfcskleeGFF9LX15f3vve9ufnmm/P000+nr68vd9xxRy6//PIjxy5cuDA7duzI9u3b09HRkWHDhqWtrS1Tpkw5csxrXvOajBkz5shemEuWLMny5ctz0kknDfhjBQAAABhIXpYHIEly8cUXp1qtHvPrv/7rv3LXXXfl8ccfz6mnnponnngit912WxobG4+K7cmv31b6+te/Pi+88EJuvPHGTJo06ajYfviYq666Kvv27cu+ffuycuVKsR0AAACoC4I7QB1bvXp1Fi9enIkTJ6ZSqeTOO+98yWP/6q/+KpVKJf/0T/901O0HDx7MZz/72Rw6dChXX311lixZkiFDhqSnpyd79uxJkuzZsyfLli3Lvffem1tvvTXLli3LmDFjsmPHjmO+zq5duwycAgAAAOqS4A5Qx7q6ujJr1qwsX778tx63Zs2arFmzJhMnTjzmvve///25/fbbM2TIkHziE59IZ2dnbrrppjQ2Nuaee+5JklxzzTVZu3ZtkuTzn/98NmzYkNtvvz3t7e154IEHjvo67e3tufDCCws+SgAAAIATgz3cAQaJw3u1X3HFFens7MyTTz6ZJJk9e3ZaWlryjW98I+973/vy3ve+N7t27crb3/72NDc3Z86cOTnzzDPT3d2dtra2dHR0ZMqUKVm0aFE2btyYT33qU3n3u9+defPmpbe3N+vXr8/atWszf/78XHTRRWlvb8+KFSuSJNddd11OP/30fP/736/lHwUAAADAgDBiG2AQWrdu3VEDUtvb23PllVemubk5lUoljzzySL75zW9mz549OXToUObNm5cvfOELGT16dEaPHp2ZM2dm1qxZOeOMM3L99dcnSU477bTccsstGTJkSC644IK0tLTkHe94R9asWZM3vvGNSf5vQCoAAABAPRLcAQahwwNSP/e5z+XHP/5xfvCDH6RSqWTatGkZNmxYfvCDHyRJVq1alWuvvTarVq066uPHjx+f3bt3Z8WKFZkwYUJuu+22Y65aHzduXDo7O7Ny5crj9rgAAAAAaklwBxik1q9fn6985St58MEHU6lUfqePrVarR33Mi338/38MAAAAQL0zNBWgDqxevTqLFy/OxIkTU6lUcueddx51/4033pgkueqqq3LyySfn0ksvzcqVK7Nz585MnTo1Q4cOzdChQ/P000/n7/7u79LQ0JAlS5ZkyJAh6enpyZ49e5Ike/bsybJly3Lvvffm1ltvzbJlyzJmzJjs2LHjmDXt2rUr48ePH+iHDgAAAHDCENwB6kBXV1dmzZr1kvuj/9Ef/VGS5Ctf+Uruu+++TJs2Lf/2b/+Wn/zkJ9mwYUM2bNiQt7/97WloaMhVV12V//iP/0hnZ2duuummNDY25p577kmSXHPNNVm7dm2S5POf/3w2bNiQ22+/Pe3t7XnggQeOfL01a9akvb09F1544QA/cgAAAIATR6VarVZrvQgAyqlUKrnjjjtyxRVXpLOzM08++WSSZPbs2fnSl76UBQsWpLGxMTNnzsyPfvSjLFy4MO3t7Tn11FPT0tKSj33sY3n/+9+fbdu2ZcqUKVm0aFE2btyYT33qU3n3u9+defPmpbe3N+vXr8/atWszf/78XHTRRWlvb8+KFSuSJNddd11OP/30Y/Z1BwAAAKhn9nAHqGPr1q3LggULjvz+hhtuSJLMnTs3LS0tmTVrVpJf7+fe29ubESNGHDl24sSJmTlzZmbNmpUzzjgj119/fZLktNNOyy233JIhQ4bkggsuSEtLS97xjndkzZo1eeMb35gkWbJkyUtebQ8AAABQrwR3gDp28cUX5/Abmf7zP/8zV199dbq7u7N9+/bcc889GTt2bJLk+eefz7Bhw/LMM88c9fHjx4/P7t27s2LFikyYMCG33XbbMVetjxs3Lp2dnVm5cuXxeVAAAAAAJyh7uAO8yvy2Aam9vb1Jkve9731pbm7OxIkT8653vSvbtm3LggULsmHDhvz0pz/Nn/3Zn2XhwoVpbW1Nc3Nzbr755mO+zp49e/LII4/k1ltvTUtLS77zne/kxXYhq1arqVQqA/Z4AQAAAF4tBHeAV5nfNiC1u7s7SbJ06dI8+OCD+e53v5vHH388S5YsSXNzc84666xccMEFGTFiRLq7u/PWt7419913X6rVanp6erJ79+4jn+uaa67J3r17s2zZstx9993ZtWtXtmzZcszX3LVrV8aPHz9gjxcAAADg1UJwB3iVWbRoUW666aa87W1vO+a+lpaWJMnrXve6nH322bngggvy1a9+NevXrz+yXUx7e3u+8Y1vZOzYsZkyZUpmz56db3/720mSL3/5y0mStra23H333enp6cnSpUszf/783Hzzzenr68t3vvOdI19vzZo1aW9vz4UXXjjQDxsAAADghGcPd4A60NnZmSeffPLI7zdv3pwNGzaktbU1zz//fJLkiSeeSLVazV133ZXe3t7s3bs373jHO5Ik55xzTlpbW7N8+fJccsklWb16dYYMGZKZM2fm0ksvTZJcffXVWbZsWW644YZMmTIlSXLdddflsssuy9lnn32cHzEAAADAiadSfbENeQF4VahUKrnjjjty0kknZcGCBcfc/853vjOPPvpodu/enUOHDmX37t0ZOXJk2tvbs2bNmvzxH//xkWMXLlyYHTt2ZPv27eno6MiwYcPS1tZ2JK4nyWte85qMGTMmv/zlL5MkS5YsyfLly3PSSScN+GMFAAAAONHZUgagDlx88cWpVqtH/erp6UlHR0eS5Oc//3mee+65HDx4MF/72tfS2Nh4VGxPkoaGhrz+9a/PCy+8kBtvvDGTJk06KrYfPuaqq67Kvn37sm/fvqxcuVJsBwAAAPhfgjvACWr16tVZvHhxJk6cmEqlkjvvvPOo+7/73e8mSd71rnelUqlkw4YNR+7r7e3N0qVL89RTT2XOnDk588wz09zcnCVLlmTIkCHp6enJnj17kiR79uzJsmXLcu+99+bWW2/NsmXLMmbMmOzYseOYNRmQCgAAAPDSBHeAE1RXV1dmzZqV5cuXv+T9SbJs2bKjbj8c25944onMmTMnd999d/793/899913Xzo7O3PTTTelsbEx99xzT5Lkmmuuydq1a5Mkn//857Nhw4bcfvvtaW9vzwMPPHDk8xqQCgAAAPDbGZoKcIJatGhRFi1adMzthweknnfeeUmS1tbWJMn27dszc+bMXHnllXnwwQfz7W9/OwsWLMjy5cszc+bMtLa2ZuXKlZkyZUoWLVqUD3zgA+ns7Mzdd9+defPm5bzzzsv111+f+fPnZ/78+bnooovynve8JytWrEhiQCoAAADAyzE0FeBV4PBw1CuuuCI/+clPXnRA6uLFi/PP//zPOeOMM170c/z4xz/OxRdfnFmzZuWyyy7Lvn37cuutt6arqyuXXXZZbrnlliN7tp900kn5zGc+kzVr1uR73/teEgNSAQAAAF6OK9wBXmUOD0g9bMuWLTnjjDPy6U9/OtOmTTty36pVq3Lttdfm4MGDR338+PHjs3v37qxYsSITJkzIbbfdlu9///tHHTNu3Lh0dnZm5cqVA/+AAAAAAOqEPdwBBplqtZpKpXLk97/53y91DAAAAAAvT3AHqFOnnXZaenp6smfPnqNu37lzZ8aPH3/kmB07dhzzsbt27TpyDAAAAACvjOAOUKfmzp2bxsbG3HPPPUdu2759e37+85/nwgsvTJLMnz8/7e3teeCBB44cs2bNmrS3tx85BgAAAIBXxh7uACeozs7OPPnkk0d+v3nz5mzYsCGtra2ZOnVqfvWrX+WZZ57Jtm3bkiSbNm1K8uur1k877bS0tLTk3e9+dz7wgQ/klFNOSWtraz74wQ/mvPPOy6WXXpokmT59et785jfnPe95T1asWJEkue6663LZZZfl7LPPPs6PGAAAAODVrVL9zcl7AJwwfvKTn2TBggXH3P7nf/7nue2223Lbbbfl2muvPeb+T37yk7nxxhuTJAcOHMiHPvShrFq1Kvv378/ChQtzyy23ZMqUKUeO/9WvfpXrr78+3/ve95IkS5YsyfLly3PSSScNyOMCAAAAqFeCOwAAAAAAFGAPdwAAAAAAKEBwBwAAAACAAgR3AAAAAAAoQHAHAAAAAIACBHcAAAAAAChAcAcAAAAAgAIEdwAAAAAAKEBwBwAAAACAAgR3AAAAAAAoQHAHAAAAAIACBHcAAAAAAChAcAcAAAAAgAIEdwAAAAAAKEBwBwAAAACAAgR3AAAAAAAoQHAHAAAAAIACBHcAAAAAAChAcAcAAAAAgAIEdwAAAAAAKEBwBwAAAACAAgR3AAAAAAAoQHAHAAAAAIACBHcAAAAAAChAcAcAAAAAgAIEdwAAAAAAKEBwBwAAAACAAgR3AAAAAAAoQHAHAAAAAIACBHcAAAAAAChAcAcAAAAAgAIEdwAAAAAAKEBwBwAAAACAAgR3AAAAAAAoQHAHAAAAAIACBHcAAAAAAChAcAcAAAAAgAIEdwAAAAAAKEBwBwAAAACAAgR3AAAAAAAoQHAHAAAAAIACBHcAAAAAAChAcAcAAAAAgAIEdwAAAAAAKEBwBwAAAACAAgR3AAAAAAAoQHAHAAAAAIACBHcAAAAAAChAcAcAAAAAgAIEdwAAAAAAKEBwBwAAAACAAgR3AAAAAAAoQHAHAAAAAIACBHcAAAAAAChAcAcAAAAAgAIEdwAAAAAAKEBwBwAAAACAAgR3AAAAAAAoQHAHAAAAAIACBHcAAAAAAChAcAcAAAAAgAIEdwAAAAAAKEBwBwAAAACAAgR3AAAAAAAoQHAHAAAAAIACBHcAAAAAAChAcAcAAAAAgAIEdwAAAAAAKEBwBwAAAACAAgR3AAAAAAAoQHAHAAAAAIACBHcAAAAAAChAcAcAAAAAgAIEdwAAAAAAKEBwBwAAAACAAgR3AAAAAAAoQHAHAAAAAIACBHcAAAAAAChAcAcAAAAAgAIEdwAAAAAAKEBwBwAAAACAAgR3AAAAAAAoQHAHAAAAAIACBHcAAAAAAChAcAcAAAAAgAIEdwAAAAAAKEBwBwAAAACAAgR3AAAAAAAoQHAHAAAAAIACBHcAAAAAAChAcAcAAAAAgAIEdwAAAAAAKEBwBwAAAACAAgR3AAAAAAAoQHAHAAAAAIACBHcAAAAAAChAcAcAAAAAgAIEdwAAAAAAKEBwBwAAAACAAgR3AAAAAAAoQHAHAAAAAIACBHcAAAAAAChAcAcAAAAAgAIEdwAAAAAAKEBwBwAAAACAAgR3AAAAAAAoQHAHAAAAAIACBHcAAAAAAChAcAcAAAAAgAIEdwAAAAAAKEBwBwAAAACAAgR3AAAAAAAoQHAHAAAAAIACBHcAAAAAAChAcAcAAAAAgAIEdwAAAAAAKEBwBwAAAACAAgR3AAAAAAAoQHAHAAAAAIACBHcAAAAAAChAcAcAAAAAgAIEdwAAAAAAKEBwBwAAAACAAgR3AAAAAAAoQHAHAAAAAIACBHcAAAAAAChAcAcAAAAAgAIEdwAAAAAAKEBwBwAAAACAAgR3AAAAAAAoQHAHAAAAAIACBHcAAAAAAChAcAcAAAAAgAIEdwAAAAAAKEBwBwAAAACAAgR3AAAAAAAoQHAHAAAAAIACBHcAAAAAAChAcAcAAAAAgAIEdwAAAAAAKEBwBwAAAACAAgR3AAAAAAAoQHAHAAAAAIACBHcAAAAAAChAcAcAAAAAgAIEdwAAAAAAKEBwBwAAAACAAgR3AAAAAAAoQHAHAAAAAIACBHcAAAAAAChAcAcAAAAAgAIEdwAAAAAAKEBwBwAAAACAAgR3AAAAAAAoQHAHAAAAAIACBHcAAAAAAChAcAcAAAAAgAIEdwAAAAAAKEBwBwAAAACAAgR3AAAAAAAoQHAHAAAAAIACBHcAAAAAAChAcAcAAAAAgAIEdwAAAAAAKEBwBwAAAACAAgR3AAAAAAAoQHAHAAAAAIACBHcAAAAAAChAcAcAAAAAgAIEdwAAAAAAKEBwBwAAAACAAgR3AAAAAAAoQHAHAAAAAIACBHcAAAAAAChAcAcAAAAAgAIEdwAAAAAAKEBwBwAAAACAAgR3AAAAAAAoQHAHAAAAAIACBHcAAAAAAChAcAcAAAAAgAIEdwAAAAAAKEBwBwAAAACAAgR3AAAAAAAoQHAHAAAAAIACBHcAAAAAAChAcAcAAAAAgAIEdwAAAAAAKEBwBwAAAACAAgR3AAAAAAAoQHAHAAAAAIACBHcAAAAAAChAcAcAAAAAgAIEdwAAAAAAKEBwBwAAAACAAgR3AAAAAAAoQHAHAAAAAIACBHcAAAAAAChAcAcAAAAAgAIEdwAAAAAAKEBwBwAAAACAAgR3AAAAAAAoQHAHAAAAAIACBHcAAAAAAChAcAcAAAAAgAIEdwAAAAAAKEBwBwAAAACAAgR3AAAAAAAoQHAHAAAAAIACBHcAAAAAAChAcAcAAAAAgAIEdwAAAAAAKEBwBwAAAACAAgR3AAAAAAAoQHAHAAAAAIACBHcAAAAAAChAcAcAAAAAgAIEdwAAAAAAKEBwBwAAAACAAgR3AAAAAAAoQHAHAAAAAIACBHcAAAAAAChAcAcAAAAAgAIEdwAAAAAAKEBwBwAAAACAAgR3AAAAAAAoQHAHAAAAAIACBHcAAAAAAChAcAcAAAAAgAIEdwAAAAAAKEBwBwAAAACAAgR3AAAAAAAoQHAHAAAAAIACBHcAAAAAAChAcAcAAAAAgAIEdwAAAAAAKEBwBwAAAACAAgR3AAAAAAAoQHAHAAAAAIACBHcAAAAAAChAcAcAAAAAgAIEdwAAAAAAKEBwBwAAAACAAgR3AAAAAAAoQHAHAAAAAIACBHcAuo4oIAAAAyJJREFUAAAAAChAcAcAAAAAgAIEdwAAAAAAKEBwBwAAAACAAgR3AAAAAAAoQHAHAAAAAIACBHcAAAAAAChAcAcAAAAAgAIEdwAAAAAAKEBwBwAAAACAAgR3AAAAAAAoQHAHAAAAAIACBHcAAAAAAChAcAcAAAAAgAIEdwAAAAAAKEBwBwAAAACAAgR3AAAAAAAoQHAHAAAAAIACBHcAAAAAAChAcAcAAAAAgAIEdwAAAAAAKEBwBwAAAACAAgR3AAAAAAAoQHAHAAAAAIACBHcAAAAAAChAcAcAAAAAgAIEdwAAAAAAKEBwBwAAAACAAgR3AAAAAAAoQHAHAAAAAIACBHcAAAAAAChAcAcAAAAAgAIEdwAAAAAAKEBwBwAAAACAAgR3AAAAAAAoQHAHAAAAAIACBHcAAAAAAChAcAcAAAAAgAIEdwAAAAAAKEBwBwAAAACAAgR3AAAAAAAoQHAHAAAAAIACBHcAAAAAAChAcAcAAAAAgAIEdwAAAAAAKEBwBwAAAACAAgR3AAAAAAAoQHAHAAAAAIACBHcAAAAAAChAcAcAAAAAgAIEdwAAAAAAKEBwBwAAAACAAgR3AAAAAAAoQHAHAAAAAIACBHcAAAAAAChAcAcAAAAAgAIEdwAAAAAAKEBwBwAAAACAAgR3AAAAAAAoQHAHAAAAAIACBHcAAAAAAChAcAcAAAAAgAIEdwAAAAAAKEBwBwAAAACAAgR3AAAAAAAoQHAHAAAAAIACBHcAAAAAAChAcAcAAAAAgAIEdwAAAAAAKEBwBwAAAACAAgR3AAAAAAAoQHAHAAAAAIACBHcAAAAAAChAcAcAAAAAgAIEdwAAAAAAKEBwBwAAAACAAgR3AAAAAAAoQHAHAAAAAIACBHcAAAAAAChAcAcAAAAAgAIEdwAAAAAAKEBwBwAAAACAAgR3AAAAAAAoQHAHAAAAAIACBHcAAAAAAChAcAcAAAAAgAIEdwAAAAAAKEBwBwAAAACAAgR3AAAAAAAoQHAHAAAAAIACBHcAAAAAAChAcAcAAAAAgAIEdwAAAAAAKEBwBwAAAACAAv4f1xhOThHMsN8AAAAASUVORK5CYII=' width=1500.0/>\n",
       "            </div>\n",
       "        "
      ],
      "text/plain": [
       "Canvas(toolbar=Toolbar(toolitems=[('Home', 'Reset original view', 'home', 'home'), ('Back', 'Back to previous …"
      ]
     },
     "metadata": {},
     "output_type": "display_data"
    }
   ],
   "source": [
    "fig = plt.figure(figsize=(15,15))\n",
    "ax = plt.axes(projection='3d')\n",
    "\n",
    "ax.scatter3D(x_data, y_data, z_data)\n",
    "\n",
    "ax.plot3D([head_x, neck_x], [head_y, neck_y], [head_z, neck_z], 'r')\n",
    "\n",
    "ax.plot3D([neck_x, left_shoulder_x], [neck_y, left_shoulder_y], [neck_z, left_shoulder_z], 'r')\n",
    "ax.plot3D([neck_x, right_shoulder_x], [neck_y, right_shoulder_y], [neck_z, right_shoulder_z], 'r')\n",
    "\n",
    "ax.plot3D([left_shoulder_x, left_elbow_x], [left_shoulder_y, left_elbow_y], [left_shoulder_z, left_elbow_z], 'r')\n",
    "ax.plot3D([right_shoulder_x, right_elbow_x], [right_shoulder_y, right_elbow_y], [right_shoulder_z, right_elbow_z], 'r')\n",
    "\n",
    "ax.plot3D([left_elbow_x, left_hand_x], [left_elbow_y, left_hand_y], [left_elbow_z, left_hand_z], 'r')\n",
    "ax.plot3D([right_elbow_x, right_hand_x], [right_elbow_y, right_hand_y], [right_elbow_z, right_hand_z], 'r')\n",
    "\n",
    "ax.plot3D([left_shoulder_x, torso_x], [left_shoulder_y, torso_y], [left_shoulder_z, torso_z], 'r')\n",
    "ax.plot3D([right_shoulder_x, torso_x], [right_shoulder_y, torso_y], [right_shoulder_z, torso_z], 'r')\n",
    "\n",
    "ax.plot3D([torso_x, left_hip_x], [torso_y, left_hip_y], [torso_z, left_hip_z], 'r')\n",
    "ax.plot3D([torso_x, right_hip_x], [torso_y, right_hip_y], [torso_z, right_hip_z], 'r')\n",
    "\n",
    "ax.plot3D([left_shoulder_x, left_hip_x], [left_shoulder_y, left_hip_y], [left_shoulder_z, left_hip_z], 'r')\n",
    "ax.plot3D([right_shoulder_x, right_hip_x], [right_shoulder_y, right_hip_y], [right_shoulder_z, right_hip_z], 'r')\n",
    "\n",
    "ax.plot3D([left_hip_x, right_hip_x], [left_hip_y, right_hip_y], [left_hip_z, right_hip_z], 'r')\n",
    "\n",
    "ax.plot3D([left_hip_x, left_knee_x], [left_hip_y, left_knee_y], [left_hip_z, left_knee_z], 'r')\n",
    "ax.plot3D([right_hip_x, right_knee_x], [right_hip_y, right_knee_y], [right_hip_z, right_knee_z], 'r')\n",
    "\n",
    "ax.plot3D([left_knee_x, left_foot_x], [left_knee_y, left_foot_y], [left_knee_z, left_foot_z], 'r')\n",
    "ax.plot3D([right_knee_x, right_foot_x], [right_knee_y, right_foot_y], [right_knee_z, right_foot_z], 'r')\n",
    "\n",
    "ax.view_init(-90, 90)"
   ]
  },
  {
   "cell_type": "markdown",
   "id": "961f1c64-96c5-4277-a067-628a6a5fd8aa",
   "metadata": {
    "tags": []
   },
   "source": [
    "# Skeleton Drawing Function\n",
    "\n",
    "Make a function that takes a pandas series/row and draws a skeleton on a given figure.\n",
    "\n",
    "First a sequence to extract a set of responses, we need this mainly to just as an example of getting\n",
    "start and end time stamps for a desired set of subject experiment responses."
   ]
  },
  {
   "cell_type": "code",
   "execution_count": 20,
   "id": "d1b8facb-d47a-4576-b43c-839079ba9ff2",
   "metadata": {},
   "outputs": [
    {
     "name": "stdout",
     "output_type": "stream",
     "text": [
      "(48, 33)\n",
      "num responses:  48\n",
      "   start_time:  1636568904.4387438\n",
      "     end_time:  1636569044.0360768\n"
     ]
    }
   ],
   "source": [
    "# this sequence extracts a set of responses (button presses) for a given participant, posture and experiment block number\n",
    "data_file = '../data/response-joint-displacements.csv'\n",
    "subject_df = pd.read_csv(data_file)\n",
    "\n",
    "# variables to select a participant and a portion of their experiment, so can\n",
    "# extract start and stop time stamps\n",
    "participant = 3\n",
    "posture = 'standing'\n",
    "blockNum = 2\n",
    "\n",
    "mask = (subject_df.participant == participant) & (subject_df.posture == posture) & (subject_df.blockNum == blockNum)\n",
    "responses = subject_df[mask]\n",
    "num_responses = responses.shape[0]\n",
    "start_time = responses.iloc[0]['utcTime']\n",
    "end_time = responses.iloc[num_responses-1]['utcTime']\n",
    "\n",
    "# for a single block number should be 49 responses, 1 buffer and 48 subsequent trials.\n",
    "print(responses.shape)\n",
    "\n",
    "# extract start and end times for this set of responses\n",
    "num_responses = responses.shape[0]\n",
    "start_time = responses.iloc[0]['utcTime']\n",
    "end_time = responses.iloc[num_responses-1]['utcTime']\n",
    "print('num responses: ', num_responses)\n",
    "print('   start_time: ',  start_time)\n",
    "print('     end_time: ', end_time)"
   ]
  },
  {
   "cell_type": "markdown",
   "id": "8abdeedf-522c-42c7-8143-e73302df3361",
   "metadata": {},
   "source": [
    "Now extract kinect joint position information for this set of subject responses"
   ]
  },
  {
   "cell_type": "code",
   "execution_count": 21,
   "id": "1f98e392-4a2b-435b-b038-2c822b2040a5",
   "metadata": {},
   "outputs": [
    {
     "name": "stdout",
     "output_type": "stream",
     "text": [
      "number of joint position measurements:  (4180, 63)\n"
     ]
    }
   ],
   "source": [
    "file_pattern = '../data/%04d_*-joint-positions-displacements.csv' % participant\n",
    "file_list = glob.glob(file_pattern)\n",
    "data_file = file_list[0]\n",
    "\n",
    "joint_df = pd.read_csv(data_file)\n",
    "\n",
    "# create a timestamp as seconds since epoch, which matches the timestamp format from the subject responses\n",
    "joint_df['utcTime'] = joint_df.utcMicrosecondsSinceEpoch / 1000000.0\n",
    "\n",
    "\n",
    "# extract data frame of these kinect joint positions for the responses of interest\n",
    "mask = (joint_df.utcTime >= start_time) & (joint_df.utcTime <= end_time)\n",
    "positions = joint_df[mask]\n",
    "print('number of joint position measurements: ', positions.shape)"
   ]
  },
  {
   "cell_type": "markdown",
   "id": "27c1bb15-6700-42ca-bb3b-1f57e2ab4f56",
   "metadata": {},
   "source": [
    "At this point we have the desired kinect joint position measurements for a range of time for a given\n",
    "subject's responses.  We want to animate these joint positions.\n",
    "\n",
    "The following is a function that takes a single row and a 3D axis and plots the joint positions for that\n",
    "single row/sample on the 3D plot."
   ]
  },
  {
   "cell_type": "code",
   "execution_count": 22,
   "id": "7bda484c-0cb2-4b2f-82de-af0445bf9768",
   "metadata": {},
   "outputs": [],
   "source": [
    "def plot_skeleton(ax, joints):\n",
    "    \"\"\"We expect a Pandas series or dictionary like input of joint position\n",
    "    information.  The series has features for jointHeadX, jointHeadY, etc.\n",
    "    for the 15 joints.\n",
    "    \n",
    "    Parameters\n",
    "    ----------\n",
    "    ax - a 3D matplotlib axis on which to plot the joint positions\n",
    "    joints - A Pandas series or dictionary like object with joint positions\n",
    "       as features or keys of the expected names.\n",
    "       \n",
    "    Returns\n",
    "    -------\n",
    "    Nothing explicit is returned, but the joints are plotted on the given figure\n",
    "    axis.\n",
    "    \"\"\"\n",
    "    # extract joints into a set of variables for ease of use here\n",
    "    joint_names = [\n",
    "        'jointHeadX', 'jointHeadY', 'jointHeadZ',\n",
    "        'jointNeckX', 'jointHeadY', 'jointHeadZ',\n",
    "        'jointLeftShoulderX', 'jointLeftShoulderY', 'jointLeftShoulderZ',\n",
    "        'jointRightShoulderX', 'jointRightShoulderY', 'jointRightShoulderZ',\n",
    "        'jointLeftElbowX', 'jointLeftElbowY', 'jointLeftElbowZ',\n",
    "        'jointRightElbowX', 'jointRightElbowY', 'jointRightElbowZ',\n",
    "        'jointLeftHandX', 'jointLeftHandY', 'jointLeftHandZ', \n",
    "        'jointRightHandX', 'jointRightHandY', 'jointRightHandZ', \n",
    "        'jointTorsoX', 'jointTorsoY', 'jointTorsoZ', \n",
    "        'jointLeftHipX', 'jointLeftHipY', 'jointLeftHipZ',\n",
    "        'jointRightHipX', 'jointRightHipY', 'jointRightHipZ', \n",
    "        'jointLeftKneeX', 'jointLeftKneeY', 'jointLeftKneeZ',\n",
    "        'jointRightKneeX', 'jointRightKneeY', 'jointRightKneeZ',\n",
    "        'jointLeftFootX', 'jointLeftFootY', 'jointLeftFootZ',\n",
    "        'jointRightFootX', 'jointRightFootY', 'jointRightFootZ'\n",
    "    ]\n",
    "    (hx, hy, hz, \n",
    "     nx, ny, nz,\n",
    "     lsx, lsy, lsz,\n",
    "     rsx, rsy, rsz,\n",
    "     lex, ley, lez,\n",
    "     rex, rey, rez,\n",
    "     lhx, lhy, lhz,\n",
    "     rhx, rhy, rhz,\n",
    "     tx, ty, tz,\n",
    "     lpx, lpy, lpz,\n",
    "     rpx, rpy, rpz,\n",
    "     lkx, lky, lkz,\n",
    "     rkx, rky, rkz,\n",
    "     lfx, lfy, lfz,\n",
    "     rfx, rfy, rfz) = joints[joint_names]\n",
    "    \n",
    "    x_pos = np.array([hx, nx, lsx, rsx, lex, rex, lhx, rhx, tx, lpx, rpx, lkx, rkx, lfx, rfx])\n",
    "    y_pos = np.array([hy, ny, lsy, rsy, ley, rey, lhy, rhy, ty, lpy, rpy, lky, rky, lfy, rfy])\n",
    "    z_pos = np.array([hz, nz, lsz, rsz, lez, rez, lhz, rhz, tz, lpz, rpz, lkz, rkz, lfz, rfz])\n",
    "    \n",
    "    # first scatter plot the joint positions as blue circle markers\n",
    "    ax.scatter3D(x_pos, y_pos, z_pos, 'bo')"
   ]
  },
  {
   "cell_type": "code",
   "execution_count": 23,
   "id": "148845a4-8253-4585-b372-6f3604bbc028",
   "metadata": {},
   "outputs": [
    {
     "name": "stdout",
     "output_type": "stream",
     "text": [
      "<class 'pandas.core.series.Series'>\n",
      "Index(['userId', 'utcMicrosecondsSinceEpoch', 'jointHeadX', 'jointHeadY',\n",
      "       'jointHeadZ', 'jointNeckX', 'jointNeckY', 'jointNeckZ',\n",
      "       'jointLeftShoulderX', 'jointLeftShoulderY', 'jointLeftShoulderZ',\n",
      "       'jointRightShoulderX', 'jointRightShoulderY', 'jointRightShoulderZ',\n",
      "       'jointLeftElbowX', 'jointLeftElbowY', 'jointLeftElbowZ',\n",
      "       'jointRightElbowX', 'jointRightElbowY', 'jointRightElbowZ',\n",
      "       'jointLeftHandX', 'jointLeftHandY', 'jointLeftHandZ', 'jointRightHandX',\n",
      "       'jointRightHandY', 'jointRightHandZ', 'jointTorsoX', 'jointTorsoY',\n",
      "       'jointTorsoZ', 'jointLeftHipX', 'jointLeftHipY', 'jointLeftHipZ',\n",
      "       'jointRightHipX', 'jointRightHipY', 'jointRightHipZ', 'jointLeftKneeX',\n",
      "       'jointLeftKneeY', 'jointLeftKneeZ', 'jointRightKneeX',\n",
      "       'jointRightKneeY', 'jointRightKneeZ', 'jointLeftFootX',\n",
      "       'jointLeftFootY', 'jointLeftFootZ', 'jointRightFootX',\n",
      "       'jointRightFootY', 'jointRightFootZ', 'jointHeadDisplacement',\n",
      "       'jointNeckDisplacement', 'jointLeftShoulderDisplacement',\n",
      "       'jointRightShoulderDisplacement', 'jointLeftElbowDisplacement',\n",
      "       'jointRightElbowDisplacement', 'jointLeftHandDisplacement',\n",
      "       'jointRightHandDisplacement', 'jointTorsoDisplacement',\n",
      "       'jointLeftHipDisplacement', 'jointRightHipDisplacement',\n",
      "       'jointLeftKneeDisplacement', 'jointRightKneeDisplacement',\n",
      "       'jointLeftFootDisplacement', 'jointRightFootDisplacement', 'utcTime'],\n",
      "      dtype='object')\n"
     ]
    }
   ],
   "source": [
    "joints = positions.iloc[0]\n",
    "print(type(joints))\n",
    "print(joints.index)"
   ]
  },
  {
   "cell_type": "code",
   "execution_count": 24,
   "id": "ea283c9e-3047-4500-a68a-def3cc7da074",
   "metadata": {},
   "outputs": [
    {
     "data": {
      "application/vnd.jupyter.widget-view+json": {
       "model_id": "bb3d8f623ae740088a50dad4bfca430e",
       "version_major": 2,
       "version_minor": 0
      },
      "text/html": [
       "\n",
       "            <div style=\"display: inline-block;\">\n",
       "                <div class=\"jupyter-widgets widget-label\" style=\"text-align: center;\">\n",
       "                    Figure\n",
       "                </div>\n",
       "                <img src='data:image/png;base64,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' width=1000.0/>\n",
       "            </div>\n",
       "        "
      ],
      "text/plain": [
       "Canvas(toolbar=Toolbar(toolitems=[('Home', 'Reset original view', 'home', 'home'), ('Back', 'Back to previous …"
      ]
     },
     "metadata": {},
     "output_type": "display_data"
    }
   ],
   "source": [
    "fig = plt.figure(figsize=(10,10))\n",
    "ax = plt.axes(projection='3d')\n",
    "plot_skeleton(ax, joints)\n",
    "ax.view_init(-90, 90)"
   ]
  },
  {
   "cell_type": "code",
   "execution_count": null,
   "id": "6113b5aa-294a-4b4c-9289-954d4b4c7904",
   "metadata": {},
   "outputs": [],
   "source": []
  }
 ],
 "metadata": {
  "kernelspec": {
   "display_name": "Python 3 (ipykernel)",
   "language": "python",
   "name": "python3"
  },
  "language_info": {
   "codemirror_mode": {
    "name": "ipython",
    "version": 3
   },
   "file_extension": ".py",
   "mimetype": "text/x-python",
   "name": "python",
   "nbconvert_exporter": "python",
   "pygments_lexer": "ipython3",
   "version": "3.8.8"
  }
 },
 "nbformat": 4,
 "nbformat_minor": 5
}
