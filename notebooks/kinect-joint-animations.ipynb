{
 "cells": [
  {
   "cell_type": "code",
   "execution_count": 1,
   "id": "185c4585-674f-4c83-8f71-fbb734c729e6",
   "metadata": {},
   "outputs": [],
   "source": [
    "import pandas as pd\n",
    "import numpy as np\n",
    "import matplotlib.pyplot as plt\n",
    "from mpl_toolkits.mplot3d import Axes3D\n",
    "import glob"
   ]
  },
  {
   "cell_type": "code",
   "execution_count": 2,
   "id": "51cbf785-e69f-417f-82f0-1fbcf821c8a5",
   "metadata": {},
   "outputs": [],
   "source": [
    "%matplotlib widget"
   ]
  },
  {
   "cell_type": "markdown",
   "id": "e7e700db-6834-4cf3-b293-e36bdfb0bb76",
   "metadata": {},
   "source": [
    "# Preliminary\n",
    "\n",
    "Lets extract start and stop time stamps from a subject, then extract their kinect data, and try and plot it as a 3D plot."
   ]
  },
  {
   "cell_type": "code",
   "execution_count": 3,
   "id": "29baa34c-8988-44ca-8ea8-753b95ef9391",
   "metadata": {},
   "outputs": [
    {
     "ename": "FileNotFoundError",
     "evalue": "[Errno 2] No such file or directory: '../data/response-joint-displacements.csv'",
     "output_type": "error",
     "traceback": [
      "\u001b[0;31m---------------------------------------------------------------------------\u001b[0m",
      "\u001b[0;31mFileNotFoundError\u001b[0m                         Traceback (most recent call last)",
      "\u001b[0;32m/tmp/ipykernel_42516/2302821434.py\u001b[0m in \u001b[0;36m<module>\u001b[0;34m\u001b[0m\n\u001b[1;32m      1\u001b[0m \u001b[0mdata_file\u001b[0m \u001b[0;34m=\u001b[0m \u001b[0;34m'../data/response-joint-displacements.csv'\u001b[0m\u001b[0;34m\u001b[0m\u001b[0;34m\u001b[0m\u001b[0m\n\u001b[0;32m----> 2\u001b[0;31m \u001b[0msubject_df\u001b[0m \u001b[0;34m=\u001b[0m \u001b[0mpd\u001b[0m\u001b[0;34m.\u001b[0m\u001b[0mread_csv\u001b[0m\u001b[0;34m(\u001b[0m\u001b[0mdata_file\u001b[0m\u001b[0;34m)\u001b[0m\u001b[0;34m\u001b[0m\u001b[0;34m\u001b[0m\u001b[0m\n\u001b[0m",
      "\u001b[0;32m~/anaconda3/lib/python3.8/site-packages/pandas/util/_decorators.py\u001b[0m in \u001b[0;36mwrapper\u001b[0;34m(*args, **kwargs)\u001b[0m\n\u001b[1;32m    309\u001b[0m                     \u001b[0mstacklevel\u001b[0m\u001b[0;34m=\u001b[0m\u001b[0mstacklevel\u001b[0m\u001b[0;34m,\u001b[0m\u001b[0;34m\u001b[0m\u001b[0;34m\u001b[0m\u001b[0m\n\u001b[1;32m    310\u001b[0m                 )\n\u001b[0;32m--> 311\u001b[0;31m             \u001b[0;32mreturn\u001b[0m \u001b[0mfunc\u001b[0m\u001b[0;34m(\u001b[0m\u001b[0;34m*\u001b[0m\u001b[0margs\u001b[0m\u001b[0;34m,\u001b[0m \u001b[0;34m**\u001b[0m\u001b[0mkwargs\u001b[0m\u001b[0;34m)\u001b[0m\u001b[0;34m\u001b[0m\u001b[0;34m\u001b[0m\u001b[0m\n\u001b[0m\u001b[1;32m    312\u001b[0m \u001b[0;34m\u001b[0m\u001b[0m\n\u001b[1;32m    313\u001b[0m         \u001b[0;32mreturn\u001b[0m \u001b[0mwrapper\u001b[0m\u001b[0;34m\u001b[0m\u001b[0;34m\u001b[0m\u001b[0m\n",
      "\u001b[0;32m~/anaconda3/lib/python3.8/site-packages/pandas/io/parsers/readers.py\u001b[0m in \u001b[0;36mread_csv\u001b[0;34m(filepath_or_buffer, sep, delimiter, header, names, index_col, usecols, squeeze, prefix, mangle_dupe_cols, dtype, engine, converters, true_values, false_values, skipinitialspace, skiprows, skipfooter, nrows, na_values, keep_default_na, na_filter, verbose, skip_blank_lines, parse_dates, infer_datetime_format, keep_date_col, date_parser, dayfirst, cache_dates, iterator, chunksize, compression, thousands, decimal, lineterminator, quotechar, quoting, doublequote, escapechar, comment, encoding, encoding_errors, dialect, error_bad_lines, warn_bad_lines, on_bad_lines, delim_whitespace, low_memory, memory_map, float_precision, storage_options)\u001b[0m\n\u001b[1;32m    584\u001b[0m     \u001b[0mkwds\u001b[0m\u001b[0;34m.\u001b[0m\u001b[0mupdate\u001b[0m\u001b[0;34m(\u001b[0m\u001b[0mkwds_defaults\u001b[0m\u001b[0;34m)\u001b[0m\u001b[0;34m\u001b[0m\u001b[0;34m\u001b[0m\u001b[0m\n\u001b[1;32m    585\u001b[0m \u001b[0;34m\u001b[0m\u001b[0m\n\u001b[0;32m--> 586\u001b[0;31m     \u001b[0;32mreturn\u001b[0m \u001b[0m_read\u001b[0m\u001b[0;34m(\u001b[0m\u001b[0mfilepath_or_buffer\u001b[0m\u001b[0;34m,\u001b[0m \u001b[0mkwds\u001b[0m\u001b[0;34m)\u001b[0m\u001b[0;34m\u001b[0m\u001b[0;34m\u001b[0m\u001b[0m\n\u001b[0m\u001b[1;32m    587\u001b[0m \u001b[0;34m\u001b[0m\u001b[0m\n\u001b[1;32m    588\u001b[0m \u001b[0;34m\u001b[0m\u001b[0m\n",
      "\u001b[0;32m~/anaconda3/lib/python3.8/site-packages/pandas/io/parsers/readers.py\u001b[0m in \u001b[0;36m_read\u001b[0;34m(filepath_or_buffer, kwds)\u001b[0m\n\u001b[1;32m    480\u001b[0m \u001b[0;34m\u001b[0m\u001b[0m\n\u001b[1;32m    481\u001b[0m     \u001b[0;31m# Create the parser.\u001b[0m\u001b[0;34m\u001b[0m\u001b[0;34m\u001b[0m\u001b[0;34m\u001b[0m\u001b[0m\n\u001b[0;32m--> 482\u001b[0;31m     \u001b[0mparser\u001b[0m \u001b[0;34m=\u001b[0m \u001b[0mTextFileReader\u001b[0m\u001b[0;34m(\u001b[0m\u001b[0mfilepath_or_buffer\u001b[0m\u001b[0;34m,\u001b[0m \u001b[0;34m**\u001b[0m\u001b[0mkwds\u001b[0m\u001b[0;34m)\u001b[0m\u001b[0;34m\u001b[0m\u001b[0;34m\u001b[0m\u001b[0m\n\u001b[0m\u001b[1;32m    483\u001b[0m \u001b[0;34m\u001b[0m\u001b[0m\n\u001b[1;32m    484\u001b[0m     \u001b[0;32mif\u001b[0m \u001b[0mchunksize\u001b[0m \u001b[0;32mor\u001b[0m \u001b[0miterator\u001b[0m\u001b[0;34m:\u001b[0m\u001b[0;34m\u001b[0m\u001b[0;34m\u001b[0m\u001b[0m\n",
      "\u001b[0;32m~/anaconda3/lib/python3.8/site-packages/pandas/io/parsers/readers.py\u001b[0m in \u001b[0;36m__init__\u001b[0;34m(self, f, engine, **kwds)\u001b[0m\n\u001b[1;32m    809\u001b[0m             \u001b[0mself\u001b[0m\u001b[0;34m.\u001b[0m\u001b[0moptions\u001b[0m\u001b[0;34m[\u001b[0m\u001b[0;34m\"has_index_names\"\u001b[0m\u001b[0;34m]\u001b[0m \u001b[0;34m=\u001b[0m \u001b[0mkwds\u001b[0m\u001b[0;34m[\u001b[0m\u001b[0;34m\"has_index_names\"\u001b[0m\u001b[0;34m]\u001b[0m\u001b[0;34m\u001b[0m\u001b[0;34m\u001b[0m\u001b[0m\n\u001b[1;32m    810\u001b[0m \u001b[0;34m\u001b[0m\u001b[0m\n\u001b[0;32m--> 811\u001b[0;31m         \u001b[0mself\u001b[0m\u001b[0;34m.\u001b[0m\u001b[0m_engine\u001b[0m \u001b[0;34m=\u001b[0m \u001b[0mself\u001b[0m\u001b[0;34m.\u001b[0m\u001b[0m_make_engine\u001b[0m\u001b[0;34m(\u001b[0m\u001b[0mself\u001b[0m\u001b[0;34m.\u001b[0m\u001b[0mengine\u001b[0m\u001b[0;34m)\u001b[0m\u001b[0;34m\u001b[0m\u001b[0;34m\u001b[0m\u001b[0m\n\u001b[0m\u001b[1;32m    812\u001b[0m \u001b[0;34m\u001b[0m\u001b[0m\n\u001b[1;32m    813\u001b[0m     \u001b[0;32mdef\u001b[0m \u001b[0mclose\u001b[0m\u001b[0;34m(\u001b[0m\u001b[0mself\u001b[0m\u001b[0;34m)\u001b[0m\u001b[0;34m:\u001b[0m\u001b[0;34m\u001b[0m\u001b[0;34m\u001b[0m\u001b[0m\n",
      "\u001b[0;32m~/anaconda3/lib/python3.8/site-packages/pandas/io/parsers/readers.py\u001b[0m in \u001b[0;36m_make_engine\u001b[0;34m(self, engine)\u001b[0m\n\u001b[1;32m   1038\u001b[0m             )\n\u001b[1;32m   1039\u001b[0m         \u001b[0;31m# error: Too many arguments for \"ParserBase\"\u001b[0m\u001b[0;34m\u001b[0m\u001b[0;34m\u001b[0m\u001b[0;34m\u001b[0m\u001b[0m\n\u001b[0;32m-> 1040\u001b[0;31m         \u001b[0;32mreturn\u001b[0m \u001b[0mmapping\u001b[0m\u001b[0;34m[\u001b[0m\u001b[0mengine\u001b[0m\u001b[0;34m]\u001b[0m\u001b[0;34m(\u001b[0m\u001b[0mself\u001b[0m\u001b[0;34m.\u001b[0m\u001b[0mf\u001b[0m\u001b[0;34m,\u001b[0m \u001b[0;34m**\u001b[0m\u001b[0mself\u001b[0m\u001b[0;34m.\u001b[0m\u001b[0moptions\u001b[0m\u001b[0;34m)\u001b[0m  \u001b[0;31m# type: ignore[call-arg]\u001b[0m\u001b[0;34m\u001b[0m\u001b[0;34m\u001b[0m\u001b[0m\n\u001b[0m\u001b[1;32m   1041\u001b[0m \u001b[0;34m\u001b[0m\u001b[0m\n\u001b[1;32m   1042\u001b[0m     \u001b[0;32mdef\u001b[0m \u001b[0m_failover_to_python\u001b[0m\u001b[0;34m(\u001b[0m\u001b[0mself\u001b[0m\u001b[0;34m)\u001b[0m\u001b[0;34m:\u001b[0m\u001b[0;34m\u001b[0m\u001b[0;34m\u001b[0m\u001b[0m\n",
      "\u001b[0;32m~/anaconda3/lib/python3.8/site-packages/pandas/io/parsers/c_parser_wrapper.py\u001b[0m in \u001b[0;36m__init__\u001b[0;34m(self, src, **kwds)\u001b[0m\n\u001b[1;32m     49\u001b[0m \u001b[0;34m\u001b[0m\u001b[0m\n\u001b[1;32m     50\u001b[0m         \u001b[0;31m# open handles\u001b[0m\u001b[0;34m\u001b[0m\u001b[0;34m\u001b[0m\u001b[0;34m\u001b[0m\u001b[0m\n\u001b[0;32m---> 51\u001b[0;31m         \u001b[0mself\u001b[0m\u001b[0;34m.\u001b[0m\u001b[0m_open_handles\u001b[0m\u001b[0;34m(\u001b[0m\u001b[0msrc\u001b[0m\u001b[0;34m,\u001b[0m \u001b[0mkwds\u001b[0m\u001b[0;34m)\u001b[0m\u001b[0;34m\u001b[0m\u001b[0;34m\u001b[0m\u001b[0m\n\u001b[0m\u001b[1;32m     52\u001b[0m         \u001b[0;32massert\u001b[0m \u001b[0mself\u001b[0m\u001b[0;34m.\u001b[0m\u001b[0mhandles\u001b[0m \u001b[0;32mis\u001b[0m \u001b[0;32mnot\u001b[0m \u001b[0;32mNone\u001b[0m\u001b[0;34m\u001b[0m\u001b[0;34m\u001b[0m\u001b[0m\n\u001b[1;32m     53\u001b[0m \u001b[0;34m\u001b[0m\u001b[0m\n",
      "\u001b[0;32m~/anaconda3/lib/python3.8/site-packages/pandas/io/parsers/base_parser.py\u001b[0m in \u001b[0;36m_open_handles\u001b[0;34m(self, src, kwds)\u001b[0m\n\u001b[1;32m    220\u001b[0m         \u001b[0mLet\u001b[0m \u001b[0mthe\u001b[0m \u001b[0mreaders\u001b[0m \u001b[0mopen\u001b[0m \u001b[0mIOHandles\u001b[0m \u001b[0mafter\u001b[0m \u001b[0mthey\u001b[0m \u001b[0mare\u001b[0m \u001b[0mdone\u001b[0m \u001b[0;32mwith\u001b[0m \u001b[0mtheir\u001b[0m \u001b[0mpotential\u001b[0m \u001b[0mraises\u001b[0m\u001b[0;34m.\u001b[0m\u001b[0;34m\u001b[0m\u001b[0;34m\u001b[0m\u001b[0m\n\u001b[1;32m    221\u001b[0m         \"\"\"\n\u001b[0;32m--> 222\u001b[0;31m         self.handles = get_handle(\n\u001b[0m\u001b[1;32m    223\u001b[0m             \u001b[0msrc\u001b[0m\u001b[0;34m,\u001b[0m\u001b[0;34m\u001b[0m\u001b[0;34m\u001b[0m\u001b[0m\n\u001b[1;32m    224\u001b[0m             \u001b[0;34m\"r\"\u001b[0m\u001b[0;34m,\u001b[0m\u001b[0;34m\u001b[0m\u001b[0;34m\u001b[0m\u001b[0m\n",
      "\u001b[0;32m~/anaconda3/lib/python3.8/site-packages/pandas/io/common.py\u001b[0m in \u001b[0;36mget_handle\u001b[0;34m(path_or_buf, mode, encoding, compression, memory_map, is_text, errors, storage_options)\u001b[0m\n\u001b[1;32m    699\u001b[0m         \u001b[0;32mif\u001b[0m \u001b[0mioargs\u001b[0m\u001b[0;34m.\u001b[0m\u001b[0mencoding\u001b[0m \u001b[0;32mand\u001b[0m \u001b[0;34m\"b\"\u001b[0m \u001b[0;32mnot\u001b[0m \u001b[0;32min\u001b[0m \u001b[0mioargs\u001b[0m\u001b[0;34m.\u001b[0m\u001b[0mmode\u001b[0m\u001b[0;34m:\u001b[0m\u001b[0;34m\u001b[0m\u001b[0;34m\u001b[0m\u001b[0m\n\u001b[1;32m    700\u001b[0m             \u001b[0;31m# Encoding\u001b[0m\u001b[0;34m\u001b[0m\u001b[0;34m\u001b[0m\u001b[0;34m\u001b[0m\u001b[0m\n\u001b[0;32m--> 701\u001b[0;31m             handle = open(\n\u001b[0m\u001b[1;32m    702\u001b[0m                 \u001b[0mhandle\u001b[0m\u001b[0;34m,\u001b[0m\u001b[0;34m\u001b[0m\u001b[0;34m\u001b[0m\u001b[0m\n\u001b[1;32m    703\u001b[0m                 \u001b[0mioargs\u001b[0m\u001b[0;34m.\u001b[0m\u001b[0mmode\u001b[0m\u001b[0;34m,\u001b[0m\u001b[0;34m\u001b[0m\u001b[0;34m\u001b[0m\u001b[0m\n",
      "\u001b[0;31mFileNotFoundError\u001b[0m: [Errno 2] No such file or directory: '../data/response-joint-displacements.csv'"
     ]
    }
   ],
   "source": [
    "data_file = '../data/response-joint-displacements.csv'\n",
    "subject_df = pd.read_csv(data_file)"
   ]
  },
  {
   "cell_type": "code",
   "execution_count": null,
   "id": "e8d6ca4c-d0d3-494e-9d2e-f743025bfc57",
   "metadata": {},
   "outputs": [],
   "source": [
    "subject_df.describe()"
   ]
  },
  {
   "cell_type": "code",
   "execution_count": null,
   "id": "2c527dec-b192-45b2-b9e3-b94754289c5b",
   "metadata": {},
   "outputs": [],
   "source": [
    "subject_df.columns"
   ]
  },
  {
   "cell_type": "code",
   "execution_count": null,
   "id": "052b03ab-6101-48b4-9850-5ea0d9c5c80b",
   "metadata": {},
   "outputs": [],
   "source": [
    "subject_df.shape"
   ]
  },
  {
   "cell_type": "code",
   "execution_count": null,
   "id": "9a665e8b-78d6-4dbd-ac80-9427695e640b",
   "metadata": {},
   "outputs": [],
   "source": [
    "mask = (subject_df.participant == 1)\n",
    "subject_df[mask].shape"
   ]
  },
  {
   "cell_type": "code",
   "execution_count": null,
   "id": "eb1880e7-2969-4d14-9c0c-f6813598b4f3",
   "metadata": {},
   "outputs": [],
   "source": [
    "subject_df[mask].posture"
   ]
  },
  {
   "cell_type": "code",
   "execution_count": null,
   "id": "202531fc-8d4c-4260-8ba1-8783f2a4e57e",
   "metadata": {},
   "outputs": [],
   "source": [
    "# variables to select a participant and a portion of their experiment, so can\n",
    "# extract start and stop time stamps\n",
    "participant = 5\n",
    "posture = 'standing'\n",
    "blockNum = 2"
   ]
  },
  {
   "cell_type": "code",
   "execution_count": null,
   "id": "77cc1d39-9657-4359-a117-33523b88984a",
   "metadata": {},
   "outputs": [],
   "source": [
    "mask = (subject_df.participant == participant) & (subject_df.posture == posture) & (subject_df.blockNum == blockNum)\n",
    "responses = subject_df[mask]\n",
    "num_responses = responses.shape[0]\n",
    "start_time = responses.iloc[0]['utcTime']\n",
    "end_time = responses.iloc[num_responses-1]['utcTime']"
   ]
  },
  {
   "cell_type": "code",
   "execution_count": null,
   "id": "16fa71ce-7c37-4cb7-a3fd-ea72a54b06d7",
   "metadata": {},
   "outputs": [],
   "source": [
    "print(start_time)\n",
    "print(end_time)\n",
    "print(end_time - start_time)"
   ]
  },
  {
   "cell_type": "markdown",
   "id": "509d69b3-2f4c-448a-90c1-7915e69111f6",
   "metadata": {},
   "source": [
    "# Extract joint positions for time range\n",
    "\n",
    "Given start and end time, now extract the joint positions from the file of kinect data for this participant"
   ]
  },
  {
   "cell_type": "code",
   "execution_count": null,
   "id": "a2d2ffac-cbbe-4aaf-adda-a92a287afb10",
   "metadata": {},
   "outputs": [],
   "source": [
    "file_pattern = '../data/%04d_*-joint-positions-displacements.csv' % participant\n",
    "file_list = glob.glob(file_pattern)\n",
    "data_file = file_list[0]\n",
    "\n",
    "\n",
    "joint_df = pd.read_csv(data_file)\n",
    "joint_df['utcTime'] = joint_df.utcMillisecondsSinceEpoch / 1000.0"
   ]
  },
  {
   "cell_type": "code",
   "execution_count": null,
   "id": "ee14d81e-aaf5-456f-be89-c6e65d8b2c3b",
   "metadata": {},
   "outputs": [],
   "source": [
    "# extract data frame of these responses\n",
    "mask = (joint_df.utcTime >= start_time) & (joint_df.utcTime <= end_time)\n",
    "positions = joint_df[mask]\n",
    "print(positions.shape)"
   ]
  },
  {
   "cell_type": "code",
   "execution_count": null,
   "id": "8760e3da-136e-4a1b-953c-22590e433826",
   "metadata": {},
   "outputs": [],
   "source": [
    "positions.iloc[0][['jointHeadX', 'jointHeadY', 'jointHeadZ']]"
   ]
  },
  {
   "cell_type": "markdown",
   "id": "937a82c9-2a47-4328-a39e-5b84c7f9b32a",
   "metadata": {},
   "source": [
    "Lets try and make a 3D plot of first set of sampled joint positions"
   ]
  },
  {
   "cell_type": "code",
   "execution_count": null,
   "id": "4be97fa8-11f3-4401-89be-6886487166e9",
   "metadata": {},
   "outputs": [],
   "source": [
    "joint_list = [\n",
    "    'jointHead',\n",
    "    'jointNeck',\n",
    "    'jointLeftShoulder',\n",
    "    'jointRightShoulder',\n",
    "    'jointLeftElbow',\n",
    "    'jointRightElbow',\n",
    "    'jointLeftHand',\n",
    "    'jointRightHand',\n",
    "    'jointTorso',\n",
    "    'jointLeftHip',\n",
    "    'jointRightHip',\n",
    "    'jointLeftKnee',\n",
    "    'jointRightKnee',\n",
    "    'jointLeftFoot',\n",
    "    'jointRightFoot'\n",
    "]"
   ]
  },
  {
   "cell_type": "code",
   "execution_count": null,
   "id": "90bb3bf1-c028-422b-b8c4-e2c43232dee9",
   "metadata": {},
   "outputs": [],
   "source": [
    "x_data_list = ['%sX' % joint for joint in joint_list]\n",
    "y_data_list = ['%sY' % joint for joint in joint_list]\n",
    "z_data_list = ['%sZ' % joint for joint in joint_list]\n"
   ]
  },
  {
   "cell_type": "code",
   "execution_count": null,
   "id": "78fd312e-82f8-413f-9c37-19fee33bafa2",
   "metadata": {},
   "outputs": [],
   "source": [
    "x_data = positions.iloc[0][x_data_list]\n",
    "y_data = positions.iloc[0][y_data_list]\n",
    "z_data = positions.iloc[0][z_data_list]\n",
    "\n",
    "head_x = positions.iloc[0]['jointHeadX']\n",
    "head_y = positions.iloc[0]['jointHeadY']\n",
    "head_z = positions.iloc[0]['jointHeadZ']\n",
    "\n",
    "neck_x = positions.iloc[0]['jointNeckX']\n",
    "neck_y = positions.iloc[0]['jointNeckY']\n",
    "neck_z = positions.iloc[0]['jointNeckZ']\n",
    "\n",
    "left_shoulder_x = positions.iloc[0]['jointLeftShoulderX']\n",
    "left_shoulder_y = positions.iloc[0]['jointLeftShoulderY']\n",
    "left_shoulder_z = positions.iloc[0]['jointLeftShoulderZ']\n",
    "\n",
    "right_shoulder_x = positions.iloc[0]['jointRightShoulderX']\n",
    "right_shoulder_y = positions.iloc[0]['jointRightShoulderY']\n",
    "right_shoulder_z = positions.iloc[0]['jointRightShoulderZ']"
   ]
  },
  {
   "cell_type": "code",
   "execution_count": null,
   "id": "15e69869-c720-4106-800d-c93be980b755",
   "metadata": {},
   "outputs": [],
   "source": [
    "plt.scatter(x_data, y_data)\n",
    "plt.plot([head_x, neck_x], [head_y, neck_y], 'r')\n",
    "plt.plot([neck_x, left_shoulder_x], [neck_y, left_shoulder_y], 'r')\n",
    "plt.plot([neck_x, right_shoulder_x], [neck_y, right_shoulder_y], 'r')\n"
   ]
  },
  {
   "cell_type": "code",
   "execution_count": null,
   "id": "a3eefb2c-4ced-41bc-b32a-e9775e2f2953",
   "metadata": {},
   "outputs": [],
   "source": [
    "fig = plt.figure(figsize=(15,15))\n",
    "ax = plt.axes(projection='3d')\n",
    "ax.scatter3D(x_data, y_data, z_data)\n",
    "ax.plot3D([head_x, neck_x], [head_y, neck_y], [head_z, neck_z], 'r')\n",
    "ax.plot3D([neck_x, left_shoulder_x], [neck_y, left_shoulder_y], [neck_z, left_shoulder_z], 'r')\n",
    "ax.plot3D([neck_x, right_shoulder_x], [neck_y, right_shoulder_y], [neck_z, right_shoulder_z], 'r')"
   ]
  },
  {
   "cell_type": "code",
   "execution_count": null,
   "id": "aeab61df-936e-4573-a18c-896fab73a585",
   "metadata": {},
   "outputs": [],
   "source": []
  }
 ],
 "metadata": {
  "kernelspec": {
   "display_name": "Python 3 (ipykernel)",
   "language": "python",
   "name": "python3"
  },
  "language_info": {
   "codemirror_mode": {
    "name": "ipython",
    "version": 3
   },
   "file_extension": ".py",
   "mimetype": "text/x-python",
   "name": "python",
   "nbconvert_exporter": "python",
   "pygments_lexer": "ipython3",
   "version": "3.8.8"
  }
 },
 "nbformat": 4,
 "nbformat_minor": 5
}
